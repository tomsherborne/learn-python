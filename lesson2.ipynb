{
 "cells": [
  {
   "cell_type": "markdown",
   "metadata": {
    "collapsed": true
   },
   "source": [
    "## LSESU Applicable Maths Python Lesson 2\n",
    "###### 25/10/16"
   ]
  },
  {
   "cell_type": "markdown",
   "metadata": {},
   "source": [
    "Today we will be learning about\n",
    "* Functions\n",
    "* `import` and libraries"
   ]
  },
  {
   "cell_type": "markdown",
   "metadata": {},
   "source": [
    "#### Recap from last week"
   ]
  },
  {
   "cell_type": "markdown",
   "metadata": {},
   "source": [
    "* Variables\n",
    "```\n",
    "a = 1       # Integer variable\n",
    "b = 'hello' # String variable\n",
    "```\n",
    "* Math operations\n",
    "```\n",
    "c = 2*4\n",
    "d = 2**4\n",
    "e = 4%2\n",
    "f = 4/3 # What happens if I put // instead of / ?\n",
    "```\n",
    "* Logic operations\n",
    "```\n",
    "g = True and False\n",
    "h = True or False\n",
    "i = 'hello' in 'hello my name is tom'\n",
    "j = not True\n",
    "```\n",
    "\n",
    "* Conditional blocks\n",
    "\n",
    "```\n",
    "if a == 1:\n",
    "    print('True')\n",
    "else:\n",
    "    print('False')\n",
    "    \n",
    "while a < 5:\n",
    "    print(a)\n",
    "    a+=1\n",
    "    \n",
    "for i in range(0,5)\n",
    "    print(i)\n",
    "```"
   ]
  },
  {
   "cell_type": "markdown",
   "metadata": {},
   "source": [
    "## Functions"
   ]
  },
  {
   "cell_type": "markdown",
   "metadata": {},
   "source": [
    "A fundamental principle of programming is **Do Not Repeat Yourself**. This means that if you find yourself writing something which you have written before in the same program, then something is wrong with how you are designing your program. \n",
    "\n",
    "Functions are a way to \"encapsulate\" specific behaviour into a block which you can repeatedly use when only writing the code once. In fact you have already used 2 functions before when you used `range()` last week and `random.choice()` in the Give It a Go! session"
   ]
  },
  {
   "cell_type": "markdown",
   "metadata": {},
   "source": [
    "#### A bad program which tests if a number if a multiple of 2"
   ]
  },
  {
   "cell_type": "code",
   "execution_count": null,
   "metadata": {
    "collapsed": false
   },
   "outputs": [],
   "source": [
    "a = 4\n",
    "b = 8\n",
    "c = 9\n",
    "\n",
    "if a%2 == 0:\n",
    "    print('Multiple of 2')\n",
    "else:\n",
    "    print('Not a multiple of 2')\n",
    "    \n",
    "if b%2 == 0:\n",
    "    print('Multiple of 2')\n",
    "else:\n",
    "    print('Not a multiple of 2')\n",
    "\n",
    "if c%2 == 0:\n",
    "    print('Multiple of 2')\n",
    "else:\n",
    "    print('Not a multiple of 2')"
   ]
  },
  {
   "cell_type": "markdown",
   "metadata": {},
   "source": [
    "I am repeating myself here! Wouldn't it be better if we can write something once and use it multiple times?"
   ]
  },
  {
   "cell_type": "markdown",
   "metadata": {},
   "source": [
    "#### A better program"
   ]
  },
  {
   "cell_type": "code",
   "execution_count": null,
   "metadata": {
    "collapsed": true
   },
   "outputs": [],
   "source": [
    "# The def keyword is used to define a function\n",
    "\n",
    "# Num is a \"parameter\" of the function, what you give it to evaluate\n",
    "def is_multiple_of_2(num):\n",
    "    if num%2==0:\n",
    "        print('Multiple of 2')\n",
    "    else:\n",
    "        print('Not a multiple of 2')"
   ]
  },
  {
   "cell_type": "markdown",
   "metadata": {},
   "source": [
    "Now I can write some code which does the same thing 3 times without repeating myself"
   ]
  },
  {
   "cell_type": "code",
   "execution_count": null,
   "metadata": {
    "collapsed": false
   },
   "outputs": [],
   "source": [
    "# I can \"call\" the function I just wrote 3 times without repeating code\n",
    "is_multiple_of_2(a)\n",
    "is_multiple_of_2(b)\n",
    "is_multiple_of_2(c)"
   ]
  },
  {
   "cell_type": "markdown",
   "metadata": {},
   "source": [
    "This is good! But there is one more important feature of functions. The `return` statement is used with a function to give back something to the code which asked the function to run.\n",
    "\n",
    "In summary:\n",
    "* You define a function with `def` to place code in a reusable block and use it anywhere you need it\n",
    "* You specify function parameters (like `num`) to use inside the function.\n",
    "* You call the function with \"arguments\" which are the variables you created. Each time you call `is_multiple_of_2()`, the argument (here it is a, then b, then c) becomes equal to the parameter to use.\n",
    "* You can then use the `return` statement to give something back to the code which called the function."
   ]
  },
  {
   "cell_type": "markdown",
   "metadata": {},
   "source": [
    "#### An even better program"
   ]
  },
  {
   "cell_type": "code",
   "execution_count": null,
   "metadata": {
    "collapsed": true
   },
   "outputs": [],
   "source": [
    "def is_multiple_of_2_better(num):\n",
    "    if num%2==0:\n",
    "        return_string = 'Multiple of 2'\n",
    "    else:\n",
    "        return_string = 'Not a multiple of 2'\n",
    "    return return_string"
   ]
  },
  {
   "cell_type": "code",
   "execution_count": null,
   "metadata": {
    "collapsed": false
   },
   "outputs": [],
   "source": [
    "print(is_multiple_of_2_better(a))\n",
    "print(is_multiple_of_2_better(b))\n",
    "print(is_multiple_of_2_better(c))"
   ]
  },
  {
   "cell_type": "markdown",
   "metadata": {},
   "source": [
    "#### Wouldn't it be better if we could ask the function to check if the argument was a multiple of anything?"
   ]
  },
  {
   "cell_type": "code",
   "execution_count": null,
   "metadata": {
    "collapsed": true
   },
   "outputs": [],
   "source": [
    "def is_multiple(num,multiple):\n",
    "    if num%multiple==0:\n",
    "        return_string = 'Multiple'\n",
    "    else:\n",
    "        return_string = 'Not a multiple'\n",
    "    return return_string\n",
    "\n",
    "# Question - How could I make this even better?"
   ]
  },
  {
   "cell_type": "code",
   "execution_count": null,
   "metadata": {
    "collapsed": false
   },
   "outputs": [],
   "source": [
    "multiple = 2 # What happens if you change this to 3?\n",
    "\n",
    "print(is_multiple(a,multiple))\n",
    "print(is_multiple(b,multiple))\n",
    "print(is_multiple(c,multiple))"
   ]
  },
  {
   "cell_type": "markdown",
   "metadata": {},
   "source": [
    "Functions can have many arguments or none at all, when they might to the same thing every time "
   ]
  },
  {
   "cell_type": "code",
   "execution_count": null,
   "metadata": {
    "collapsed": true
   },
   "outputs": [],
   "source": [
    "def best_programming_language_ever():\n",
    "    lang = 'Python'\n",
    "    return lang"
   ]
  },
  {
   "cell_type": "code",
   "execution_count": null,
   "metadata": {
    "collapsed": false
   },
   "outputs": [],
   "source": [
    "a = best_programming_language_ever() # a is equal to whatever the function returns\n",
    "b = best_programming_language_ever()\n",
    "c = best_programming_language_ever()\n",
    "\n",
    "# TO DO - print a, b and c. You should find that they are all the same!\n",
    "\n",
    "\n",
    "\n"
   ]
  },
  {
   "cell_type": "markdown",
   "metadata": {},
   "source": [
    "You will see that this function does the same thing every time!"
   ]
  },
  {
   "cell_type": "code",
   "execution_count": null,
   "metadata": {
    "collapsed": true
   },
   "outputs": [],
   "source": [
    "# TO DO - Define a function which takes number a and number b,\n",
    "# and returns True if a > b and False if a <= b\n",
    "\n",
    "# I started you off with the first line (called the Function signature)\n",
    "def test(a, b):\n",
    "\n",
    "    \n",
    "    \n"
   ]
  },
  {
   "cell_type": "code",
   "execution_count": null,
   "metadata": {
    "collapsed": false
   },
   "outputs": [],
   "source": [
    "# Now write some code which uses this function called \"test\" with these variables\n",
    "a = 100\n",
    "b = 1000\n",
    "d = 'a'\n",
    "e = 'b'\n",
    "\n",
    "\n",
    "\n",
    "\n",
    "# END TO DO"
   ]
  },
  {
   "cell_type": "code",
   "execution_count": null,
   "metadata": {
    "collapsed": true
   },
   "outputs": [],
   "source": []
  }
 ],
 "metadata": {
  "anaconda-cloud": {},
  "kernelspec": {
   "display_name": "Python 3",
   "language": "python",
   "name": "python3"
  },
  "language_info": {
   "codemirror_mode": {
    "name": "ipython",
    "version": 3
   },
   "file_extension": ".py",
   "mimetype": "text/x-python",
   "name": "python",
   "nbconvert_exporter": "python",
   "pygments_lexer": "ipython3",
   "version": "3.5.2"
  }
 },
 "nbformat": 4,
 "nbformat_minor": 0
}
