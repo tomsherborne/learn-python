{
 "cells": [
  {
   "cell_type": "markdown",
   "metadata": {
    "collapsed": true
   },
   "source": [
    "## LSESU Applicable Maths Python Lesson 2\n",
    "###### 25/10/16"
   ]
  },
  {
   "cell_type": "markdown",
   "metadata": {},
   "source": [
    "Today we will be learning about\n",
    "* Functions\n",
    "* `import` and modules"
   ]
  },
  {
   "cell_type": "markdown",
   "metadata": {},
   "source": [
    "#### Recap from last week"
   ]
  },
  {
   "cell_type": "markdown",
   "metadata": {},
   "source": [
    "* Variables\n",
    "```\n",
    "a = 1       # Integer variable\n",
    "b = 'hello' # String variable\n",
    "```\n",
    "* Math operations\n",
    "```\n",
    "c = 2*4\n",
    "d = 2**4\n",
    "e = 4%2\n",
    "f = 4/3 # What happens if I put // instead of / ?\n",
    "```\n",
    "* Logic operations\n",
    "```\n",
    "g = True and False\n",
    "h = True or False\n",
    "i = 'hello' in 'hello my name is tom'\n",
    "j = not True\n",
    "```\n",
    "\n",
    "* Conditional blocks\n",
    "\n",
    "```\n",
    "if a == 1:\n",
    "    print('True')\n",
    "else:\n",
    "    print('False')\n",
    "    \n",
    "while a < 5:\n",
    "    print(a)\n",
    "    a+=1\n",
    "    \n",
    "for i in range(0,5)\n",
    "    print(i)\n",
    "```"
   ]
  },
  {
   "cell_type": "markdown",
   "metadata": {},
   "source": [
    "## Functions"
   ]
  },
  {
   "cell_type": "markdown",
   "metadata": {},
   "source": [
    "One of the principles of programming is **Do Not Repeat Yourself**. This means that if you find yourself writing something which you have written before in the same program, then something is wrong with how you are designing your program. \n",
    "\n",
    "Functions are a way to \"encapsulate\" specific behaviour into a block which you can repeatedly use when only writing the code once. In fact you have already used 2 functions before when you used `range()` last week and `random.choice()` in the Give It a Go! session"
   ]
  },
  {
   "cell_type": "markdown",
   "metadata": {},
   "source": [
    "#### A bad program which tests if a number if a multiple of 2"
   ]
  },
  {
   "cell_type": "code",
   "execution_count": 1,
   "metadata": {
    "collapsed": false
   },
   "outputs": [
    {
     "name": "stdout",
     "output_type": "stream",
     "text": [
      "Multiple of 2\n",
      "Multiple of 2\n",
      "Not a multiple of 2\n"
     ]
    }
   ],
   "source": [
    "a = 4\n",
    "b = 8\n",
    "c = 9\n",
    "\n",
    "if a%2 == 0:\n",
    "    print('Multiple of 2')\n",
    "else:\n",
    "    print('Not a multiple of 2')\n",
    "    \n",
    "if b%2 == 0:\n",
    "    print('Multiple of 2')\n",
    "else:\n",
    "    print('Not a multiple of 2')\n",
    "\n",
    "if c%2 == 0:\n",
    "    print('Multiple of 2')\n",
    "else:\n",
    "    print('Not a multiple of 2')"
   ]
  },
  {
   "cell_type": "markdown",
   "metadata": {},
   "source": [
    "I am repeating myself here! Wouldn't it be better if we can write something once and use it multiple times?"
   ]
  },
  {
   "cell_type": "markdown",
   "metadata": {},
   "source": [
    "#### A better program"
   ]
  },
  {
   "cell_type": "code",
   "execution_count": 2,
   "metadata": {
    "collapsed": true
   },
   "outputs": [],
   "source": [
    "# The def keyword is used to define a function\n",
    "\n",
    "# Num is a \"parameter\" of the function, the input you provide to evaluate\n",
    "def is_multiple_of_2(num):\n",
    "    if num%2==0:                     # Remember this is the modulus operator!\n",
    "        print('Multiple of 2')\n",
    "    else:\n",
    "        print('Not a multiple of 2')"
   ]
  },
  {
   "cell_type": "markdown",
   "metadata": {},
   "source": [
    "Now I can write some code which does the same thing 3 times without repeating myself"
   ]
  },
  {
   "cell_type": "code",
   "execution_count": 3,
   "metadata": {
    "collapsed": false
   },
   "outputs": [
    {
     "name": "stdout",
     "output_type": "stream",
     "text": [
      "Multiple of 2\n",
      "Multiple of 2\n",
      "Not a multiple of 2\n"
     ]
    }
   ],
   "source": [
    "# I can \"call\" the function I just wrote 3 times without repeating code\n",
    "is_multiple_of_2(a)\n",
    "is_multiple_of_2(b)\n",
    "is_multiple_of_2(c)"
   ]
  },
  {
   "cell_type": "markdown",
   "metadata": {},
   "source": [
    "This is good! But there is one more important feature of functions. The `return` statement is used with a function to give back something to the code which asked the function to run.\n",
    "\n",
    "In summary:\n",
    "* You define a function with `def` to place code in a reusable block and use it anywhere you need it\n",
    "* You specify function parameters (like `num`) to use inside the function.\n",
    "* You call the function with \"arguments\" which are the variables you created. Each time you call `is_multiple_of_2()`, the argument (here it is a, then b, then c) becomes equal to the parameter to use.\n",
    "* You can then use the `return` statement to give something back to the code which called the function."
   ]
  },
  {
   "cell_type": "markdown",
   "metadata": {},
   "source": [
    "#### An even better program"
   ]
  },
  {
   "cell_type": "code",
   "execution_count": 4,
   "metadata": {
    "collapsed": true
   },
   "outputs": [],
   "source": [
    "def is_multiple_of_2_better(num):\n",
    "    if num%2==0:\n",
    "        return_string = 'Multiple of 2'\n",
    "    else:\n",
    "        return_string = 'Not a multiple of 2'\n",
    "    return return_string"
   ]
  },
  {
   "cell_type": "code",
   "execution_count": 5,
   "metadata": {
    "collapsed": false
   },
   "outputs": [
    {
     "name": "stdout",
     "output_type": "stream",
     "text": [
      "Multiple of 2\n",
      "Multiple of 2\n",
      "Not a multiple of 2\n"
     ]
    }
   ],
   "source": [
    "print(is_multiple_of_2_better(a))\n",
    "print(is_multiple_of_2_better(b))\n",
    "print(is_multiple_of_2_better(c))"
   ]
  },
  {
   "cell_type": "markdown",
   "metadata": {},
   "source": [
    "#### Wouldn't it be better if we could ask the function to check if the argument was a multiple of anything?"
   ]
  },
  {
   "cell_type": "code",
   "execution_count": 6,
   "metadata": {
    "collapsed": true
   },
   "outputs": [],
   "source": [
    "def is_multiple(num,multiple):\n",
    "    if num%multiple==0:\n",
    "        return_string = 'Multiple'\n",
    "    else:\n",
    "        return_string = 'Not a multiple'\n",
    "    return return_string\n",
    "\n",
    "# Question - How could I make this even better?"
   ]
  },
  {
   "cell_type": "code",
   "execution_count": 7,
   "metadata": {
    "collapsed": false
   },
   "outputs": [
    {
     "name": "stdout",
     "output_type": "stream",
     "text": [
      "Multiple\n",
      "Multiple\n",
      "Not a multiple\n"
     ]
    }
   ],
   "source": [
    "multiple = 2 # What happens to the output if you change this to 3?\n",
    "\n",
    "print(is_multiple(a,multiple))\n",
    "print(is_multiple(b,multiple))\n",
    "print(is_multiple(c,multiple))"
   ]
  },
  {
   "cell_type": "markdown",
   "metadata": {},
   "source": [
    "Functions can have many arguments or none at all, when they might to the same thing every time "
   ]
  },
  {
   "cell_type": "code",
   "execution_count": 8,
   "metadata": {
    "collapsed": true
   },
   "outputs": [],
   "source": [
    "def best_programming_language_ever():\n",
    "    lang = 'Python'\n",
    "    return lang"
   ]
  },
  {
   "cell_type": "code",
   "execution_count": 9,
   "metadata": {
    "collapsed": false
   },
   "outputs": [],
   "source": [
    "a = best_programming_language_ever() # a is equal to whatever the function returns\n",
    "b = best_programming_language_ever()\n",
    "c = best_programming_language_ever()"
   ]
  },
  {
   "cell_type": "markdown",
   "metadata": {},
   "source": [
    "* **Question - print a, b and c. What do you see?**"
   ]
  },
  {
   "cell_type": "code",
   "execution_count": null,
   "metadata": {
    "collapsed": true
   },
   "outputs": [],
   "source": [
    "# TO DO\n",
    "\n",
    "\n",
    "\n",
    "# END TODO"
   ]
  },
  {
   "cell_type": "markdown",
   "metadata": {},
   "source": [
    "You will see that this function does the same thing every time!"
   ]
  },
  {
   "cell_type": "markdown",
   "metadata": {},
   "source": [
    "* **Question - Define a function which takes number a and number b,**\n",
    "**and returns True if a > b and False if a < b**"
   ]
  },
  {
   "cell_type": "code",
   "execution_count": 10,
   "metadata": {
    "collapsed": false
   },
   "outputs": [
    {
     "ename": "SyntaxError",
     "evalue": "unexpected EOF while parsing (<ipython-input-10-a5bde1a66374>, line 9)",
     "output_type": "error",
     "traceback": [
      "\u001b[0;36m  File \u001b[0;32m\"<ipython-input-10-a5bde1a66374>\"\u001b[0;36m, line \u001b[0;32m9\u001b[0m\n\u001b[0;31m    # END TODO\u001b[0m\n\u001b[0m              ^\u001b[0m\n\u001b[0;31mSyntaxError\u001b[0m\u001b[0;31m:\u001b[0m unexpected EOF while parsing\n"
     ]
    }
   ],
   "source": [
    "# TO DO \n",
    "\n",
    "# I started you off with the first line (called the Function signature)\n",
    "def my_function(a, b):\n",
    "\n",
    "    \n",
    "    \n",
    "\n",
    "# END TODO"
   ]
  },
  {
   "cell_type": "code",
   "execution_count": 11,
   "metadata": {
    "collapsed": false
   },
   "outputs": [],
   "source": [
    "# Now write some code which uses this function called my_function with these variable pairs\n",
    "a = 100\n",
    "b = 1000\n",
    "\n",
    "d = 'a'\n",
    "e = 'b'\n",
    "\n",
    "\n",
    "\n",
    "\n",
    "# END TO DO"
   ]
  },
  {
   "cell_type": "markdown",
   "metadata": {},
   "source": [
    "Functions can also have default parameters, meaning you can leave an argument blank when you call the function if you need to"
   ]
  },
  {
   "cell_type": "code",
   "execution_count": 12,
   "metadata": {
    "collapsed": true
   },
   "outputs": [],
   "source": [
    "def is_multiple_with_default(num,multiple=2):\n",
    "    if num%multiple==0:\n",
    "        return 'Multiple'\n",
    "    else:\n",
    "        return 'Not a multiple'"
   ]
  },
  {
   "cell_type": "code",
   "execution_count": 13,
   "metadata": {
    "collapsed": false,
    "scrolled": true
   },
   "outputs": [
    {
     "data": {
      "text/plain": [
       "'Not a multiple'"
      ]
     },
     "execution_count": 13,
     "metadata": {},
     "output_type": "execute_result"
    }
   ],
   "source": [
    "# Now if I dont specify what multiple is then it automatically checks for multiple of 2\n",
    "\n",
    "is_multiple_with_default(1)\n",
    "\n",
    "# Question - Can you break this function?"
   ]
  },
  {
   "cell_type": "code",
   "execution_count": 14,
   "metadata": {
    "collapsed": true
   },
   "outputs": [],
   "source": [
    "# We can provide an additional condition to make sure that the function doesn't break\n",
    "\n",
    "def is_multiple_with_default_better(num,multiple=2):\n",
    "    if multiple == 0:\n",
    "        return 'Zero argument for multiple not allowed'\n",
    "    elif num%multiple==0:\n",
    "        return 'Multiple'\n",
    "    else:\n",
    "        return 'Not a multiple'"
   ]
  },
  {
   "cell_type": "code",
   "execution_count": 15,
   "metadata": {
    "collapsed": false
   },
   "outputs": [
    {
     "data": {
      "text/plain": [
       "'Zero argument for multiple not allowed'"
      ]
     },
     "execution_count": 15,
     "metadata": {},
     "output_type": "execute_result"
    }
   ],
   "source": [
    "# Now the function is safe to use with 0 as multiple.\n",
    "\n",
    "is_multiple_with_default_better(2,0)"
   ]
  },
  {
   "cell_type": "markdown",
   "metadata": {},
   "source": [
    "* **Question - Rewrite my_function(a,b) to check if a==b first then evaluate the same as before**"
   ]
  },
  {
   "cell_type": "code",
   "execution_count": null,
   "metadata": {
    "collapsed": true
   },
   "outputs": [],
   "source": [
    "# TODO \n",
    "def my_function(a,b):\n",
    "\n",
    "    \n",
    "\n",
    "# END TODO"
   ]
  },
  {
   "cell_type": "code",
   "execution_count": 16,
   "metadata": {
    "collapsed": false
   },
   "outputs": [
    {
     "ename": "NameError",
     "evalue": "name 'test' is not defined",
     "output_type": "error",
     "traceback": [
      "\u001b[0;31m---------------------------------------------------------------------------\u001b[0m",
      "\u001b[0;31mNameError\u001b[0m                                 Traceback (most recent call last)",
      "\u001b[0;32m<ipython-input-16-8bd6c2479ee5>\u001b[0m in \u001b[0;36m<module>\u001b[0;34m()\u001b[0m\n\u001b[1;32m      1\u001b[0m \u001b[0;31m# Run this block to check if my_function() is working correctly\u001b[0m\u001b[0;34m\u001b[0m\u001b[0;34m\u001b[0m\u001b[0m\n\u001b[1;32m      2\u001b[0m \u001b[0;34m\u001b[0m\u001b[0m\n\u001b[0;32m----> 3\u001b[0;31m \u001b[0mprint\u001b[0m\u001b[0;34m(\u001b[0m\u001b[0mtest\u001b[0m\u001b[0;34m(\u001b[0m\u001b[0;36m1\u001b[0m\u001b[0;34m,\u001b[0m\u001b[0;36m2\u001b[0m\u001b[0;34m)\u001b[0m\u001b[0;34m)\u001b[0m\u001b[0;34m\u001b[0m\u001b[0m\n\u001b[0m\u001b[1;32m      4\u001b[0m \u001b[0mprint\u001b[0m\u001b[0;34m(\u001b[0m\u001b[0mtest\u001b[0m\u001b[0;34m(\u001b[0m\u001b[0;36m2\u001b[0m\u001b[0;34m,\u001b[0m\u001b[0;36m1\u001b[0m\u001b[0;34m)\u001b[0m\u001b[0;34m)\u001b[0m\u001b[0;34m\u001b[0m\u001b[0m\n\u001b[1;32m      5\u001b[0m \u001b[0mprint\u001b[0m\u001b[0;34m(\u001b[0m\u001b[0mtest\u001b[0m\u001b[0;34m(\u001b[0m\u001b[0;34m'a'\u001b[0m\u001b[0;34m,\u001b[0m\u001b[0;34m'b'\u001b[0m\u001b[0;34m)\u001b[0m\u001b[0;34m)\u001b[0m\u001b[0;34m\u001b[0m\u001b[0m\n",
      "\u001b[0;31mNameError\u001b[0m: name 'test' is not defined"
     ]
    }
   ],
   "source": [
    "# Run this block to check if my_function() is working correctly\n",
    "\n",
    "print(test(1,2))\n",
    "print(test(2,1))\n",
    "print(test('a','b'))\n",
    "print(test(50,50))"
   ]
  },
  {
   "cell_type": "markdown",
   "metadata": {},
   "source": [
    "### Using modules and `import`"
   ]
  },
  {
   "cell_type": "code",
   "execution_count": 17,
   "metadata": {
    "collapsed": true
   },
   "outputs": [],
   "source": [
    "# Remember this from the Give It a Go Session?\n",
    "\n",
    "import random"
   ]
  },
  {
   "cell_type": "markdown",
   "metadata": {},
   "source": [
    "* `random` is a library for random number generation and other randomness based tools. To use the `random` library you have to tell Python that you need it with the `import` statement. \n",
    "\n",
    "* `random` is one of the default libraries that comes with Python when you install it. To download more libraries from the web you can use the `pip` tool on the command line. \n",
    "\n",
    "* When you `import` any libraries, the `import` statement **must** be at the top of your file of code before you type anything else, otherwise the Python program doesn't know which libraries you are using.\n",
    "\n",
    "Python organises all external code blocks in the following way:\n",
    "\n",
    "-> `package - Top level, contains modules`\n",
    "\n",
    "    ↓\n",
    "    - module - .py files with functions\n",
    "    \n",
    "        ↓\n",
    "        - functions - functions inside modules which you call using the . operator\n",
    "        \n",
    "* Sometimes you can import modules directly, like `import random`, and with larger packages written by the open source community it is typical to download the whole package and `import` only the modules inside you want. Using too many packages you don't need slows down your code!\n",
    "\n",
    "Example:\n",
    "```\n",
    "import matplotlib.pyplot as plt\n",
    "```\n",
    "* `matplotlib` is the package\n",
    "* `pyplot` is the module you want\n",
    "* `plt` is the shorthand name you have given it"
   ]
  },
  {
   "cell_type": "code",
   "execution_count": 18,
   "metadata": {
    "collapsed": true
   },
   "outputs": [],
   "source": [
    "# To import random but call it something shorter (like rand) you can run\n",
    "\n",
    "import random as rand"
   ]
  },
  {
   "cell_type": "markdown",
   "metadata": {},
   "source": [
    "Remember when I said that everything is an object in Python? Python modules have an ID and a type just like variables. "
   ]
  },
  {
   "cell_type": "code",
   "execution_count": 19,
   "metadata": {
    "collapsed": false
   },
   "outputs": [
    {
     "name": "stdout",
     "output_type": "stream",
     "text": [
      "4333975016\n",
      "<class 'module'>\n"
     ]
    }
   ],
   "source": [
    "# Everything is a first class object!\n",
    "\n",
    "print(id(rand))\n",
    "print(type(rand))"
   ]
  },
  {
   "cell_type": "markdown",
   "metadata": {},
   "source": [
    "###### How do I use modules?"
   ]
  },
  {
   "cell_type": "markdown",
   "metadata": {},
   "source": [
    "A module itself is not a function, using the `.` operator you can access the functions `inside` the module. We did this when we used `random.choice()` during the info session. `choice()` is the function, inside the `random` module. \n",
    "\n",
    "A full list of the functions inside `random` can be found [here](https://docs.python.org/3.5/library/random.html). Learning to understand documentation for modules and packages is a good skill to develop when learning Python. I would recommend reading the `random` module documentation as practice."
   ]
  },
  {
   "cell_type": "markdown",
   "metadata": {},
   "source": [
    "* The most basic random function"
   ]
  },
  {
   "cell_type": "code",
   "execution_count": 20,
   "metadata": {
    "collapsed": false
   },
   "outputs": [
    {
     "data": {
      "text/plain": [
       "0.0872341167892815"
      ]
     },
     "execution_count": 20,
     "metadata": {},
     "output_type": "execute_result"
    }
   ],
   "source": [
    "# Random() is a function. You can tell by the parentheses ()\n",
    "\n",
    "rand.random()"
   ]
  },
  {
   "cell_type": "markdown",
   "metadata": {},
   "source": [
    "* Random module functions with parameters"
   ]
  },
  {
   "cell_type": "code",
   "execution_count": 21,
   "metadata": {
    "collapsed": false
   },
   "outputs": [
    {
     "data": {
      "text/plain": [
       "2"
      ]
     },
     "execution_count": 21,
     "metadata": {},
     "output_type": "execute_result"
    }
   ],
   "source": [
    "# randint(a,b) is a function in the random which selects a random integer x from a <= x <= b\n",
    "\n",
    "rand.randint(1,10)"
   ]
  },
  {
   "cell_type": "code",
   "execution_count": null,
   "metadata": {
    "collapsed": false
   },
   "outputs": [],
   "source": [
    "# Can you call randint() without using the rand. before it?\n",
    "\n",
    "# randint(1,10)\n",
    "\n",
    "# Question - Is there a way to make this line work?"
   ]
  },
  {
   "cell_type": "markdown",
   "metadata": {},
   "source": [
    "* You can use functions from modules inside other functions"
   ]
  },
  {
   "cell_type": "code",
   "execution_count": 22,
   "metadata": {
    "collapsed": false
   },
   "outputs": [],
   "source": [
    "def weather():\n",
    "    num = rand.random()\n",
    "    if num > 0.5:\n",
    "        return \"It's going to be sunny today!\"\n",
    "    else:\n",
    "        return \"It's going to rain today :(\""
   ]
  },
  {
   "cell_type": "code",
   "execution_count": 23,
   "metadata": {
    "collapsed": false
   },
   "outputs": [
    {
     "name": "stdout",
     "output_type": "stream",
     "text": [
      "It's going to rain today :(\n"
     ]
    }
   ],
   "source": [
    "# Now the weather function uses the random module to guess the weather\n",
    "\n",
    "print(weather())"
   ]
  },
  {
   "cell_type": "code",
   "execution_count": 24,
   "metadata": {
    "collapsed": false
   },
   "outputs": [
    {
     "name": "stdout",
     "output_type": "stream",
     "text": [
      "LSE\n",
      "['UCL', 'UAL']\n"
     ]
    }
   ],
   "source": [
    "# We used this function before\n",
    "\n",
    "uni = rand.choice(['LSE','UCL','Imperial'])\n",
    "print(uni)\n",
    "# We can use a different function to select 2 or more random universities\n",
    "\n",
    "multi_uni = rand.sample(['LSE','UCL','Imperial','Kings','Queen Mary','SOAS','UAL'],2)\n",
    "print(multi_uni)\n",
    "\n",
    "# The [] notation denotes a list, a data structure we will look at next week"
   ]
  },
  {
   "cell_type": "markdown",
   "metadata": {},
   "source": [
    "* **Final task - Write a function which randomly selects at least 3 integers, and returns a different string for each integer. You can select the range of random integers to choose between, but it will be more work if you choose a lot!**"
   ]
  },
  {
   "cell_type": "code",
   "execution_count": null,
   "metadata": {
    "collapsed": true
   },
   "outputs": [],
   "source": [
    "# TODO\n",
    "def random_string():\n",
    "    \n",
    "\n",
    "    \n"
   ]
  },
  {
   "cell_type": "code",
   "execution_count": null,
   "metadata": {
    "collapsed": true
   },
   "outputs": [],
   "source": [
    "# Now test your random_string function in this block\n",
    "\n",
    "\n",
    "# END TODO"
   ]
  }
 ],
 "metadata": {
  "anaconda-cloud": {},
  "kernelspec": {
   "display_name": "Python 3",
   "language": "python",
   "name": "python3"
  },
  "language_info": {
   "codemirror_mode": {
    "name": "ipython",
    "version": 3
   },
   "file_extension": ".py",
   "mimetype": "text/x-python",
   "name": "python",
   "nbconvert_exporter": "python",
   "pygments_lexer": "ipython3",
   "version": "3.5.2"
  }
 },
 "nbformat": 4,
 "nbformat_minor": 0
}
