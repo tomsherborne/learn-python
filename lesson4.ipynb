{
 "cells": [
  {
   "cell_type": "markdown",
   "metadata": {},
   "source": [
    "## LSESU Applicable Maths Python Lesson 4\n",
    "###### 15/11/16"
   ]
  },
  {
   "cell_type": "markdown",
   "metadata": {},
   "source": [
    "Today we will be learning about\n",
    "* Data Structures - Official documentation on Data Structures [here](https://docs.python.org/3/tutorial/datastructures.html#)\n",
    "    * Lists\n",
    "    * Tuples\n",
    "    * Dictionaries\n",
    "* Introduction to the Pandas library"
   ]
  },
  {
   "cell_type": "markdown",
   "metadata": {},
   "source": [
    "** Recap from Week 3**"
   ]
  },
  {
   "cell_type": "markdown",
   "metadata": {},
   "source": [
    "* Strings\n",
    "\n",
    "```\n",
    "day = input('Enter the day of the month you were born')\n",
    "month = input('Enter the month of the year you were born')\n",
    "year = input('Enter the year you were born')\n",
    "\n",
    "birthday = '{} / {} / {}'.format(day,month,year)\n",
    "print('Your birthday is \\n{}'.format(birthday))\n",
    "\n",
    "```\n",
    "* File I/O\n",
    "\n",
    "```\n",
    "file = open('test_data.txt','r') \n",
    "\n",
    "for line in file:\n",
    "    print(line)\n",
    "\n",
    "```\n",
    "\n",
    "* Lists\n",
    "\n",
    "```\n",
    "list1 = [1,2,3,4,5,6]\n",
    "\n",
    "for item in reversed(list1):\n",
    "    print(item)\n",
    "\n",
    "```\n",
    "\n",
    "* List comprehensions\n",
    "\n",
    "```\n",
    "squares = [x**2 for x in range(1,11)]\n",
    "```"
   ]
  },
  {
   "cell_type": "markdown",
   "metadata": {},
   "source": [
    "## Lists"
   ]
  },
  {
   "cell_type": "markdown",
   "metadata": {},
   "source": [
    "We met lists in lesson 3 and are briefly going to go over them again to get in the mindset of looking at data structures in Python. A data structure is a type of object in Python which stores information in some organised format. The format of this organisation dictates what the data structure is. There are buckets of different kinds of data structures, but when writing Python you will primarily be using lists, dictionaries and tuples."
   ]
  },
  {
   "cell_type": "code",
   "execution_count": null,
   "metadata": {
    "collapsed": false
   },
   "outputs": [],
   "source": [
    "# Remember we declare an empty list as so\n",
    "my_list = []\n",
    "\n",
    "# Add new elements to the end of a previous list\n",
    "my_list.append(1)\n",
    "my_list.append('Hello')\n",
    "my_list.append(0.05)\n",
    "\n",
    "# Delete specific elements\n",
    "del my_list[-1]            # Remove by index\n",
    "my_list.remove('Hello')         # Remove by value\n",
    "\n",
    "# Replace elements\n",
    "my_list[0] = 2"
   ]
  },
  {
   "cell_type": "code",
   "execution_count": null,
   "metadata": {
    "collapsed": false
   },
   "outputs": [],
   "source": [
    "# Or we can declare a whole, or part of, a list upon declaration\n",
    "shopping_list = ['bread','toothpaste','blueberries','milk']\n",
    "\n",
    "# Printing each element of a list\n",
    "for item in shopping_list:\n",
    "    print(item)\n",
    "    \n",
    "# Find the length of a list\n",
    "print('The shopping list has {} items'.format(len(shopping_list)))"
   ]
  },
  {
   "cell_type": "code",
   "execution_count": null,
   "metadata": {
    "collapsed": false
   },
   "outputs": [],
   "source": [
    "# We can test for membership in a list in the same fashion as a string\n",
    "if 'milk' in shopping_list:\n",
    "    print('You can\\'t drink milk!')\n",
    "    shopping_list.remove('milk')\n",
    "    \n",
    "if 'chocolate' not in shopping_list:\n",
    "    print('You forgot chocolate!')\n",
    "    shopping_list.append('chocolate')\n",
    "    \n",
    "print(shopping_list)"
   ]
  },
  {
   "cell_type": "markdown",
   "metadata": {},
   "source": [
    "Lists always have their order preserved in Python, so you can guarantee that `shopping_list[0]` will have the value `\"bread\"`"
   ]
  },
  {
   "cell_type": "markdown",
   "metadata": {},
   "source": [
    "## Tuples"
   ]
  },
  {
   "cell_type": "markdown",
   "metadata": {},
   "source": [
    "A tuple is another of the standard Python data strucure. They behave in a similar way to the list but have one key difference, they are **immutable**. Let's look at what this means.\n",
    "\n",
    "A more detailed intro to Tuples can be found [here](http://www.thomas-cokelaer.info/tutorials/python/tuples.html#tuples)"
   ]
  },
  {
   "cell_type": "code",
   "execution_count": null,
   "metadata": {
    "collapsed": false
   },
   "outputs": [],
   "source": [
    "# A tuple is declared with the curved brackets () instead of the [] for a list\n",
    "my_tuple = (1,2,'cat','dog')\n",
    "\n",
    "# But since a tuple is immutable the next line will not run\n",
    "my_tuple[0] = 4"
   ]
  },
  {
   "cell_type": "markdown",
   "metadata": {},
   "source": [
    "So what can we learn from this? **Once you declare a tuple, the object cannot be changed. **\n",
    "\n",
    "For this reason, tuples have more optimised methods when you use them so can be more efficient and faster in your code."
   ]
  },
  {
   "cell_type": "markdown",
   "metadata": {},
   "source": [
    "#### A closer look at using Tuples"
   ]
  },
  {
   "cell_type": "code",
   "execution_count": null,
   "metadata": {
    "collapsed": false
   },
   "outputs": [],
   "source": [
    "# A tuple might be immutable but can contain mutable objects\n",
    "my_list_tuple = ([1,2,3],[4,5,6])\n",
    "\n",
    "# This won't work\n",
    "# my_list_tuple[0] = [3,2,1]\n",
    "\n",
    "# But this will!\n",
    "my_list_tuple[0][0:3] = [3,2,1]\n",
    "\n",
    "print(my_list_tuple)"
   ]
  },
  {
   "cell_type": "code",
   "execution_count": null,
   "metadata": {
    "collapsed": false
   },
   "outputs": [],
   "source": [
    "# You can add tuples together\n",
    "t1 = (1,2,3)\n",
    "t1 += (4,5,6)\n",
    "print(t1)\n",
    "\n",
    "t2 = (10,20,30)\n",
    "t3 = (40,50,60)\n",
    "print(t2+t3)"
   ]
  },
  {
   "cell_type": "code",
   "execution_count": null,
   "metadata": {
    "collapsed": false
   },
   "outputs": [],
   "source": [
    "# Use index() and count() to look at a tuple\n",
    "t1 = (1,2,3,1,1,2)\n",
    "\n",
    "print(t1.index(2)) # Returns the first index of 2\n",
    "\n",
    "print(t1.count(1)) # Returns how many 1's are in the tuple"
   ]
  },
  {
   "cell_type": "code",
   "execution_count": null,
   "metadata": {
    "collapsed": false
   },
   "outputs": [],
   "source": [
    "# You can use tuples for multiple assignments and for multiple return from functions\n",
    "\n",
    "(x,y,z) = (1,2,3)\n",
    "print(x)\n",
    "\n",
    "\n",
    "# This is a basic function doing multiple return in Python\n",
    "def norm_and_square(a):\n",
    "    return a,a**2\n",
    "\n",
    "(a,b) = norm_and_square(4)\n",
    "\n",
    "print(a)\n",
    "print(b)"
   ]
  },
  {
   "cell_type": "code",
   "execution_count": null,
   "metadata": {
    "collapsed": false
   },
   "outputs": [],
   "source": [
    "# Swap items using tuples\n",
    "\n",
    "x = 10\n",
    "y = 20\n",
    "print('x is {} and y is {}'.format(x,y))\n",
    "\n",
    "(x,y) = (y,x)\n",
    "\n",
    "print('x is {} and y is {}'.format(x,y))"
   ]
  },
  {
   "cell_type": "markdown",
   "metadata": {},
   "source": [
    "#### Question - Write a function which swaps two elements using tuples"
   ]
  },
  {
   "cell_type": "code",
   "execution_count": null,
   "metadata": {
    "collapsed": true
   },
   "outputs": [],
   "source": [
    "# TO DO\n",
    "def my_swap_function(a,b):\n",
    "    # write here!\n",
    "    return b,a\n",
    "\n",
    "# END TO DO"
   ]
  },
  {
   "cell_type": "code",
   "execution_count": null,
   "metadata": {
    "collapsed": false
   },
   "outputs": [],
   "source": [
    "a = 1\n",
    "b = 2\n",
    "x = my_swap_function(a,b)\n",
    "print(x)"
   ]
  },
  {
   "cell_type": "markdown",
   "metadata": {},
   "source": [
    "## Dictionaries"
   ]
  },
  {
   "cell_type": "markdown",
   "metadata": {},
   "source": [
    "Dictionaries are perhaps the most useful and hardest to grasp data structure from the basic set in Python. Dictionaries are not iterable in the same sense as lists and tuples and using them required a different approach.\n",
    "\n",
    "Dictionaries are sometimes called _hash maps_, _hash tables_ or _maps_ in other programming languages. You can think of a dictionary as the same as a physical dictionary, it is a collection of key (the word) and value (the definition) pairs. \n",
    "\n",
    "Each key is unique and has an associated value, the key functions as the index for the value but it can be anything. In contrast to alphabetical dictionaries, the order of a Python dictionary is not guaranteed."
   ]
  },
  {
   "cell_type": "code",
   "execution_count": null,
   "metadata": {
    "collapsed": false
   },
   "outputs": [],
   "source": [
    "# Declare a dictionary using the {} brackets or the dict() method\n",
    "my_dict = {}\n",
    "\n",
    "# Add new items to the dictionary by stating the key as the index and the value\n",
    "my_dict['bananas'] = 'this is a fruit and a berry'\n",
    "my_dict['apples'] = 'this is a fruit'\n",
    "my_dict['avocados'] = 'this is a berry'\n",
    "\n",
    "print(my_dict)"
   ]
  },
  {
   "cell_type": "code",
   "execution_count": null,
   "metadata": {
    "collapsed": false
   },
   "outputs": [],
   "source": [
    "# So now we can use the key to get a value in the dictionary\n",
    "print(my_dict['bananas'])\n",
    "\n",
    "# But this won't work if we haven't added an item to the dict\n",
    "#print(my_dict['cherries'])\n",
    "\n",
    "# We can fix this line using the get(key,def) method. This is safer as you wont get KeyError!\n",
    "print(my_dict.get('cherries','Not found :('))"
   ]
  },
  {
   "cell_type": "code",
   "execution_count": null,
   "metadata": {
    "collapsed": false
   },
   "outputs": [],
   "source": [
    "# If you are given a dictionary data file you know nothing about you can inspect it like so\n",
    "\n",
    "# Get all the keys of a dictionary\n",
    "print(my_dict.keys())\n",
    "\n",
    "# Get all the values from a dictionary\n",
    "print(my_dict.values())\n",
    "\n",
    "# Of course you could print the whole dictionary, but it might be huge! These methods break\n",
    "# the dict down, but the downside is that you can't match up the keys and values!"
   ]
  },
  {
   "cell_type": "code",
   "execution_count": null,
   "metadata": {
    "collapsed": false
   },
   "outputs": [],
   "source": [
    "# Test for membership in the keys using the in operator\n",
    "\n",
    "if 'avocados' in my_dict:\n",
    "    print(my_dict['avocados'])\n",
    "    "
   ]
  },
  {
   "cell_type": "code",
   "execution_count": null,
   "metadata": {
    "collapsed": false
   },
   "outputs": [],
   "source": [
    "# Dictionary values can also be lists or other data structures\n",
    "my_lists = {}\n",
    "my_lists['shopping list'] = shopping_list\n",
    "my_lists['holidays'] = ['Munich','Naples','New York','Tokyo','San Francisco','Los Angeles']\n",
    "\n",
    "# Now my I store a dictionary with each list named with keys and the lists as values\n",
    "print(my_lists)"
   ]
  },
  {
   "cell_type": "markdown",
   "metadata": {},
   "source": [
    "Wrapping everything up, we can create a list of dictionaries with multiple fields and iterate over a dictionary"
   ]
  },
  {
   "cell_type": "code",
   "execution_count": null,
   "metadata": {
    "collapsed": false
   },
   "outputs": [],
   "source": [
    "# Declare a list\n",
    "europe = []\n",
    "\n",
    "# Create dicts and add to lists\n",
    "germany = {\"name\": \"Germany\", \"population\": 81000000,\"speak_german\":True}\n",
    "europe.append(germany)\n",
    "luxembourg = {\"name\": \"Luxembourg\", \"population\": 512000,\"speak_german\":True}\n",
    "europe.append(luxembourg)\n",
    "uk = {\"name\":\"United Kingdom\",\"population\":64100000,\"speak_german\":False}\n",
    "europe.append(uk)\n",
    "\n",
    "print(europe)\n",
    "print()\n",
    "\n",
    "for country in europe:\n",
    "    for key, value in country.items():\n",
    "        print('{}\\t{}'.format(key,value))\n",
    "    print()"
   ]
  },
  {
   "cell_type": "markdown",
   "metadata": {},
   "source": [
    "### Question - Add at least 3 more countries to the `europe` list and use a `for` loop to get a new list of every country which speaks German"
   ]
  },
  {
   "cell_type": "code",
   "execution_count": null,
   "metadata": {
    "collapsed": false
   },
   "outputs": [],
   "source": [
    "# TO DO - You might need more than just a for loop!\n",
    "\n",
    "# END TO DO "
   ]
  },
  {
   "cell_type": "markdown",
   "metadata": {},
   "source": [
    "## A peek at Pandas"
   ]
  },
  {
   "cell_type": "markdown",
   "metadata": {},
   "source": [
    "We've seen some of the standard library of Data structures in Python. We will briefly look at [Pandas](http://pandas.pydata.org/pandas-docs/stable/index.html) now, a powerful data manipulation library which is a sensible next step to organising your data when you need to use something more complex than standard Python data structures.\n",
    "\n",
    "The core of Pandas is the DataFrame, which will look familiar if you have worked with R before. This organises data in a table format and gives you spreadsheet like handling of your information. Using Pandas can make your job handling data easier, and many libraries for plotting data (such as Seaborn) can handle a Pandas DataFrame much easier than a list as input.\n",
    "\n",
    "*Note*: Pandas uses NumPy under the hood, another package for simplifying numerical operations and working with arrays. We will look at NumPy and Pandas together in 2 lessons time."
   ]
  },
  {
   "cell_type": "code",
   "execution_count": null,
   "metadata": {
    "collapsed": false
   },
   "outputs": [],
   "source": [
    "# We import the Pandas packages using the import statement we've seen before\n",
    "\n",
    "import pandas as pd"
   ]
  },
  {
   "cell_type": "code",
   "execution_count": null,
   "metadata": {
    "collapsed": false
   },
   "outputs": [],
   "source": [
    "# To create a Pandas DataFrame from a simpler data structure we use the following routine\n",
    "\n",
    "europe_df = pd.DataFrame.from_dict(europe)\n",
    "\n",
    "print(type(europe_df))"
   ]
  },
  {
   "cell_type": "code",
   "execution_count": null,
   "metadata": {
    "collapsed": false
   },
   "outputs": [],
   "source": [
    "# Running this cell as is provides the fancy formatting of Pandas which can prove useful.\n",
    "\n",
    "europe_df"
   ]
  },
  {
   "cell_type": "markdown",
   "metadata": {},
   "source": [
    "Run the previous block now. Here we can see how our list of dictionaries was converted to a DataFrame. Each dictionary became a row, each key became a column and the values became the data inside the object.\n",
    "\n",
    "That's all on Pandas for now! For a quick tutorial on using Pandas you can check [this link](https://www.datacamp.com/community/tutorials/pandas-tutorial-dataframe-python#gs.SVv7Puk) out. We'll come back to this in the future, we just have to look at Object Oriented Programming and Classes first!"
   ]
  }
 ],
 "metadata": {
  "kernelspec": {
   "display_name": "Python 3",
   "language": "python",
   "name": "python3"
  },
  "language_info": {
   "codemirror_mode": {
    "name": "ipython",
    "version": 3
   },
   "file_extension": ".py",
   "mimetype": "text/x-python",
   "name": "python",
   "nbconvert_exporter": "python",
   "pygments_lexer": "ipython3",
   "version": "3.5.2"
  }
 },
 "nbformat": 4,
 "nbformat_minor": 0
}
