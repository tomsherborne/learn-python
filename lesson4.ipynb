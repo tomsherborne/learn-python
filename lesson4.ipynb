{
 "cells": [
  {
   "cell_type": "markdown",
   "metadata": {},
   "source": [
    "## LSESU Applicable Maths Python Lesson 4\n",
    "###### 15/11/16"
   ]
  },
  {
   "cell_type": "markdown",
   "metadata": {},
   "source": [
    "Today we will be learning about\n",
    "* Data Structures - Official documentation on Data Structures [here](https://docs.python.org/3/tutorial/datastructures.html#)\n",
    "    * Lists\n",
    "    * Tuples\n",
    "    * Dictionaries\n",
    "* Dictionary comprehensions\n",
    "* Introduction to the Pandas library"
   ]
  },
  {
   "cell_type": "markdown",
   "metadata": {},
   "source": [
    "** Recap from Week 3**"
   ]
  },
  {
   "cell_type": "markdown",
   "metadata": {},
   "source": [
    "* Strings\n",
    "\n",
    "```\n",
    "day = input('Enter the day of the month you were born')\n",
    "month = input('Enter the month of the year you were born')\n",
    "year = input('Enter the year you were born')\n",
    "\n",
    "birthday = '{} / {} / {}'.format(day,month,year)\n",
    "print('Your birthday is \\n{}'.format(birthday))\n",
    "\n",
    "```\n",
    "* File I/O\n",
    "\n",
    "```\n",
    "file = open('test_data.txt','r') \n",
    "\n",
    "for line in file:\n",
    "    print(line)\n",
    "\n",
    "```\n",
    "\n",
    "* Lists\n",
    "\n",
    "```\n",
    "list1 = [1,2,3,4,5,6]\n",
    "\n",
    "for item in reversed(list1):\n",
    "    print(item)\n",
    "\n",
    "```\n",
    "\n",
    "* List comprehensions\n",
    "\n",
    "```\n",
    "squares = [x**2 for x in range(1,11)]\n",
    "```"
   ]
  },
  {
   "cell_type": "markdown",
   "metadata": {},
   "source": [
    "## Lists"
   ]
  },
  {
   "cell_type": "markdown",
   "metadata": {},
   "source": [
    "We met lists in lesson 3 and are briefly going to go over them again to get in the mindset of looking at data structures in Python. A data structure is a type of object in Python which stores information in some organised format. The format of this organisation dictates what the data structure is. There are buckets of different kinds of data structures, but when writing Python you will primarily be using lists, dictionaries and tuples."
   ]
  },
  {
   "cell_type": "code",
   "execution_count": 6,
   "metadata": {
    "collapsed": false
   },
   "outputs": [],
   "source": [
    "# Remember we declare an empty list as so\n",
    "my_list = []\n",
    "\n",
    "# Add new elements to the end of a previous list\n",
    "my_list.append(1)\n",
    "my_list.append('Hello')\n",
    "my_list.append(0.05)\n",
    "\n",
    "# Delete specific elements\n",
    "del my_list[-1]            # Remove by index\n",
    "my_list.remove('Hello')         # Remove by value\n",
    "\n",
    "# Replace elements\n",
    "my_list[0] = 2"
   ]
  },
  {
   "cell_type": "code",
   "execution_count": 16,
   "metadata": {
    "collapsed": false
   },
   "outputs": [
    {
     "name": "stdout",
     "output_type": "stream",
     "text": [
      "bread\n",
      "toothpaste\n",
      "blueberries\n",
      "milk\n",
      "The shopping list has 4 items\n"
     ]
    }
   ],
   "source": [
    "# Or we can declare a whole, or part of, a list upon declaration\n",
    "shopping_list = ['bread','toothpaste','blueberries','milk']\n",
    "\n",
    "# Printing each element of a list\n",
    "for item in shopping_list:\n",
    "    print(item)\n",
    "    \n",
    "# Find the length of a list\n",
    "print('The shopping list has {} items'.format(len(shopping_list)))"
   ]
  },
  {
   "cell_type": "code",
   "execution_count": 15,
   "metadata": {
    "collapsed": false
   },
   "outputs": [
    {
     "name": "stdout",
     "output_type": "stream",
     "text": [
      "['bread', 'toothpaste', 'blueberries', 'chocolate']\n"
     ]
    }
   ],
   "source": [
    "# We can test for membership in a list in the same fashion as a string\n",
    "if 'milk' in shopping_list:\n",
    "    print('You can\\'t drink milk!')\n",
    "    shopping_list.remove('milk')\n",
    "    \n",
    "if 'chocolate' not in shopping_list:\n",
    "    print('You forgot chocolate!')\n",
    "    shopping_list.append('chocolate')\n",
    "    \n",
    "print(shopping_list)"
   ]
  },
  {
   "cell_type": "markdown",
   "metadata": {},
   "source": [
    "Lists always have their order preserved in Python, so you can guarantee that `shopping_list[0]` will have the value `\"bread\"`"
   ]
  },
  {
   "cell_type": "markdown",
   "metadata": {},
   "source": [
    "## Tuples"
   ]
  },
  {
   "cell_type": "markdown",
   "metadata": {},
   "source": [
    "A tuple is another of the standard Python data strucure. They behave in a similar way to the list but have one key difference, they are **immutable**. Let's look at what this means.\n",
    "\n",
    "A more detailed intro to Tuples can be found [here](http://www.thomas-cokelaer.info/tutorials/python/tuples.html#tuples)"
   ]
  },
  {
   "cell_type": "code",
   "execution_count": 20,
   "metadata": {
    "collapsed": false
   },
   "outputs": [
    {
     "ename": "TypeError",
     "evalue": "'tuple' object does not support item assignment",
     "output_type": "error",
     "traceback": [
      "\u001b[0;31m---------------------------------------------------------------------------\u001b[0m",
      "\u001b[0;31mTypeError\u001b[0m                                 Traceback (most recent call last)",
      "\u001b[0;32m<ipython-input-20-f280574f5c8f>\u001b[0m in \u001b[0;36m<module>\u001b[0;34m()\u001b[0m\n\u001b[1;32m      3\u001b[0m \u001b[0;34m\u001b[0m\u001b[0m\n\u001b[1;32m      4\u001b[0m \u001b[0;31m# But since a tuple is immutable the next line will not run\u001b[0m\u001b[0;34m\u001b[0m\u001b[0;34m\u001b[0m\u001b[0m\n\u001b[0;32m----> 5\u001b[0;31m \u001b[0mmy_tuple\u001b[0m\u001b[0;34m[\u001b[0m\u001b[0;36m0\u001b[0m\u001b[0;34m]\u001b[0m \u001b[0;34m=\u001b[0m \u001b[0;36m4\u001b[0m\u001b[0;34m\u001b[0m\u001b[0m\n\u001b[0m",
      "\u001b[0;31mTypeError\u001b[0m: 'tuple' object does not support item assignment"
     ]
    }
   ],
   "source": [
    "# A tuple is declared with the curved brackets () instead of the [] for a list\n",
    "my_tuple = (1,2,'cat','dog')\n",
    "\n",
    "# But since a tuple is immutable the next line will not run\n",
    "my_tuple[0] = 4"
   ]
  },
  {
   "cell_type": "markdown",
   "metadata": {},
   "source": [
    "So what can we learn from this? **Once you declare a tuple, the object cannot be changed. **\n",
    "\n",
    "For this reason, tuples have more optimised methods when you use them so can be more efficient and faster in your code."
   ]
  },
  {
   "cell_type": "markdown",
   "metadata": {},
   "source": [
    "#### A closer look at using Tuples"
   ]
  },
  {
   "cell_type": "code",
   "execution_count": 29,
   "metadata": {
    "collapsed": false
   },
   "outputs": [
    {
     "name": "stdout",
     "output_type": "stream",
     "text": [
      "([3, 2, 1], [4, 5, 6])\n"
     ]
    }
   ],
   "source": [
    "# A tuple might be immutable but can contain mutable objects\n",
    "my_list_tuple = ([1,2,3],[4,5,6])\n",
    "\n",
    "# This won't work\n",
    "# my_list_tuple[0] = [3,2,1]\n",
    "\n",
    "# But this will!\n",
    "my_list_tuple[0][0:3] = [3,2,1]\n",
    "\n",
    "print(my_list_tuple)"
   ]
  },
  {
   "cell_type": "code",
   "execution_count": 37,
   "metadata": {
    "collapsed": false
   },
   "outputs": [
    {
     "name": "stdout",
     "output_type": "stream",
     "text": [
      "(1, 2, 3, 4, 5, 6)\n",
      "(10, 20, 30, 40, 50, 60)\n"
     ]
    }
   ],
   "source": [
    "# You can add tuples together\n",
    "t1 = (1,2,3)\n",
    "t1 += (4,5,6)\n",
    "print(t1)\n",
    "\n",
    "t2 = (10,20,30)\n",
    "t3 = (40,50,60)\n",
    "print(t2+t3)"
   ]
  },
  {
   "cell_type": "code",
   "execution_count": 40,
   "metadata": {
    "collapsed": false
   },
   "outputs": [
    {
     "name": "stdout",
     "output_type": "stream",
     "text": [
      "1\n",
      "3\n"
     ]
    }
   ],
   "source": [
    "# Use index() and count() to look at a tuple\n",
    "t1 = (1,2,3,1,1,2)\n",
    "\n",
    "print(t1.index(2)) # Returns the first index of 2\n",
    "\n",
    "print(t1.count(1)) # Returns how many 1's are in the tuple"
   ]
  },
  {
   "cell_type": "code",
   "execution_count": 44,
   "metadata": {
    "collapsed": false
   },
   "outputs": [
    {
     "name": "stdout",
     "output_type": "stream",
     "text": [
      "1\n",
      "4\n",
      "16\n"
     ]
    }
   ],
   "source": [
    "# You can use tuples for multiple assignments and for multiple return from functions\n",
    "\n",
    "(x,y,z) = (1,2,3)\n",
    "print(x)\n",
    "\n",
    "\n",
    "# This is a basic function doing multiple return in Python\n",
    "def norm_and_square(a):\n",
    "    return a,a**2\n",
    "\n",
    "(a,b) = norm_and_square(4)\n",
    "\n",
    "print(a)\n",
    "print(b)"
   ]
  },
  {
   "cell_type": "code",
   "execution_count": 47,
   "metadata": {
    "collapsed": false
   },
   "outputs": [
    {
     "name": "stdout",
     "output_type": "stream",
     "text": [
      "x is 10 and y is 20\n",
      "x is 20 and y is 10\n"
     ]
    }
   ],
   "source": [
    "# Swap items using tuples\n",
    "\n",
    "x = 10\n",
    "y = 20\n",
    "print('x is {} and y is {}'.format(x,y))\n",
    "\n",
    "(x,y) = (y,x)\n",
    "\n",
    "print('x is {} and y is {}'.format(x,y))"
   ]
  },
  {
   "cell_type": "markdown",
   "metadata": {},
   "source": [
    "#### Question - Write a function which swaps two elements using tuples"
   ]
  },
  {
   "cell_type": "code",
   "execution_count": null,
   "metadata": {
    "collapsed": true
   },
   "outputs": [],
   "source": [
    "# TO DO\n",
    "def my_swap_function(a,b):\n",
    "    # write here!\n",
    "\n",
    "# END TO DO"
   ]
  },
  {
   "cell_type": "markdown",
   "metadata": {},
   "source": [
    "## Dictionaries"
   ]
  },
  {
   "cell_type": "markdown",
   "metadata": {},
   "source": [
    "Dictionaries are perhaps the most useful and hardest to grasp data structure from the basic set in Python. Dictionaries are not iterable in the same sense as lists and tuples and have"
   ]
  },
  {
   "cell_type": "markdown",
   "metadata": {},
   "source": [
    "## Dictionary Comprehensions"
   ]
  },
  {
   "cell_type": "markdown",
   "metadata": {},
   "source": [
    "## A peek at Pandas"
   ]
  },
  {
   "cell_type": "code",
   "execution_count": null,
   "metadata": {
    "collapsed": true
   },
   "outputs": [],
   "source": []
  }
 ],
 "metadata": {
  "kernelspec": {
   "display_name": "Python 3",
   "language": "python",
   "name": "python3"
  },
  "language_info": {
   "codemirror_mode": {
    "name": "ipython",
    "version": 3
   },
   "file_extension": ".py",
   "mimetype": "text/x-python",
   "name": "python",
   "nbconvert_exporter": "python",
   "pygments_lexer": "ipython3",
   "version": "3.5.2"
  }
 },
 "nbformat": 4,
 "nbformat_minor": 0
}
