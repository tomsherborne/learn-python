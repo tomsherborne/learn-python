{
 "cells": [
  {
   "cell_type": "markdown",
   "metadata": {},
   "source": [
    "## LSESU Applicable Maths Python Lesson 4\n",
    "###### 15/11/16"
   ]
  },
  {
   "cell_type": "markdown",
   "metadata": {},
   "source": [
    "Today we will be learning about\n",
    "* Data Structures\n",
    "    * Lists\n",
    "    * Tuples\n",
    "    * Dictionaries\n",
    "    * Sets\n",
    "* Dictionary comprehensions\n",
    "* Introduction to the Pandas library"
   ]
  },
  {
   "cell_type": "markdown",
   "metadata": {},
   "source": [
    "** Recap from Week 3**"
   ]
  },
  {
   "cell_type": "markdown",
   "metadata": {},
   "source": [
    "* Strings\n",
    "\n",
    "```\n",
    "day = input('Enter the day of the month you were born')\n",
    "month = input('Enter the month of the year you were born')\n",
    "year = input('Enter the year you were born')\n",
    "\n",
    "birthday = '{} / {} / {}'.format(day,month,year)\n",
    "print('Your birthday is \\n{}'.format(birthday))\n",
    "\n",
    "```\n",
    "* File I/O\n",
    "\n",
    "```\n",
    "file = open('test_data.txt','r') \n",
    "\n",
    "for line in file:\n",
    "    print(line)\n",
    "\n",
    "```\n",
    "\n",
    "* Lists\n",
    "\n",
    "```\n",
    "list1 = [1,2,3,4,5,6]\n",
    "\n",
    "for item in reversed(list1):\n",
    "    print(item)\n",
    "\n",
    "```\n",
    "\n",
    "* List comprehensions\n",
    "\n",
    "```\n",
    "squares = [x**2 for x in range(1,11)]\n",
    "```"
   ]
  },
  {
   "cell_type": "code",
   "execution_count": null,
   "metadata": {
    "collapsed": true
   },
   "outputs": [],
   "source": []
  }
 ],
 "metadata": {
  "kernelspec": {
   "display_name": "Python 3",
   "language": "python",
   "name": "python3"
  },
  "language_info": {
   "codemirror_mode": {
    "name": "ipython",
    "version": 3
   },
   "file_extension": ".py",
   "mimetype": "text/x-python",
   "name": "python",
   "nbconvert_exporter": "python",
   "pygments_lexer": "ipython3",
   "version": "3.5.2"
  }
 },
 "nbformat": 4,
 "nbformat_minor": 0
}
