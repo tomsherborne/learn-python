{
 "cells": [
  {
   "cell_type": "markdown",
   "metadata": {},
   "source": [
    "## LSESU Applicable Maths Python Lesson 6\n",
    "###### 29/11/16"
   ]
  },
  {
   "cell_type": "markdown",
   "metadata": {},
   "source": [
    "Today is all about handling and generating data. We'll be looking at the first principles of 3 different packages you should know about for Python:\n",
    "    * NumPy\n",
    "    * SciPy\n",
    "    * Pandas"
   ]
  },
  {
   "cell_type": "markdown",
   "metadata": {},
   "source": [
    "* **Recap from last week**\n",
    "\n",
    "We looked at the basics of Object Oriented Programming, or OOP, last week. If you couldn't make it, don't be concerned because the content from last week won't affect what we will be looking at today.\n",
    "```\n",
    "class Human(object):\n",
    "    # Write the constructor first\n",
    "    def __init__(self,name,age,height):\n",
    "        self.name = name\n",
    "        self.age = age\n",
    "        self.height = height\n",
    "\n",
    "    # Write the magic methods next\n",
    "    def __lt__(self,other):\n",
    "        return self.age < other.age\n",
    "    def __le__(self,other):\n",
    "        return self.age <= other.age\n",
    "    def __gt__(self,other):\n",
    "        return self.age > other.age\n",
    "    def __ge__(self,other):\n",
    "        return self.age >= other.age\n",
    "    def __eq__(self,other):\n",
    "        return self.age==other.age\n",
    "    \n",
    "    # Write the method for dog years last\n",
    "    def age_in_dog_years(self):\n",
    "        return 7*self.age\n",
    "```"
   ]
  },
  {
   "cell_type": "markdown",
   "metadata": {},
   "source": [
    "## NumPy"
   ]
  },
  {
   "cell_type": "markdown",
   "metadata": {},
   "source": [
    "## SciPy"
   ]
  },
  {
   "cell_type": "markdown",
   "metadata": {},
   "source": [
    "## Pandas"
   ]
  },
  {
   "cell_type": "code",
   "execution_count": null,
   "metadata": {
    "collapsed": true
   },
   "outputs": [],
   "source": []
  }
 ],
 "metadata": {
  "kernelspec": {
   "display_name": "Python 3",
   "language": "python",
   "name": "python3"
  },
  "language_info": {
   "codemirror_mode": {
    "name": "ipython",
    "version": 3
   },
   "file_extension": ".py",
   "mimetype": "text/x-python",
   "name": "python",
   "nbconvert_exporter": "python",
   "pygments_lexer": "ipython3",
   "version": "3.5.2"
  }
 },
 "nbformat": 4,
 "nbformat_minor": 0
}
