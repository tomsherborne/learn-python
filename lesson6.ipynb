{
 "cells": [
  {
   "cell_type": "markdown",
   "metadata": {},
   "source": [
    "## LSESU Applicable Maths Python Lesson 6\n",
    "###### 29/11/16"
   ]
  },
  {
   "cell_type": "markdown",
   "metadata": {},
   "source": [
    "Today is all about handling and generating data. We'll be looking at the first principles of 2 different packages you should know about for handling data in Python:\n",
    "    * NumPy\n",
    "    * Pandas"
   ]
  },
  {
   "cell_type": "markdown",
   "metadata": {},
   "source": [
    "** Run the appropriate version of the following commands ASAP to get yourself set up! **"
   ]
  },
  {
   "cell_type": "code",
   "execution_count": null,
   "metadata": {
    "collapsed": false
   },
   "outputs": [],
   "source": [
    "# Run this if you are using a Mac machine or have multiple versions of Python installed\n",
    "!pip3 install numpy pandas matplotlib pandas_datareader --upgrade"
   ]
  },
  {
   "cell_type": "code",
   "execution_count": null,
   "metadata": {
    "collapsed": false
   },
   "outputs": [],
   "source": [
    "# Run this if you are using a Windows machine\n",
    "!pip install numpy==1.11.1 pandas==0.19.0 matplotlib==1.5.3 pandas_datareader==0.2.1 --upgrade"
   ]
  },
  {
   "cell_type": "code",
   "execution_count": null,
   "metadata": {
    "collapsed": false
   },
   "outputs": [],
   "source": [
    "# Everyone run this block\n",
    "import numpy as np\n",
    "import pandas as pd\n",
    "import matplotlib as mpl\n",
    "import matplotlib.pyplot as plt\n",
    "from pandas_datareader import data as web\n",
    "%matplotlib inline"
   ]
  },
  {
   "cell_type": "markdown",
   "metadata": {},
   "source": [
    "* **Recap from last week**\n",
    "\n",
    "We looked at the basics of Object Oriented Programming, or OOP, last week. If you couldn't make it, don't be concerned because the content from last week won't affect what we will be looking at today.\n",
    "```\n",
    "class Human(object):\n",
    "    def __init__(self,name,age,height):\n",
    "        self.name = name\n",
    "        self.age = age\n",
    "        self.height = height\n",
    "\n",
    "    def __lt__(self,other):\n",
    "        return self.age < other.age\n",
    "    def __le__(self,other):\n",
    "        return self.age <= other.age\n",
    "    def __gt__(self,other):\n",
    "        return self.age > other.age\n",
    "    def __ge__(self,other):\n",
    "        return self.age >= other.age\n",
    "    def __eq__(self,other):\n",
    "        return self.age==other.age\n",
    "    \n",
    "    def age_in_dog_years(self):\n",
    "        return 7*self.age\n",
    "```"
   ]
  },
  {
   "cell_type": "markdown",
   "metadata": {},
   "source": [
    "## NumPy"
   ]
  },
  {
   "cell_type": "markdown",
   "metadata": {},
   "source": [
    "NumPy is the standard mathematical and scientific computing package for Python. NumPy is a need to know if you want to write efficient and interpretable code. NumPy includes an optimised array type as well as linear algebra, Fourier Transform and random number capabilities.\n",
    "\n",
    "Under the hood, much of NumPy is written in C/C++/Fortran which is highly optimised according to your specific computer. Using NumPy gives you features and speed you couldn't achieve with native Python.\n",
    "\n",
    "[Link to NumPy documentation](http://www.numpy.org/)"
   ]
  },
  {
   "cell_type": "markdown",
   "metadata": {},
   "source": [
    "### The main NumPy feature - the Array type"
   ]
  },
  {
   "cell_type": "markdown",
   "metadata": {},
   "source": [
    "The NumPy array is a grid of values all of the same type, this is different to Python lists which can have elements of different types. \n",
    "\n",
    "Arrays are indexed similarly to lists, with each dimension being indexed from zero. When declaring the Array object be clear in your mind the dimensions of the array you need.\n",
    "```\n",
    "np.ones((3,4),int) \n",
    "    -> 3 is the number of ROWS\n",
    "    -> 4 is the number of COLUMNS\n",
    "    -> int is the type of the array elements\n",
    "--\n",
    "array([[1, 1, 1, 1],\n",
    "       [1, 1, 1, 1],\n",
    "       [1, 1, 1, 1]])\n",
    "       ```"
   ]
  },
  {
   "cell_type": "code",
   "execution_count": null,
   "metadata": {
    "collapsed": false
   },
   "outputs": [],
   "source": [
    "# Creating an array of all zeroes\n",
    "\n",
    "np.zeros((3,4),int)"
   ]
  },
  {
   "cell_type": "code",
   "execution_count": null,
   "metadata": {
    "collapsed": false
   },
   "outputs": [],
   "source": [
    "print('a. np.zeros((2,2))')\n",
    "a = np.zeros((2,2),int)  \n",
    "print(a)                 \n",
    "\n",
    "print('b. np.ones((1,2))')\n",
    "b = np.ones((1,2))   \n",
    "print(b)              \n",
    "\n",
    "print('c. np.full((2,2), 7)')\n",
    "c = np.full((2,2), 7) # Create a constant array\n",
    "print(c)              \n",
    "\n",
    "print('d. np.eye(2)')\n",
    "d = np.eye(2)        \n",
    "print(c)             \n",
    "    \n",
    "print('e. np.random.random((2,2))')\n",
    "e = np.random.random((2,2)) \n",
    "print(e)                    "
   ]
  },
  {
   "cell_type": "markdown",
   "metadata": {},
   "source": [
    "In general you can follow the format below for declaring most NumPy arrays\n",
    "\n",
    "```\n",
    "np.format(shape, fill_value, dtype)\n",
    "```\n",
    "Where `shape` is declared as a tuple like `(3,4)` and dtype is the type of the data which is constant across the array but doesn't have to be a number\n",
    "\n",
    "**Try replacing `int` in the declaration of array `a` with `str`**"
   ]
  },
  {
   "cell_type": "code",
   "execution_count": null,
   "metadata": {
    "collapsed": false
   },
   "outputs": [],
   "source": [
    "# You can also declare NumPy arrays using standard Python\n",
    "# Lists (and Lists of Lists)\n",
    "\n",
    "l1 = [1,2,3,4]\n",
    "l2 = [5,6,7,8]\n",
    "l3 = [9,10,11,12]\n",
    "l = [l1,l2,l3]\n",
    "\n",
    "print(l)\n",
    "\n",
    "l_array = np.array(l)\n",
    "\n",
    "#print(l_array)"
   ]
  },
  {
   "cell_type": "markdown",
   "metadata": {},
   "source": [
    "### Indexing a NumPy array"
   ]
  },
  {
   "cell_type": "code",
   "execution_count": null,
   "metadata": {
    "collapsed": false
   },
   "outputs": [],
   "source": [
    "# For a list of lists we would use the [][] notation\n",
    "upper_left_val = l[0][0]\n",
    "print(upper_left_val)\n",
    "print()\n",
    "\n",
    "# We use a single [] with np and seperate dimensions by ,\n",
    "upper_left_val_np = l_array[0,0]\n",
    "print(upper_left_val_np)\n",
    "print()\n",
    "\n",
    "# You can also slice arrays as so\n",
    "print(l_array[0:2,1:3])\n",
    "print()\n",
    "\n",
    "# And use the shape attribute of the object to understand\n",
    "# size \n",
    "print(l_array.shape)\n",
    "print()\n",
    "\n",
    "# Or the dtype attribute to inspect the type of the array\n",
    "print(l_array.dtype)"
   ]
  },
  {
   "cell_type": "code",
   "execution_count": null,
   "metadata": {
    "collapsed": false
   },
   "outputs": [],
   "source": [
    "# Using the arange function you can retrieve linearly\n",
    "# spaced integers\n",
    "lin_space_int = np.arange(1,10)\n",
    "print(lin_space_int)\n",
    "print()\n",
    "\n",
    "# Or specify a step to create different spacings\n",
    "lin_space_new = np.arange(1,10,0.5)\n",
    "print(lin_space_new)"
   ]
  },
  {
   "cell_type": "markdown",
   "metadata": {},
   "source": [
    "### Array mathematics"
   ]
  },
  {
   "cell_type": "code",
   "execution_count": null,
   "metadata": {
    "collapsed": false
   },
   "outputs": [],
   "source": [
    "# Declare two example arrays\n",
    "x = np.array([[1,2],[3,4]], dtype=np.float64)\n",
    "y = np.array([[5,6],[7,8]], dtype=np.float64)\n",
    "\n",
    "# By default, operations are element wise in NumPy\n",
    "\n",
    "# Addition, two options\n",
    "print(x+y)\n",
    "#print(np.add(x,y))\n",
    "print()\n",
    "\n",
    "# Subtraction\n",
    "print(x-y)\n",
    "#print(np.subtract(x,y))\n",
    "print()\n",
    "\n",
    "# Product\n",
    "print(x*y)\n",
    "#print np.multiply(x,y)\n",
    "print()\n",
    "\n",
    "# Division\n",
    "print(x/y)\n",
    "#print(np.divide(x,y))\n",
    "print()\n",
    "\n",
    "# Square Root\n",
    "print(np.sqrt(x))\n",
    "print()\n",
    "\n",
    "## For Matrix operations, use the set of NumPy functions\n",
    "\n",
    "# Dot product\n",
    "print(x.dot(y))\n",
    "#print(np.dot(x,y))\n",
    "print()\n",
    "\n",
    "# You can also sum across dimensions easily\n",
    "print(np.sum(x)) # For every element\n",
    "print()\n",
    "\n",
    "print(np.sum(x,axis=0))\n",
    "print()\n",
    "\n",
    "# Or transpose a Matrix\n",
    "print(x)\n",
    "print()\n",
    "print(x.T)"
   ]
  },
  {
   "cell_type": "markdown",
   "metadata": {},
   "source": [
    "## **Challenge**\n",
    "#### Declare a 5 by 5 array of any numbers you want using one of the above methods we've discussed. Then read [this](https://docs.scipy.org/doc/numpy/reference/arrays.ndarray.html) NumPy documentation, when you are ready print the mean, standard deviation, minimum and maximum of your array"
   ]
  },
  {
   "cell_type": "code",
   "execution_count": null,
   "metadata": {
    "collapsed": true
   },
   "outputs": [],
   "source": [
    "# TO DO \n",
    "# You can declare an array of random numbers or start with a list of lists\n",
    "# Check your array is the right size by printing the .shape attribute\n",
    "\n",
    "\n",
    "\n",
    "# Print the mean\n",
    "\n",
    "\n",
    "# Print the standard deviation \n",
    "\n",
    "\n",
    "# Print the minimum\n",
    "\n",
    "\n",
    "# Print the maximum\n",
    "\n",
    "\n",
    "\n",
    "# END TODO"
   ]
  },
  {
   "cell_type": "markdown",
   "metadata": {},
   "source": [
    "## Pandas"
   ]
  },
  {
   "cell_type": "markdown",
   "metadata": {
    "collapsed": true
   },
   "source": [
    "Pandas is a data manipulation package that we've glimpsed before. If you know R, then the Pandas Dataframe type will be very familiar, if not you can think of a Dataframe is a spreadsheet like object which can be manipulated and interfaced with much easier than lists of dictionaries (or dictionaries of lists!).\n",
    "\n",
    "[Link to Pandas documentation](http://pandas.pydata.org/pandas-docs/stable/index.html)"
   ]
  },
  {
   "cell_type": "markdown",
   "metadata": {},
   "source": [
    "### The main Pandas feature - the DataFrame type"
   ]
  },
  {
   "cell_type": "code",
   "execution_count": null,
   "metadata": {
    "collapsed": false
   },
   "outputs": [],
   "source": [
    "# Pandas DataFrames can be initialised using Numpy objects or\n",
    "# or with native Python objects.\n",
    "\n",
    "# Using Numpy\n",
    "df1 = pd.DataFrame(np.random.randn(3,4),columns=list('ABCD'))\n",
    "print(df1)\n",
    "\n",
    "# Or with a dictionary of list vales\n",
    "my_dict = {\n",
    "    'A':[1,2,3,4],\n",
    "    'B':['2016-12-25','2015-12-25','2014-12-25','2013-12-25'],\n",
    "    'C':pd.Series(1,index=list(range(4)),dtype=\"float32\"),\n",
    "    'D':pd.Categorical(['Test','Test','Test','Train']),\n",
    "    'E':[True,True,False,False]\n",
    "}\n",
    "df2 = pd.DataFrame(my_dict)\n",
    "df2"
   ]
  },
  {
   "cell_type": "code",
   "execution_count": null,
   "metadata": {
    "collapsed": false
   },
   "outputs": [],
   "source": [
    "# Many features of the DataFrame are similar to a NumPy array\n",
    "\n",
    "df2.dtypes\n",
    "\n",
    "#df2.shape"
   ]
  },
  {
   "cell_type": "code",
   "execution_count": null,
   "metadata": {
    "collapsed": false
   },
   "outputs": [],
   "source": [
    "# A fast way to grab quick insights of the numerical features\n",
    "# of your data is to use .describe()\n",
    "\n",
    "df2.describe()"
   ]
  },
  {
   "cell_type": "code",
   "execution_count": null,
   "metadata": {
    "collapsed": false
   },
   "outputs": [],
   "source": [
    "# We can sort and organise our dataframe based upon defined regions\n",
    "df2.sort_index(axis=1,ascending=False)"
   ]
  },
  {
   "cell_type": "code",
   "execution_count": null,
   "metadata": {
    "collapsed": false
   },
   "outputs": [],
   "source": [
    "df2.sort_values(by='B')"
   ]
  },
  {
   "cell_type": "markdown",
   "metadata": {},
   "source": [
    "#### Selecting elements"
   ]
  },
  {
   "cell_type": "code",
   "execution_count": null,
   "metadata": {
    "collapsed": false
   },
   "outputs": [],
   "source": [
    "# Use [] indexing and a column name to grab columns\n",
    "df2['C']"
   ]
  },
  {
   "cell_type": "code",
   "execution_count": null,
   "metadata": {
    "collapsed": false
   },
   "outputs": [],
   "source": [
    "# Use [] and row values to grab rows\n",
    "df2[1:3]"
   ]
  },
  {
   "cell_type": "code",
   "execution_count": null,
   "metadata": {
    "collapsed": false
   },
   "outputs": [],
   "source": [
    "# Or use .loc to retrieve specific values like the 0th row\n",
    "df2.loc[0]"
   ]
  },
  {
   "cell_type": "code",
   "execution_count": null,
   "metadata": {
    "collapsed": false
   },
   "outputs": [],
   "source": [
    "# Or use loc and a condition\n",
    "\n",
    "df2.loc[df2['E']==True]"
   ]
  },
  {
   "cell_type": "markdown",
   "metadata": {
    "collapsed": true
   },
   "source": [
    "### Revisiting what we did on the first day"
   ]
  },
  {
   "cell_type": "code",
   "execution_count": 58,
   "metadata": {
    "collapsed": false
   },
   "outputs": [
    {
     "data": {
      "text/html": [
       "<div>\n",
       "<table border=\"1\" class=\"dataframe\">\n",
       "  <thead>\n",
       "    <tr style=\"text-align: right;\">\n",
       "      <th></th>\n",
       "      <th>Open</th>\n",
       "      <th>High</th>\n",
       "      <th>Low</th>\n",
       "      <th>Close</th>\n",
       "      <th>Volume</th>\n",
       "    </tr>\n",
       "    <tr>\n",
       "      <th>Date</th>\n",
       "      <th></th>\n",
       "      <th></th>\n",
       "      <th></th>\n",
       "      <th></th>\n",
       "      <th></th>\n",
       "    </tr>\n",
       "  </thead>\n",
       "  <tbody>\n",
       "    <tr>\n",
       "      <th>2016-11-18</th>\n",
       "      <td>12.64</td>\n",
       "      <td>21.72</td>\n",
       "      <td>11.05</td>\n",
       "      <td>11.81</td>\n",
       "      <td>28910418</td>\n",
       "    </tr>\n",
       "    <tr>\n",
       "      <th>2016-11-21</th>\n",
       "      <td>13.93</td>\n",
       "      <td>16.44</td>\n",
       "      <td>8.73</td>\n",
       "      <td>9.10</td>\n",
       "      <td>23824704</td>\n",
       "    </tr>\n",
       "    <tr>\n",
       "      <th>2016-11-22</th>\n",
       "      <td>9.50</td>\n",
       "      <td>9.66</td>\n",
       "      <td>6.10</td>\n",
       "      <td>6.22</td>\n",
       "      <td>18100450</td>\n",
       "    </tr>\n",
       "    <tr>\n",
       "      <th>2016-11-23</th>\n",
       "      <td>6.36</td>\n",
       "      <td>6.86</td>\n",
       "      <td>5.35</td>\n",
       "      <td>6.01</td>\n",
       "      <td>24905788</td>\n",
       "    </tr>\n",
       "    <tr>\n",
       "      <th>2016-11-25</th>\n",
       "      <td>6.05</td>\n",
       "      <td>6.19</td>\n",
       "      <td>5.46</td>\n",
       "      <td>5.48</td>\n",
       "      <td>7269443</td>\n",
       "    </tr>\n",
       "  </tbody>\n",
       "</table>\n",
       "</div>"
      ],
      "text/plain": [
       "             Open   High    Low  Close    Volume\n",
       "Date                                            \n",
       "2016-11-18  12.64  21.72  11.05  11.81  28910418\n",
       "2016-11-21  13.93  16.44   8.73   9.10  23824704\n",
       "2016-11-22   9.50   9.66   6.10   6.22  18100450\n",
       "2016-11-23   6.36   6.86   5.35   6.01  24905788\n",
       "2016-11-25   6.05   6.19   5.46   5.48   7269443"
      ]
     },
     "execution_count": 58,
     "metadata": {},
     "output_type": "execute_result"
    }
   ],
   "source": [
    "# Choose a stock\n",
    "ticker = 'DRYS'\n",
    "\n",
    "# Choose a start date in US format MM/DD/YYYY\n",
    "stock_start = '10/2/2014'\n",
    "# Choose an end date in US format MM/DD/YYYY\n",
    "stock_end = '28/11/2016'\n",
    "\n",
    "# Retrieve the Data from Google's Finance Database\n",
    "stock = web.DataReader(ticker,data_source='google',\n",
    "                       start = stock_start,end=stock_end)\n",
    "\n",
    "# Print a table of the Data to see what we have just fetched\n",
    "stock.tail()"
   ]
  },
  {
   "cell_type": "code",
   "execution_count": 59,
   "metadata": {
    "collapsed": false
   },
   "outputs": [],
   "source": [
    "# Generate the logarithm of the ratio between each days closing price\n",
    "stock['Log_Ret'] = np.log(stock['Close']/stock['Close'].shift(1))\n",
    "\n",
    "# Generate the rolling standard deviation across the time series data\n",
    "stock['Volatility'] = (stock['Log_Ret'].rolling(window=100).std())*np.sqrt(100)"
   ]
  },
  {
   "cell_type": "code",
   "execution_count": 60,
   "metadata": {
    "collapsed": false
   },
   "outputs": [
    {
     "data": {
      "text/plain": [
       "array([<matplotlib.axes._subplots.AxesSubplot object at 0x110ae34a8>,\n",
       "       <matplotlib.axes._subplots.AxesSubplot object at 0x110b5ce10>], dtype=object)"
      ]
     },
     "execution_count": 60,
     "metadata": {},
     "output_type": "execute_result"
    },
    {
     "data": {
      "image/png": "[encoded data removed]",
      "text/plain": [
       "<matplotlib.figure.Figure at 0x110a49eb8>"
      ]
     },
     "metadata": {},
     "output_type": "display_data"
    }
   ],
   "source": [
    "# Create a plot of changing Closing Price and Volatility\n",
    "stock[['Close','Volatility']].plot(subplots=True,color='b',figsize=(8,6))"
   ]
  },
  {
   "cell_type": "markdown",
   "metadata": {},
   "source": [
    "### Experiment with changing the Stock Ticker from GOOG and the dates. What interesting insights can you find? Is there a company which has become very volatile recently? "
   ]
  }
 ],
 "metadata": {
  "anaconda-cloud": {},
  "kernelspec": {
   "display_name": "Python [default]",
   "language": "python",
   "name": "python3"
  },
  "language_info": {
   "codemirror_mode": {
    "name": "ipython",
    "version": 3
   },
   "file_extension": ".py",
   "mimetype": "text/x-python",
   "name": "python",
   "nbconvert_exporter": "python",
   "pygments_lexer": "ipython3",
   "version": "3.5.2"
  }
 },
 "nbformat": 4,
 "nbformat_minor": 0
}
