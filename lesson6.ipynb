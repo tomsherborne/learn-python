{
 "cells": [
  {
   "cell_type": "markdown",
   "metadata": {},
   "source": [
    "## LSESU Applicable Maths Python Lesson 6\n",
    "###### 29/11/16"
   ]
  },
  {
   "cell_type": "markdown",
   "metadata": {},
   "source": [
    "Today is all about handling and generating data. We'll be looking at the first principles of 2 different packages you should know about for handling data in Python:\n",
    "    * NumPy\n",
    "    * Pandas"
   ]
  },
  {
   "cell_type": "markdown",
   "metadata": {},
   "source": [
    "** Run the appropriate version of the following commands ASAP to get yourself set up! **"
   ]
  },
  {
   "cell_type": "code",
   "execution_count": 100,
   "metadata": {
    "collapsed": false
   },
   "outputs": [
    {
     "name": "stdout",
     "output_type": "stream",
     "text": [
      "Requirement already up-to-date: numpy in /anaconda/lib/python3.5/site-packages\n",
      "Requirement already up-to-date: pandas in /anaconda/lib/python3.5/site-packages\n",
      "Requirement already up-to-date: matplotlib in /anaconda/lib/python3.5/site-packages\n",
      "Collecting pandas_datareader\n",
      "  Using cached pandas_datareader-0.2.1-py2.py3-none-any.whl\n",
      "Requirement already up-to-date: python-dateutil>=2 in /anaconda/lib/python3.5/site-packages (from pandas)\n",
      "Requirement already up-to-date: pytz>=2011k in /anaconda/lib/python3.5/site-packages (from pandas)\n",
      "Requirement already up-to-date: cycler in /anaconda/lib/python3.5/site-packages (from matplotlib)\n",
      "Requirement already up-to-date: pyparsing!=2.0.0,!=2.0.4,!=2.1.2,>=1.5.6 in /anaconda/lib/python3.5/site-packages (from matplotlib)\n",
      "Collecting requests-file (from pandas_datareader)\n",
      "  Downloading requests_file-1.4.1-py2.py3-none-any.whl\n",
      "Collecting requests (from pandas_datareader)\n",
      "  Downloading requests-2.12.1-py2.py3-none-any.whl (574kB)\n",
      "\u001b[K    100% |████████████████████████████████| 583kB 388kB/s \n",
      "\u001b[?25hRequirement already up-to-date: six>=1.5 in /anaconda/lib/python3.5/site-packages (from python-dateutil>=2->pandas)\n",
      "Installing collected packages: requests, requests-file, pandas-datareader\n",
      "  Found existing installation: requests 2.9.1\n",
      "\u001b[31m    DEPRECATION: Uninstalling a distutils installed project (requests) has been deprecated and will be removed in a future version. This is due to the fact that uninstalling a distutils project will only partially uninstall the project.\u001b[0m\n",
      "    Uninstalling requests-2.9.1:\n",
      "      Successfully uninstalled requests-2.9.1\n",
      "Successfully installed pandas-datareader-0.2.1 requests-2.12.1 requests-file-1.4.1\n"
     ]
    }
   ],
   "source": [
    "# Run this if you are using a Mac machine or have multiple versions of Python installed\n",
    "!pip3 install numpy pandas matplotlib pandas_datareader --upgrade"
   ]
  },
  {
   "cell_type": "code",
   "execution_count": 13,
   "metadata": {
    "collapsed": false
   },
   "outputs": [
    {
     "name": "stdout",
     "output_type": "stream",
     "text": [
      "Requirement already up-to-date: numpy==1.11.1 in /anaconda/envs/lse/lib/python3.5/site-packages\n",
      "Requirement already up-to-date: pandas==0.19.0 in /anaconda/envs/lse/lib/python3.5/site-packages\n",
      "Requirement already up-to-date: matplotlib==1.5.3 in /anaconda/envs/lse/lib/python3.5/site-packages\n",
      "Requirement already up-to-date: pandas_datareader==0.2.1 in /anaconda/envs/lse/lib/python3.5/site-packages\n",
      "Collecting python-dateutil>=2 (from pandas==0.19.0)\n",
      "  Using cached python_dateutil-2.6.0-py2.py3-none-any.whl\n",
      "Requirement already up-to-date: pytz>=2011k in /anaconda/envs/lse/lib/python3.5/site-packages (from pandas==0.19.0)\n",
      "Requirement already up-to-date: cycler in /anaconda/envs/lse/lib/python3.5/site-packages (from matplotlib==1.5.3)\n",
      "Collecting pyparsing!=2.0.4,!=2.1.2,>=1.5.6 (from matplotlib==1.5.3)\n",
      "  Using cached pyparsing-2.1.10-py2.py3-none-any.whl\n",
      "Collecting requests-file (from pandas_datareader==0.2.1)\n",
      "  Using cached requests_file-1.4.1-py2.py3-none-any.whl\n",
      "Collecting requests (from pandas_datareader==0.2.1)\n",
      "  Using cached requests-2.12.1-py2.py3-none-any.whl\n",
      "Requirement already up-to-date: six>=1.5 in /anaconda/envs/lse/lib/python3.5/site-packages (from python-dateutil>=2->pandas==0.19.0)\n",
      "Installing collected packages: python-dateutil, pyparsing, requests, requests-file\n",
      "  Found existing installation: python-dateutil 2.5.3\n",
      "    Uninstalling python-dateutil-2.5.3:\n",
      "      Successfully uninstalled python-dateutil-2.5.3\n",
      "  Found existing installation: pyparsing 2.1.4\n",
      "    Uninstalling pyparsing-2.1.4:\n",
      "      Successfully uninstalled pyparsing-2.1.4\n",
      "  Found existing installation: requests 2.11.1\n",
      "    Uninstalling requests-2.11.1:\n",
      "      Successfully uninstalled requests-2.11.1\n",
      "  Found existing installation: requests-file 1.4\n",
      "    Uninstalling requests-file-1.4:\n",
      "      Successfully uninstalled requests-file-1.4\n",
      "Successfully installed pyparsing-2.1.10 python-dateutil-2.6.0 requests-2.12.1 requests-file-1.4.1\n",
      "\u001b[33mYou are using pip version 8.1.2, however version 9.0.1 is available.\n",
      "You should consider upgrading via the 'pip install --upgrade pip' command.\u001b[0m\n"
     ]
    }
   ],
   "source": [
    "# Run this if you are using a Windows machine\n",
    "!pip install numpy==1.11.1 pandas==0.19.0 matplotlib==1.5.3 pandas_datareader==0.2.1 --upgrade"
   ]
  },
  {
   "cell_type": "code",
   "execution_count": 14,
   "metadata": {
    "collapsed": false
   },
   "outputs": [],
   "source": [
    "# Everyone run this block\n",
    "import numpy as np\n",
    "import pandas as pd\n",
    "import matplotlib as mpl\n",
    "import matplotlib.pyplot as plt\n",
    "from pandas_datareader import data as web\n",
    "%matplotlib inline"
   ]
  },
  {
   "cell_type": "markdown",
   "metadata": {},
   "source": [
    "* **Recap from last week**\n",
    "\n",
    "We looked at the basics of Object Oriented Programming, or OOP, last week. If you couldn't make it, don't be concerned because the content from last week won't affect what we will be looking at today.\n",
    "```\n",
    "class Human(object):\n",
    "    def __init__(self,name,age,height):\n",
    "        self.name = name\n",
    "        self.age = age\n",
    "        self.height = height\n",
    "\n",
    "    def __lt__(self,other):\n",
    "        return self.age < other.age\n",
    "    def __le__(self,other):\n",
    "        return self.age <= other.age\n",
    "    def __gt__(self,other):\n",
    "        return self.age > other.age\n",
    "    def __ge__(self,other):\n",
    "        return self.age >= other.age\n",
    "    def __eq__(self,other):\n",
    "        return self.age==other.age\n",
    "    \n",
    "    def age_in_dog_years(self):\n",
    "        return 7*self.age\n",
    "```"
   ]
  },
  {
   "cell_type": "markdown",
   "metadata": {},
   "source": [
    "## NumPy"
   ]
  },
  {
   "cell_type": "markdown",
   "metadata": {},
   "source": [
    "NumPy is the standard mathematical and scientific computing package for Python. NumPy is a need to know if you want to write efficient and interpretable code. NumPy includes an optimised array type as well as linear algebra, Fourier Transform and random number capabilities.\n",
    "\n",
    "Under the hood, much of NumPy is written in C/C++/Fortran which is highly optimised according to your specific computer. Using NumPy gives you features and speed you couldn't achieve with native Python.\n",
    "\n",
    "[Link to NumPy documentation](http://www.numpy.org/)"
   ]
  },
  {
   "cell_type": "markdown",
   "metadata": {},
   "source": [
    "### The main NumPy feature - the Array type"
   ]
  },
  {
   "cell_type": "markdown",
   "metadata": {},
   "source": [
    "The NumPy array is a grid of values all of the same type, this is different to Python lists which can have elements of different types. \n",
    "\n",
    "Arrays are indexed similarly to lists, with each dimension being indexed from zero. When declaring the Array object be clear in your mind the dimensions of the array you need.\n",
    "```\n",
    "np.ones((3,4),int) \n",
    "    -> 3 is the number of ROWS\n",
    "    -> 4 is the number of COLUMNS\n",
    "    -> int is the type of the array elements\n",
    "--\n",
    "array([[1, 1, 1, 1],\n",
    "       [1, 1, 1, 1],\n",
    "       [1, 1, 1, 1]])\n",
    "       ```"
   ]
  },
  {
   "cell_type": "code",
   "execution_count": 20,
   "metadata": {
    "collapsed": false
   },
   "outputs": [
    {
     "data": {
      "text/plain": [
       "array([[0, 0, 0, 0],\n",
       "       [0, 0, 0, 0],\n",
       "       [0, 0, 0, 0]])"
      ]
     },
     "execution_count": 20,
     "metadata": {},
     "output_type": "execute_result"
    }
   ],
   "source": [
    "# Creating an array of all zeroes\n",
    "\n",
    "np.zeros((3,4),int)"
   ]
  },
  {
   "cell_type": "code",
   "execution_count": 34,
   "metadata": {
    "collapsed": false
   },
   "outputs": [
    {
     "name": "stdout",
     "output_type": "stream",
     "text": [
      "a. np.zeros((2,2))\n",
      "[[0 0]\n",
      " [0 0]]\n",
      "b. np.ones((1,2))\n",
      "[[ 1.  1.]]\n",
      "c. np.full((2,2), 7)\n",
      "[[ 7.  7.]\n",
      " [ 7.  7.]]\n",
      "d. np.eye(2)\n",
      "[[ 7.  7.]\n",
      " [ 7.  7.]]\n",
      "e. np.random.random((2,2))\n",
      "[[ 0.4128484   0.09479139]\n",
      " [ 0.29987876  0.67592249]]\n"
     ]
    },
    {
     "name": "stderr",
     "output_type": "stream",
     "text": [
      "//anaconda/lib/python3.5/site-packages/numpy/core/numeric.py:301: FutureWarning: in the future, full((2, 2), 7) will return an array of dtype('int64')\n",
      "  format(shape, fill_value, array(fill_value).dtype), FutureWarning)\n"
     ]
    }
   ],
   "source": [
    "print('a. np.zeros((2,2))')\n",
    "a = np.zeros((2,2),int)  \n",
    "print(a)                 \n",
    "\n",
    "print('b. np.ones((1,2))')\n",
    "b = np.ones((1,2))   \n",
    "print(b)              \n",
    "\n",
    "print('c. np.full((2,2), 7)')\n",
    "c = np.full((2,2), 7) # Create a constant array\n",
    "print(c)              \n",
    "\n",
    "print('d. np.eye(2)')\n",
    "d = np.eye(2)        \n",
    "print(c)             \n",
    "    \n",
    "print('e. np.random.random((2,2))')\n",
    "e = np.random.random((2,2)) \n",
    "print(e)                    "
   ]
  },
  {
   "cell_type": "markdown",
   "metadata": {},
   "source": [
    "In general you can follow the format below for declaring most NumPy arrays\n",
    "\n",
    "```\n",
    "np.format(shape, fill_value, dtype)\n",
    "```\n",
    "Where `shape` is declared as a tuple like `(3,4)` and dtype is the type of the data which is constant across the array but doesn't have to be a number\n",
    "\n",
    "**Try replacing `int` in the declaration of array `a` with `str`**"
   ]
  },
  {
   "cell_type": "code",
   "execution_count": 41,
   "metadata": {
    "collapsed": false
   },
   "outputs": [
    {
     "name": "stdout",
     "output_type": "stream",
     "text": [
      "[[1, 2, 3, 4], [5, 6, 7, 8], [9, 10, 11, 12]]\n"
     ]
    }
   ],
   "source": [
    "# You can also declare NumPy arrays using standard Python\n",
    "# Lists (and Lists of Lists)\n",
    "\n",
    "l1 = [1,2,3,4]\n",
    "l2 = [5,6,7,8]\n",
    "l3 = [9,10,11,12]\n",
    "l = [l1,l2,l3]\n",
    "\n",
    "print(l)\n",
    "\n",
    "l_array = np.array(l)\n",
    "\n",
    "#print(l_array)"
   ]
  },
  {
   "cell_type": "markdown",
   "metadata": {},
   "source": [
    "### Indexing a NumPy array"
   ]
  },
  {
   "cell_type": "code",
   "execution_count": 66,
   "metadata": {
    "collapsed": false
   },
   "outputs": [
    {
     "name": "stdout",
     "output_type": "stream",
     "text": [
      "1\n",
      "\n",
      "1\n",
      "\n",
      "[[2 3]\n",
      " [6 7]]\n",
      "\n",
      "(3, 4)\n",
      "\n",
      "int64\n"
     ]
    }
   ],
   "source": [
    "# For a list of lists we would use the [][] notation\n",
    "upper_left_val = l[0][0]\n",
    "print(upper_left_val)\n",
    "print()\n",
    "\n",
    "# We use a single [] with np and seperate dimensions by ,\n",
    "upper_left_val_np = l_array[0,0]\n",
    "print(upper_left_val_np)\n",
    "print()\n",
    "\n",
    "# You can also slice arrays as so\n",
    "print(l_array[0:2,1:3])\n",
    "print()\n",
    "\n",
    "# And use the shape attribute of the object to understand\n",
    "# size \n",
    "print(l_array.shape)\n",
    "print()\n",
    "\n",
    "# Or the dtype attribute to inspect the type of the array\n",
    "print(l_array.dtype)"
   ]
  },
  {
   "cell_type": "code",
   "execution_count": 65,
   "metadata": {
    "collapsed": false
   },
   "outputs": [
    {
     "name": "stdout",
     "output_type": "stream",
     "text": [
      "[1 2 3 4 5 6 7 8 9]\n",
      "\n",
      "[ 1.   1.5  2.   2.5  3.   3.5  4.   4.5  5.   5.5  6.   6.5  7.   7.5  8.\n",
      "  8.5  9.   9.5]\n"
     ]
    }
   ],
   "source": [
    "# Using the arange function you can retrieve linearly\n",
    "# spaced integers\n",
    "lin_space_int = np.arange(1,10)\n",
    "print(lin_space_int)\n",
    "print()\n",
    "\n",
    "# Or specify a step to create different spacings\n",
    "lin_space_new = np.arange(1,10,0.5)\n",
    "print(lin_space_new)"
   ]
  },
  {
   "cell_type": "markdown",
   "metadata": {},
   "source": [
    "### Array mathematics"
   ]
  },
  {
   "cell_type": "code",
   "execution_count": 88,
   "metadata": {
    "collapsed": false
   },
   "outputs": [
    {
     "name": "stdout",
     "output_type": "stream",
     "text": [
      "[[  6.   8.]\n",
      " [ 10.  12.]]\n",
      "\n",
      "[[-4. -4.]\n",
      " [-4. -4.]]\n",
      "\n",
      "[[  5.  12.]\n",
      " [ 21.  32.]]\n",
      "\n",
      "[[ 0.2         0.33333333]\n",
      " [ 0.42857143  0.5       ]]\n",
      "\n",
      "[[ 1.          1.41421356]\n",
      " [ 1.73205081  2.        ]]\n",
      "\n",
      "[[ 19.  22.]\n",
      " [ 43.  50.]]\n",
      "\n",
      "10.0\n",
      "\n",
      "[ 4.  6.]\n",
      "\n",
      "[[ 1.  2.]\n",
      " [ 3.  4.]]\n",
      "\n",
      "[[ 1.  3.]\n",
      " [ 2.  4.]]\n"
     ]
    }
   ],
   "source": [
    "# Declare two example arrays\n",
    "x = np.array([[1,2],[3,4]], dtype=np.float64)\n",
    "y = np.array([[5,6],[7,8]], dtype=np.float64)\n",
    "\n",
    "# By default, operations are element wise in NumPy\n",
    "\n",
    "# Addition, two options\n",
    "print(x+y)\n",
    "#print(np.add(x,y))\n",
    "print()\n",
    "\n",
    "# Subtraction\n",
    "print(x-y)\n",
    "#print(np.subtract(x,y))\n",
    "print()\n",
    "\n",
    "# Product\n",
    "print(x*y)\n",
    "#print np.multiply(x,y)\n",
    "print()\n",
    "\n",
    "# Division\n",
    "print(x/y)\n",
    "#print(np.divide(x,y))\n",
    "print()\n",
    "\n",
    "# Square Root\n",
    "print(np.sqrt(x))\n",
    "print()\n",
    "\n",
    "## For Matrix operations, use the set of NumPy functions\n",
    "\n",
    "# Dot product\n",
    "print(x.dot(y))\n",
    "#print(np.dot(x,y))\n",
    "print()\n",
    "\n",
    "# You can also sum across dimensions easily\n",
    "print(np.sum(x)) # For every element\n",
    "print()\n",
    "\n",
    "print(np.sum(x,axis=0))\n",
    "print()\n",
    "\n",
    "# Or transpose a Matrix\n",
    "print(x)\n",
    "print()\n",
    "print(x.T)"
   ]
  },
  {
   "cell_type": "markdown",
   "metadata": {},
   "source": [
    "## **Challenge**\n",
    "#### Declare a 5 by 5 array of any numbers you want using one of the above methods we've discussed. Then read [this](https://docs.scipy.org/doc/numpy/reference/arrays.ndarray.html) NumPy documentation, when you are ready print the mean, standard deviation, minimum and maximum of your array"
   ]
  },
  {
   "cell_type": "code",
   "execution_count": 94,
   "metadata": {
    "collapsed": true
   },
   "outputs": [],
   "source": [
    "# TO DO \n",
    "# You can declare an array of random numbers or start with a list of lists\n",
    "# Check your array is the right size by printing the .shape attribute\n",
    "\n",
    "\n",
    "\n",
    "# Print the mean\n",
    "\n",
    "\n",
    "# Print the standard deviation \n",
    "\n",
    "\n",
    "# Print the minimum\n",
    "\n",
    "\n",
    "# Print the maximum\n",
    "\n",
    "\n",
    "\n",
    "# END TODO"
   ]
  },
  {
   "cell_type": "markdown",
   "metadata": {},
   "source": [
    "## Pandas"
   ]
  },
  {
   "cell_type": "markdown",
   "metadata": {
    "collapsed": true
   },
   "source": [
    "Pandas is a data manipulation package that we've glimpsed before. If you know R, then the Pandas Dataframe type will be very familiar, if not you can think of a Dataframe is a spreadsheet like object which can be manipulated and interfaced with much easier than lists of dictionaries (or dictionaries of lists!).\n",
    "\n",
    "[Link to Pandas documentation](http://pandas.pydata.org/pandas-docs/stable/index.html)"
   ]
  },
  {
   "cell_type": "markdown",
   "metadata": {},
   "source": [
    "### The main Pandas feature - the DataFrame type"
   ]
  },
  {
   "cell_type": "code",
   "execution_count": 35,
   "metadata": {
    "collapsed": false
   },
   "outputs": [
    {
     "name": "stdout",
     "output_type": "stream",
     "text": [
      "          A         B         C         D\n",
      "0 -0.128554  0.558958  1.288496  1.122712\n",
      "1 -1.863369  1.625354  0.311839  0.737797\n",
      "2 -0.912199 -0.007311 -0.257492  1.060647\n"
     ]
    },
    {
     "data": {
      "text/html": [
       "<div>\n",
       "<table border=\"1\" class=\"dataframe\">\n",
       "  <thead>\n",
       "    <tr style=\"text-align: right;\">\n",
       "      <th></th>\n",
       "      <th>A</th>\n",
       "      <th>B</th>\n",
       "      <th>C</th>\n",
       "      <th>D</th>\n",
       "      <th>E</th>\n",
       "    </tr>\n",
       "  </thead>\n",
       "  <tbody>\n",
       "    <tr>\n",
       "      <th>0</th>\n",
       "      <td>1</td>\n",
       "      <td>2016-12-25</td>\n",
       "      <td>1.0</td>\n",
       "      <td>Test</td>\n",
       "      <td>True</td>\n",
       "    </tr>\n",
       "    <tr>\n",
       "      <th>1</th>\n",
       "      <td>2</td>\n",
       "      <td>2015-12-25</td>\n",
       "      <td>1.0</td>\n",
       "      <td>Test</td>\n",
       "      <td>True</td>\n",
       "    </tr>\n",
       "    <tr>\n",
       "      <th>2</th>\n",
       "      <td>3</td>\n",
       "      <td>2014-12-25</td>\n",
       "      <td>1.0</td>\n",
       "      <td>Test</td>\n",
       "      <td>False</td>\n",
       "    </tr>\n",
       "    <tr>\n",
       "      <th>3</th>\n",
       "      <td>4</td>\n",
       "      <td>2013-12-25</td>\n",
       "      <td>1.0</td>\n",
       "      <td>Train</td>\n",
       "      <td>False</td>\n",
       "    </tr>\n",
       "  </tbody>\n",
       "</table>\n",
       "</div>"
      ],
      "text/plain": [
       "   A           B    C      D      E\n",
       "0  1  2016-12-25  1.0   Test   True\n",
       "1  2  2015-12-25  1.0   Test   True\n",
       "2  3  2014-12-25  1.0   Test  False\n",
       "3  4  2013-12-25  1.0  Train  False"
      ]
     },
     "execution_count": 35,
     "metadata": {},
     "output_type": "execute_result"
    }
   ],
   "source": [
    "# Pandas DataFrames can be initialised using Numpy objects or\n",
    "# or with native Python objects.\n",
    "\n",
    "# Using Numpy\n",
    "df1 = pd.DataFrame(np.random.randn(3,4),columns=list('ABCD'))\n",
    "print(df1)\n",
    "\n",
    "# Or with a dictionary of list vales\n",
    "my_dict = {\n",
    "    'A':[1,2,3,4],\n",
    "    'B':['2016-12-25','2015-12-25','2014-12-25','2013-12-25'],\n",
    "    'C':pd.Series(1,index=list(range(4)),dtype=\"float32\"),\n",
    "    'D':pd.Categorical(['Test','Test','Test','Train']),\n",
    "    'E':[True,True,False,False]\n",
    "}\n",
    "df2 = pd.DataFrame(my_dict)\n",
    "df2"
   ]
  },
  {
   "cell_type": "code",
   "execution_count": 37,
   "metadata": {
    "collapsed": false
   },
   "outputs": [
    {
     "data": {
      "text/plain": [
       "A       int64\n",
       "B      object\n",
       "C     float32\n",
       "D    category\n",
       "E        bool\n",
       "dtype: object"
      ]
     },
     "execution_count": 37,
     "metadata": {},
     "output_type": "execute_result"
    }
   ],
   "source": [
    "# Many features of the DataFrame are similar to a NumPy array\n",
    "\n",
    "df2.dtypes\n",
    "\n",
    "#df2.shape"
   ]
  },
  {
   "cell_type": "code",
   "execution_count": 39,
   "metadata": {
    "collapsed": false
   },
   "outputs": [
    {
     "data": {
      "text/html": [
       "<div>\n",
       "<table border=\"1\" class=\"dataframe\">\n",
       "  <thead>\n",
       "    <tr style=\"text-align: right;\">\n",
       "      <th></th>\n",
       "      <th>A</th>\n",
       "      <th>C</th>\n",
       "    </tr>\n",
       "  </thead>\n",
       "  <tbody>\n",
       "    <tr>\n",
       "      <th>count</th>\n",
       "      <td>4.000000</td>\n",
       "      <td>4.0</td>\n",
       "    </tr>\n",
       "    <tr>\n",
       "      <th>mean</th>\n",
       "      <td>2.500000</td>\n",
       "      <td>1.0</td>\n",
       "    </tr>\n",
       "    <tr>\n",
       "      <th>std</th>\n",
       "      <td>1.290994</td>\n",
       "      <td>0.0</td>\n",
       "    </tr>\n",
       "    <tr>\n",
       "      <th>min</th>\n",
       "      <td>1.000000</td>\n",
       "      <td>1.0</td>\n",
       "    </tr>\n",
       "    <tr>\n",
       "      <th>25%</th>\n",
       "      <td>1.750000</td>\n",
       "      <td>1.0</td>\n",
       "    </tr>\n",
       "    <tr>\n",
       "      <th>50%</th>\n",
       "      <td>2.500000</td>\n",
       "      <td>1.0</td>\n",
       "    </tr>\n",
       "    <tr>\n",
       "      <th>75%</th>\n",
       "      <td>3.250000</td>\n",
       "      <td>1.0</td>\n",
       "    </tr>\n",
       "    <tr>\n",
       "      <th>max</th>\n",
       "      <td>4.000000</td>\n",
       "      <td>1.0</td>\n",
       "    </tr>\n",
       "  </tbody>\n",
       "</table>\n",
       "</div>"
      ],
      "text/plain": [
       "              A    C\n",
       "count  4.000000  4.0\n",
       "mean   2.500000  1.0\n",
       "std    1.290994  0.0\n",
       "min    1.000000  1.0\n",
       "25%    1.750000  1.0\n",
       "50%    2.500000  1.0\n",
       "75%    3.250000  1.0\n",
       "max    4.000000  1.0"
      ]
     },
     "execution_count": 39,
     "metadata": {},
     "output_type": "execute_result"
    }
   ],
   "source": [
    "# A fast way to grab quick insights of the numerical features\n",
    "# of your data is to use .describe()\n",
    "\n",
    "df2.describe()"
   ]
  },
  {
   "cell_type": "code",
   "execution_count": 44,
   "metadata": {
    "collapsed": false
   },
   "outputs": [
    {
     "data": {
      "text/html": [
       "<div>\n",
       "<table border=\"1\" class=\"dataframe\">\n",
       "  <thead>\n",
       "    <tr style=\"text-align: right;\">\n",
       "      <th></th>\n",
       "      <th>E</th>\n",
       "      <th>D</th>\n",
       "      <th>C</th>\n",
       "      <th>B</th>\n",
       "      <th>A</th>\n",
       "    </tr>\n",
       "  </thead>\n",
       "  <tbody>\n",
       "    <tr>\n",
       "      <th>0</th>\n",
       "      <td>True</td>\n",
       "      <td>Test</td>\n",
       "      <td>1.0</td>\n",
       "      <td>2016-12-25</td>\n",
       "      <td>1</td>\n",
       "    </tr>\n",
       "    <tr>\n",
       "      <th>1</th>\n",
       "      <td>True</td>\n",
       "      <td>Test</td>\n",
       "      <td>1.0</td>\n",
       "      <td>2015-12-25</td>\n",
       "      <td>2</td>\n",
       "    </tr>\n",
       "    <tr>\n",
       "      <th>2</th>\n",
       "      <td>False</td>\n",
       "      <td>Test</td>\n",
       "      <td>1.0</td>\n",
       "      <td>2014-12-25</td>\n",
       "      <td>3</td>\n",
       "    </tr>\n",
       "    <tr>\n",
       "      <th>3</th>\n",
       "      <td>False</td>\n",
       "      <td>Train</td>\n",
       "      <td>1.0</td>\n",
       "      <td>2013-12-25</td>\n",
       "      <td>4</td>\n",
       "    </tr>\n",
       "  </tbody>\n",
       "</table>\n",
       "</div>"
      ],
      "text/plain": [
       "       E      D    C           B  A\n",
       "0   True   Test  1.0  2016-12-25  1\n",
       "1   True   Test  1.0  2015-12-25  2\n",
       "2  False   Test  1.0  2014-12-25  3\n",
       "3  False  Train  1.0  2013-12-25  4"
      ]
     },
     "execution_count": 44,
     "metadata": {},
     "output_type": "execute_result"
    }
   ],
   "source": [
    "# We can sort and organise our dataframe based upon defined regions\n",
    "df2.sort_index(axis=1,ascending=False)"
   ]
  },
  {
   "cell_type": "code",
   "execution_count": 45,
   "metadata": {
    "collapsed": false
   },
   "outputs": [
    {
     "data": {
      "text/html": [
       "<div>\n",
       "<table border=\"1\" class=\"dataframe\">\n",
       "  <thead>\n",
       "    <tr style=\"text-align: right;\">\n",
       "      <th></th>\n",
       "      <th>A</th>\n",
       "      <th>B</th>\n",
       "      <th>C</th>\n",
       "      <th>D</th>\n",
       "      <th>E</th>\n",
       "    </tr>\n",
       "  </thead>\n",
       "  <tbody>\n",
       "    <tr>\n",
       "      <th>3</th>\n",
       "      <td>4</td>\n",
       "      <td>2013-12-25</td>\n",
       "      <td>1.0</td>\n",
       "      <td>Train</td>\n",
       "      <td>False</td>\n",
       "    </tr>\n",
       "    <tr>\n",
       "      <th>2</th>\n",
       "      <td>3</td>\n",
       "      <td>2014-12-25</td>\n",
       "      <td>1.0</td>\n",
       "      <td>Test</td>\n",
       "      <td>False</td>\n",
       "    </tr>\n",
       "    <tr>\n",
       "      <th>1</th>\n",
       "      <td>2</td>\n",
       "      <td>2015-12-25</td>\n",
       "      <td>1.0</td>\n",
       "      <td>Test</td>\n",
       "      <td>True</td>\n",
       "    </tr>\n",
       "    <tr>\n",
       "      <th>0</th>\n",
       "      <td>1</td>\n",
       "      <td>2016-12-25</td>\n",
       "      <td>1.0</td>\n",
       "      <td>Test</td>\n",
       "      <td>True</td>\n",
       "    </tr>\n",
       "  </tbody>\n",
       "</table>\n",
       "</div>"
      ],
      "text/plain": [
       "   A           B    C      D      E\n",
       "3  4  2013-12-25  1.0  Train  False\n",
       "2  3  2014-12-25  1.0   Test  False\n",
       "1  2  2015-12-25  1.0   Test   True\n",
       "0  1  2016-12-25  1.0   Test   True"
      ]
     },
     "execution_count": 45,
     "metadata": {},
     "output_type": "execute_result"
    }
   ],
   "source": [
    "df2.sort_values(by='B')"
   ]
  },
  {
   "cell_type": "markdown",
   "metadata": {},
   "source": [
    "#### Selecting elements"
   ]
  },
  {
   "cell_type": "code",
   "execution_count": 49,
   "metadata": {
    "collapsed": false
   },
   "outputs": [
    {
     "data": {
      "text/plain": [
       "0    1.0\n",
       "1    1.0\n",
       "2    1.0\n",
       "3    1.0\n",
       "Name: C, dtype: float32"
      ]
     },
     "execution_count": 49,
     "metadata": {},
     "output_type": "execute_result"
    }
   ],
   "source": [
    "# Use [] indexing and a column name to grab columns\n",
    "df2['C']"
   ]
  },
  {
   "cell_type": "code",
   "execution_count": 50,
   "metadata": {
    "collapsed": false
   },
   "outputs": [
    {
     "data": {
      "text/html": [
       "<div>\n",
       "<table border=\"1\" class=\"dataframe\">\n",
       "  <thead>\n",
       "    <tr style=\"text-align: right;\">\n",
       "      <th></th>\n",
       "      <th>A</th>\n",
       "      <th>B</th>\n",
       "      <th>C</th>\n",
       "      <th>D</th>\n",
       "      <th>E</th>\n",
       "    </tr>\n",
       "  </thead>\n",
       "  <tbody>\n",
       "    <tr>\n",
       "      <th>1</th>\n",
       "      <td>2</td>\n",
       "      <td>2015-12-25</td>\n",
       "      <td>1.0</td>\n",
       "      <td>Test</td>\n",
       "      <td>True</td>\n",
       "    </tr>\n",
       "    <tr>\n",
       "      <th>2</th>\n",
       "      <td>3</td>\n",
       "      <td>2014-12-25</td>\n",
       "      <td>1.0</td>\n",
       "      <td>Test</td>\n",
       "      <td>False</td>\n",
       "    </tr>\n",
       "  </tbody>\n",
       "</table>\n",
       "</div>"
      ],
      "text/plain": [
       "   A           B    C     D      E\n",
       "1  2  2015-12-25  1.0  Test   True\n",
       "2  3  2014-12-25  1.0  Test  False"
      ]
     },
     "execution_count": 50,
     "metadata": {},
     "output_type": "execute_result"
    }
   ],
   "source": [
    "# Use [] and row values to grab rows\n",
    "df2[1:3]"
   ]
  },
  {
   "cell_type": "code",
   "execution_count": 54,
   "metadata": {
    "collapsed": false
   },
   "outputs": [
    {
     "data": {
      "text/plain": [
       "A             1\n",
       "B    2016-12-25\n",
       "C             1\n",
       "D          Test\n",
       "E          True\n",
       "Name: 0, dtype: object"
      ]
     },
     "execution_count": 54,
     "metadata": {},
     "output_type": "execute_result"
    }
   ],
   "source": [
    "# Or use .loc to retrieve specific values like the 0th row\n",
    "df2.loc[0]"
   ]
  },
  {
   "cell_type": "code",
   "execution_count": 57,
   "metadata": {
    "collapsed": false
   },
   "outputs": [
    {
     "data": {
      "text/html": [
       "<div>\n",
       "<table border=\"1\" class=\"dataframe\">\n",
       "  <thead>\n",
       "    <tr style=\"text-align: right;\">\n",
       "      <th></th>\n",
       "      <th>A</th>\n",
       "      <th>B</th>\n",
       "      <th>C</th>\n",
       "      <th>D</th>\n",
       "      <th>E</th>\n",
       "    </tr>\n",
       "  </thead>\n",
       "  <tbody>\n",
       "    <tr>\n",
       "      <th>0</th>\n",
       "      <td>1</td>\n",
       "      <td>2016-12-25</td>\n",
       "      <td>1.0</td>\n",
       "      <td>Test</td>\n",
       "      <td>True</td>\n",
       "    </tr>\n",
       "    <tr>\n",
       "      <th>1</th>\n",
       "      <td>2</td>\n",
       "      <td>2015-12-25</td>\n",
       "      <td>1.0</td>\n",
       "      <td>Test</td>\n",
       "      <td>True</td>\n",
       "    </tr>\n",
       "  </tbody>\n",
       "</table>\n",
       "</div>"
      ],
      "text/plain": [
       "   A           B    C     D     E\n",
       "0  1  2016-12-25  1.0  Test  True\n",
       "1  2  2015-12-25  1.0  Test  True"
      ]
     },
     "execution_count": 57,
     "metadata": {},
     "output_type": "execute_result"
    }
   ],
   "source": [
    "# Or use loc and a condition\n",
    "\n",
    "df2.loc[df2['E']==True]"
   ]
  },
  {
   "cell_type": "markdown",
   "metadata": {
    "collapsed": true
   },
   "source": [
    "### Revisiting what we did on the first day"
   ]
  },
  {
   "cell_type": "code",
   "execution_count": 15,
   "metadata": {
    "collapsed": false
   },
   "outputs": [
    {
     "data": {
      "text/html": [
       "<div>\n",
       "<table border=\"1\" class=\"dataframe\">\n",
       "  <thead>\n",
       "    <tr style=\"text-align: right;\">\n",
       "      <th></th>\n",
       "      <th>Open</th>\n",
       "      <th>High</th>\n",
       "      <th>Low</th>\n",
       "      <th>Close</th>\n",
       "      <th>Volume</th>\n",
       "    </tr>\n",
       "    <tr>\n",
       "      <th>Date</th>\n",
       "      <th></th>\n",
       "      <th></th>\n",
       "      <th></th>\n",
       "      <th></th>\n",
       "      <th></th>\n",
       "    </tr>\n",
       "  </thead>\n",
       "  <tbody>\n",
       "    <tr>\n",
       "      <th>2016-09-26</th>\n",
       "      <td>782.74</td>\n",
       "      <td>782.74</td>\n",
       "      <td>773.07</td>\n",
       "      <td>774.21</td>\n",
       "      <td>1533206</td>\n",
       "    </tr>\n",
       "    <tr>\n",
       "      <th>2016-09-27</th>\n",
       "      <td>775.50</td>\n",
       "      <td>785.99</td>\n",
       "      <td>774.31</td>\n",
       "      <td>783.01</td>\n",
       "      <td>1153247</td>\n",
       "    </tr>\n",
       "    <tr>\n",
       "      <th>2016-09-28</th>\n",
       "      <td>777.85</td>\n",
       "      <td>781.81</td>\n",
       "      <td>774.97</td>\n",
       "      <td>781.56</td>\n",
       "      <td>1109834</td>\n",
       "    </tr>\n",
       "    <tr>\n",
       "      <th>2016-09-29</th>\n",
       "      <td>781.44</td>\n",
       "      <td>785.80</td>\n",
       "      <td>774.23</td>\n",
       "      <td>775.01</td>\n",
       "      <td>1314746</td>\n",
       "    </tr>\n",
       "    <tr>\n",
       "      <th>2016-09-30</th>\n",
       "      <td>776.33</td>\n",
       "      <td>780.94</td>\n",
       "      <td>774.09</td>\n",
       "      <td>777.29</td>\n",
       "      <td>1585333</td>\n",
       "    </tr>\n",
       "  </tbody>\n",
       "</table>\n",
       "</div>"
      ],
      "text/plain": [
       "              Open    High     Low   Close   Volume\n",
       "Date                                               \n",
       "2016-09-26  782.74  782.74  773.07  774.21  1533206\n",
       "2016-09-27  775.50  785.99  774.31  783.01  1153247\n",
       "2016-09-28  777.85  781.81  774.97  781.56  1109834\n",
       "2016-09-29  781.44  785.80  774.23  775.01  1314746\n",
       "2016-09-30  776.33  780.94  774.09  777.29  1585333"
      ]
     },
     "execution_count": 15,
     "metadata": {},
     "output_type": "execute_result"
    }
   ],
   "source": [
    "# Choose a stock\n",
    "ticker = 'GOOG'\n",
    "\n",
    "# Choose a start date in US format MM/DD/YYYY\n",
    "stock_start = '10/2/2014'\n",
    "# Choose an end date in US format MM/DD/YYYY\n",
    "stock_end = '10/2/2016'\n",
    "\n",
    "# Retrieve the Data from Google's Finance Database\n",
    "stock = web.DataReader(ticker,data_source='google',\n",
    "                       start = stock_start,end=stock_end)\n",
    "\n",
    "# Print a table of the Data to see what we have just fetched\n",
    "stock.tail()"
   ]
  },
  {
   "cell_type": "code",
   "execution_count": 20,
   "metadata": {
    "collapsed": false
   },
   "outputs": [],
   "source": [
    "# Generate the logarithm of the ratio between each days closing price\n",
    "stock['Log_Ret'] = np.log(stock['Close']/stock['Close'].shift(1))\n",
    "\n",
    "# Generate the rolling standard deviation across the time series data\n",
    "stock['Volatility'] = (stock['Log_Ret'].rolling(window=100).std())*np.sqrt(100)"
   ]
  },
  {
   "cell_type": "code",
   "execution_count": 21,
   "metadata": {
    "collapsed": false
   },
   "outputs": [
    {
     "data": {
      "text/plain": [
       "array([<matplotlib.axes._subplots.AxesSubplot object at 0x11126ac18>,\n",
       "       <matplotlib.axes._subplots.AxesSubplot object at 0x110a275f8>], dtype=object)"
      ]
     },
     "execution_count": 21,
     "metadata": {},
     "output_type": "execute_result"
    },
    {
     "data": {
      "image/png": "[encoded data removed]",
      "text/plain": [
       "<matplotlib.figure.Figure at 0x1112710f0>"
      ]
     },
     "metadata": {},
     "output_type": "display_data"
    }
   ],
   "source": [
    "# Create a plot of changing Closing Price and Volatility\n",
    "stock[['Close','Volatility']].plot(subplots=True,color='b',figsize=(8,6))"
   ]
  },
  {
   "cell_type": "code",
   "execution_count": null,
   "metadata": {
    "collapsed": true
   },
   "outputs": [],
   "source": []
  }
 ],
 "metadata": {
  "anaconda-cloud": {},
  "kernelspec": {
   "display_name": "Python [default]",
   "language": "python",
   "name": "python3"
  },
  "language_info": {
   "codemirror_mode": {
    "name": "ipython",
    "version": 3
   },
   "file_extension": ".py",
   "mimetype": "text/x-python",
   "name": "python",
   "nbconvert_exporter": "python",
   "pygments_lexer": "ipython3",
   "version": "3.5.2"
  }
 },
 "nbformat": 4,
 "nbformat_minor": 0
}
