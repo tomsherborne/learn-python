{
 "cells": [
  {
   "cell_type": "markdown",
   "metadata": {},
   "source": [
    "## LSESU Applicable Maths Python Lesson 7\n",
    "###### 6/12/16"
   ]
  },
  {
   "cell_type": "markdown",
   "metadata": {},
   "source": [
    "In the last lesson of the term, we'll be looking at how to apply what we learnt last week with data manipulation with Numpy and Pandas to Data Visualisation with:\n",
    "    * Matplotlib\n",
    "    * Seaborn"
   ]
  },
  {
   "cell_type": "code",
   "execution_count": null,
   "metadata": {
    "collapsed": false
   },
   "outputs": [],
   "source": [
    "# Run this if you are using a Mac machine or have multiple versions of Python installed\n",
    "!pip3 install numpy==1.11.1 pandas==0.19.1 matplotlib==1.5.3 seaborn==0.7.1 --upgrade"
   ]
  },
  {
   "cell_type": "code",
   "execution_count": null,
   "metadata": {
    "collapsed": true
   },
   "outputs": [],
   "source": [
    "# Run this if you are using a Windows machine\n",
    "!pip install numpy==1.11.1 pandas==0.19.0 matplotlib==1.5.3 seaborn==0.7.1 --upgrade"
   ]
  },
  {
   "cell_type": "code",
   "execution_count": null,
   "metadata": {
    "collapsed": true
   },
   "outputs": [],
   "source": [
    "# Everyone run this block\n",
    "import numpy as np\n",
    "import pandas as pd\n",
    "import matplotlib as mpl\n",
    "import matplotlib.pyplot as plt\n",
    "import seaborn as sns\n",
    "%matplotlib inline"
   ]
  },
  {
   "cell_type": "markdown",
   "metadata": {},
   "source": [
    "## Matplotlib"
   ]
  },
  {
   "cell_type": "markdown",
   "metadata": {},
   "source": [
    "Matplotlib is the standard package for 2D plot and graph generation in Python. Much of the interface is based on the interface for MATLAB, a powerful scripting language for scientific computing that I use everyday. \n",
    "\n",
    "* The `matplotlib` library, shortened to `mpl`, provides tools to create highly customisable figures and plots.\n",
    "* The `pyplot`, or `plt`, library is the interface section of `mpl` which provides the easy to use interactions with the rich `mpl` tools.\n",
    "\n",
    "[Here](http://matplotlib.org/users/beginner.html) is a link to some official beginner tutorials from the Matplotlib project if you want to try something more complex than what we will do today."
   ]
  },
  {
   "cell_type": "markdown",
   "metadata": {},
   "source": [
    "### Getting started\n",
    "\n",
    "Let's plot a simple figure of a sine and a cosine wave. We'll go through each phase of creating the plot step by step."
   ]
  },
  {
   "cell_type": "code",
   "execution_count": null,
   "metadata": {
    "collapsed": true
   },
   "outputs": [],
   "source": [
    "# Create a linearly spaced 1x256 vector between -pi to pi\n",
    "X = np.linspace(-np.pi,np.pi,256,endpoint=True)\n",
    "\n",
    "# Create sine and cosine wave vectors from the X vector\n",
    "C,S = np.cos(X),np.sin(X)"
   ]
  },
  {
   "cell_type": "code",
   "execution_count": null,
   "metadata": {
    "collapsed": false
   },
   "outputs": [],
   "source": [
    "# Create a figure object. This is an abstract frame to plot things in\n",
    "plt.figure()\n",
    "\n",
    "# Plot the Cosine against X, and Sine against X\n",
    "plt.plot(X,C)\n",
    "plt.plot(X,S)\n",
    "\n",
    "# Force the display of the figure\n",
    "plt.show()"
   ]
  },
  {
   "cell_type": "markdown",
   "metadata": {},
   "source": [
    "### Cleaning up this plot"
   ]
  },
  {
   "cell_type": "code",
   "execution_count": null,
   "metadata": {
    "collapsed": false
   },
   "outputs": [],
   "source": [
    "X = np.linspace(-np.pi,np.pi,256,endpoint=True)\n",
    "C,S = np.cos(X),np.sin(X)\n",
    "\n",
    "\n",
    "# Create a figure object. This is an abstract frame to plot things in\n",
    "plt.figure(figsize=(10,8),dpi=80)\n",
    "\n",
    "# Plot the Cosine against X, and Sine against X\n",
    "plt.plot(X,C,color='m',linewidth=2.3,linestyle=':',label='cos')\n",
    "plt.plot(X,S,color='c',linewidth=5,linestyle='--',label='sin')\n",
    "\n",
    "# Set the x and y axis limits\n",
    "plt.xlim(X.min()*1.1,X.max()*1.1)\n",
    "plt.ylim(C.min()*1.1,C.max()*1.1)\n",
    "\n",
    "# Add figure labels\n",
    "plt.title('Sine and Cosine waves from -$\\pi$ to $\\pi$',fontsize=20)\n",
    "plt.xlabel('X axis')\n",
    "plt.ylabel('Y axis')\n",
    "\n",
    "# Set the x and y ticks\n",
    "plt.xticks([-np.pi,-np.pi/2,0,np.pi/2,np.pi],\n",
    "          ['$-\\pi$','$-\\pi/2$','$0$','$+\\pi/2$','$+\\pi$'],\n",
    "          fontsize=20)\n",
    "plt.yticks([-1,0,1],fontsize=20)\n",
    "\n",
    "# Add a legend\n",
    "plt.legend(loc='upper left',fontsize=20)\n",
    "\n",
    "# Force the display of the figure\n",
    "plt.show()"
   ]
  },
  {
   "cell_type": "markdown",
   "metadata": {},
   "source": [
    "### Challenge - Add a plot of the `tan(x)` function to the figure we just created.\n",
    "\n",
    "Things to consider:\n",
    "   * You will need to use the existing X vector and a new function\n",
    "   * Declare all your code in between what is already written (don't just write it all at the end of the block!)\n",
    "   * You might want to change the update the title, axis limits, line widths and color of your new line\n",
    "   * You also might want to move the legend out of the axes! [Here is a hint on how to do that](http://matplotlib.org/users/legend_guide.html)"
   ]
  },
  {
   "cell_type": "markdown",
   "metadata": {},
   "source": [
    "## What else you can do with Matplotlib?"
   ]
  },
  {
   "cell_type": "markdown",
   "metadata": {},
   "source": [
    "#### Scatter plot"
   ]
  },
  {
   "cell_type": "code",
   "execution_count": null,
   "metadata": {
    "collapsed": false
   },
   "outputs": [],
   "source": [
    "n = 1024\n",
    "X = np.random.normal(0, 1, n)\n",
    "Y = np.random.normal(0, 1, n)\n",
    "\n",
    "T = np.arctan2(Y, X)\n",
    "colors = mpl.cm.rainbow(np.linspace(0, 1,n)) # replace the rainbow arg with T\n",
    "\n",
    "plt.axes([0.025, 0.025, 0.95, 0.95])\n",
    "plt.scatter(X, Y, s=50, c=colors, alpha=0.5)\n",
    "\n",
    "plt.xlim(-1.5, 1.5)\n",
    "plt.xticks(())\n",
    "plt.ylim(-1.5, 1.5)\n",
    "plt.yticks(())\n",
    "\n",
    "plt.show()"
   ]
  },
  {
   "cell_type": "markdown",
   "metadata": {},
   "source": [
    "### Sampling from a normal distribution"
   ]
  },
  {
   "cell_type": "code",
   "execution_count": null,
   "metadata": {
    "collapsed": false
   },
   "outputs": [],
   "source": [
    "# Define a normal distribution\n",
    "mu, sigma = 0,1\n",
    "samples = np.random.normal(mu,sigma,100000000)\n",
    "\n",
    "\n",
    "count,bins,ignored = plt.hist(samples,30,normed=True)\n",
    "plt.plot(bins,1/(sigma*np.sqrt(2*np.pi)) *\n",
    "        np.exp(-(bins-mu)**2 / (2*sigma**2)),\n",
    "        linewidth=3,linestyle=':',color='r')\n",
    "plt.show()\n"
   ]
  },
  {
   "cell_type": "markdown",
   "metadata": {},
   "source": [
    "### 3D Plots"
   ]
  },
  {
   "cell_type": "code",
   "execution_count": null,
   "metadata": {
    "collapsed": false
   },
   "outputs": [],
   "source": [
    "from mpl_toolkits.mplot3d import Axes3D\n",
    "\n",
    "fig = plt.figure()\n",
    "ax = Axes3D(fig)\n",
    "X = np.arange(-4, 4, 0.25)\n",
    "Y = np.arange(-4, 4, 0.25)\n",
    "X, Y = np.meshgrid(X, Y)\n",
    "R = np.sqrt(X ** 2 + Y ** 2)\n",
    "Z = np.sin(R)\n",
    "\n",
    "ax.plot_surface(X, Y, Z, rstride=1, cstride=1, cmap=plt.cm.rainbow)\n",
    "ax.contourf(X, Y, Z, zdir='z', offset=-2, cmap=plt.cm.rainbow)\n",
    "ax.set_zlim(-2, 2)\n",
    "\n",
    "plt.show()"
   ]
  },
  {
   "cell_type": "markdown",
   "metadata": {},
   "source": [
    "## Seaborn"
   ]
  },
  {
   "cell_type": "markdown",
   "metadata": {},
   "source": [
    "Seaborn is an alternative data visualisation library which has more of a focus on statistical graphs. Seaborn works really well with Pandas and if you create a Pandas DataFrame you can easily generate a Seaborn plot."
   ]
  },
  {
   "cell_type": "code",
   "execution_count": null,
   "metadata": {
    "collapsed": false
   },
   "outputs": [],
   "source": [
    "sns.set() # Set up fig with default stylings\n",
    "\n",
    "# Everybody help me fill in this dictionary!\n",
    "birthdays = {\n",
    "    'jan':{18:0,19:0,20:0,21:0,22:0,23:0,24:0,25:0,26:0,27:0,28:0,29:0,30:0},\n",
    "    'feb':{18:0,19:0,20:0,21:0,22:0,23:0,24:0,25:0,26:0,27:0,28:0,29:0,30:0},\n",
    "    'mar':{18:0,19:0,20:0,21:0,22:0,23:0,24:0,25:0,26:0,27:0,28:0,29:0,30:0},\n",
    "    'apr':{18:0,19:0,20:0,21:0,22:0,23:0,24:0,25:0,26:0,27:0,28:0,29:0,30:0},\n",
    "    'may':{18:0,19:0,20:0,21:0,22:0,23:0,24:0,25:0,26:0,27:0,28:0,29:0,30:0},\n",
    "    'jun':{18:0,19:0,20:0,21:0,22:0,23:0,24:0,25:0,26:0,27:0,28:0,29:0,30:0},\n",
    "    'jul':{18:0,19:0,20:0,21:0,22:0,23:0,24:0,25:0,26:0,27:0,28:0,29:0,30:0},\n",
    "    'aug':{18:0,19:0,20:0,21:0,22:0,23:0,24:0,25:0,26:0,27:0,28:0,29:0,30:0},\n",
    "    'sep':{18:0,19:0,20:0,21:0,22:0,23:0,24:0,25:0,26:0,27:0,28:0,29:0,30:0},\n",
    "    'oct':{18:0,19:0,20:0,21:0,22:1,23:0,24:0,25:0,26:0,27:0,28:0,29:0,30:0},\n",
    "    'nov':{18:0,19:0,20:0,21:0,22:0,23:0,24:0,25:0,26:0,27:0,28:0,29:0,30:0},\n",
    "    'dec':{18:0,19:0,20:0,21:0,22:0,23:0,24:0,25:0,26:0,27:0,28:0,29:0,30:0}\n",
    "}\n",
    "\n",
    "df = pd.DataFrame.from_dict(birthdays)\n",
    "df"
   ]
  },
  {
   "cell_type": "code",
   "execution_count": null,
   "metadata": {
    "collapsed": false
   },
   "outputs": [],
   "source": [
    "sns.heatmap(df)"
   ]
  },
  {
   "cell_type": "code",
   "execution_count": null,
   "metadata": {
    "collapsed": false
   },
   "outputs": [],
   "source": [
    "sns.heatmap(df,annot=True,fmt='d',linewidths=.5)"
   ]
  },
  {
   "cell_type": "markdown",
   "metadata": {},
   "source": [
    "The [Seaborn Tutorial Page](http://seaborn.pydata.org/tutorial.html) has a lot of resources for helping you get started with this package"
   ]
  },
  {
   "cell_type": "markdown",
   "metadata": {},
   "source": [
    "## Challenge\n",
    "\n",
    "* Use NumPy to generate a random number array of an arbitrary size (square or near square arrays look best though), then use Seaborn to generate a heatmap of this information\n",
    "* How few lines of code do you need to do this?\n",
    "* Seaborn uses Matplotlib in the background, add a title to the figure using what we learnt about this other package"
   ]
  },
  {
   "cell_type": "code",
   "execution_count": null,
   "metadata": {
    "collapsed": true
   },
   "outputs": [],
   "source": [
    "# TO DO\n",
    "sns.set()\n",
    "\n",
    "\n",
    "\n",
    "\n",
    "\n",
    "\n",
    "\n",
    "\n",
    "# END TO DO "
   ]
  },
  {
   "cell_type": "markdown",
   "metadata": {},
   "source": [
    "## Examples of other uses of the Heatmap in Seaborn"
   ]
  },
  {
   "cell_type": "markdown",
   "metadata": {},
   "source": [
    "![Average traffic of the NYC 1 train](http://i.imgur.com/NlG5fbd.png)"
   ]
  },
  {
   "cell_type": "markdown",
   "metadata": {},
   "source": [
    "![Terrorist Mentions by Country](http://i.imgur.com/0erqIvS.png)"
   ]
  }
 ],
 "metadata": {
  "anaconda-cloud": {},
  "kernelspec": {
   "display_name": "Python [default]",
   "language": "python",
   "name": "python3"
  },
  "language_info": {
   "codemirror_mode": {
    "name": "ipython",
    "version": 3
   },
   "file_extension": ".py",
   "mimetype": "text/x-python",
   "name": "python",
   "nbconvert_exporter": "python",
   "pygments_lexer": "ipython3",
   "version": "3.5.2"
  }
 },
 "nbformat": 4,
 "nbformat_minor": 1
}
