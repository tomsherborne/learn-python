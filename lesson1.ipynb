{
 "cells": [
  {
   "cell_type": "markdown",
   "metadata": {},
   "source": [
    "## LSESU Applicable Maths Python Lesson 1\n",
    "###### 18/10/16\n"
   ]
  },
  {
   "cell_type": "markdown",
   "metadata": {},
   "source": [
    "## Get yourself setup\n",
    "Make sure you have followed all the relevant instructions for your computer [here](https://github.com/trsherborne/learn-python#learn-programming-in-python)"
   ]
  },
  {
   "cell_type": "markdown",
   "metadata": {
    "collapsed": true
   },
   "source": [
    "### Python and REPL\n",
    "\n",
    "Python is a program on your computer like many others, the program takes instructions in the form of code and executes the instructions to the best of the program's ability. \n",
    "\n",
    "Some programming languages like C++ turn code into binary, ones and zeroes, which is called \"compiling\". But Python works in a different way. When you write code in Python, this is an input into the Python program, which has what is called an \"interpreter\" to turn your code into \"machine code\". You might hear Python being called an \"Interpreted language\" because of this.\n",
    "\n",
    "The Python interpreter, or \"shell\", uses REPL logic. REPL stands for \"Read/Evaluate/Print\". You write code, the program reads the code, checks that everything is correct according to the specific syntax of Python and then prints and executes the commands. \n",
    "__________________________________________________________"
   ]
  },
  {
   "cell_type": "markdown",
   "metadata": {},
   "source": [
    "You interact with the Python program directly when you execute, or \"run\", your code. You can do this with 1 line or 10,000.\n",
    "\n",
    "To run Python in Jupyter Notebook, click on the block you want to run and press the \"Run Cell\" button (Looks like \">|\") or press Shift+Enter. You can run any block with an In[ ]: to the left of it, these blocks are all for code."
   ]
  },
  {
   "cell_type": "code",
   "execution_count": null,
   "metadata": {
    "collapsed": false
   },
   "outputs": [],
   "source": [
    "# Print a \"Hello World!\"\n"
   ]
  },
  {
   "cell_type": "markdown",
   "metadata": {},
   "source": [
    "## Variables"
   ]
  },
  {
   "cell_type": "markdown",
   "metadata": {},
   "source": [
    "A variable is a reserved block of memory for the program to keep some information. This can be a number, a string (programming word for any words or characters) or many other types of \"object\". In Python, everything is a \"object\" and we will go onto more of what this means next week. \n",
    "\n",
    "In Python you don't have to declare what kind of variable anything is, you just write the variable and the program works the rest out."
   ]
  },
  {
   "cell_type": "code",
   "execution_count": null,
   "metadata": {
    "collapsed": false
   },
   "outputs": [],
   "source": [
    "# We use variables to assign easy names to any object\n",
    "\n",
    "pi = 3.14159265359793238462643383279502884197169399375105\n",
    "# pi is the VARIABLE NAME\n",
    "# 3.14159... is the VARIABLE VALUE\n",
    "# = is the \"assignment operator\" telling Python what the name \"pi\" is\n",
    "\n",
    "# Is the name or the value of this variable easier to remember?"
   ]
  },
  {
   "cell_type": "code",
   "execution_count": null,
   "metadata": {
    "collapsed": true
   },
   "outputs": [],
   "source": [
    "# You can also inspect any object using id()\n",
    "\n",
    "# And use type() to find out what kind of Object the variable is"
   ]
  },
  {
   "cell_type": "markdown",
   "metadata": {},
   "source": [
    "Kinds of variable"
   ]
  },
  {
   "cell_type": "code",
   "execution_count": null,
   "metadata": {
    "collapsed": false
   },
   "outputs": [],
   "source": [
    "# Integer\n",
    "a = 1\n",
    "print(type(a))\n",
    "\n",
    "# Float (Integer or Decimal values)\n",
    "b = 1.200\n",
    "print(type(b))\n",
    "\n",
    "# String\n",
    "c = 'Python'\n",
    "print(type(c))\n",
    "\n",
    "# Complex (Real and Imaginary numbers, Python uses the j notation from EE)\n",
    "d = 1+1j\n",
    "print(type(d))\n",
    "\n",
    "# TODO\n",
    "# Declare your own variable of any type and check the type\n",
    "\n",
    "\n",
    "\n",
    "\n",
    "# END TODO"
   ]
  },
  {
   "cell_type": "markdown",
   "metadata": {},
   "source": [
    "Multiple Assignments"
   ]
  },
  {
   "cell_type": "code",
   "execution_count": null,
   "metadata": {
    "collapsed": false
   },
   "outputs": [],
   "source": [
    "# All 3 variables have value 100\n",
    "variable1 = variable2 = variable3 = 100\n",
    "\n",
    "# Now you can check that variable1 is the same as variable2 using '=='\n",
    "print(variable1 == variable2)\n",
    "\n",
    "# TODO\n",
    "# Use the rules of multiple assignment to create multiple objects\n",
    "\n",
    "\n",
    "# Now check they are equal\n",
    "\n",
    "\n",
    "# END TODO"
   ]
  },
  {
   "cell_type": "markdown",
   "metadata": {},
   "source": [
    "Case and Disallowed words"
   ]
  },
  {
   "cell_type": "code",
   "execution_count": null,
   "metadata": {
    "collapsed": false
   },
   "outputs": [],
   "source": [
    "# Python is case sensitive so\n",
    "pi = 3.141\n",
    "#and\n",
    "PI = \"Pumpkin\"\n",
    "# are completely different objects which you can see when you print them\n",
    "print(pi)\n",
    "print(PI)\n",
    "\n",
    "# Some words in Python are reserved for program logic and cannot be used for variables\n",
    "\n",
    "# TODO - Comment out these lines one by one and see if this block will still run\n",
    "#if = 1.00\n",
    "#elif = 'hello'\n",
    "#and = 0.0001\n",
    "# END TODO"
   ]
  },
  {
   "cell_type": "markdown",
   "metadata": {},
   "source": [
    "A full list of reserved words in Python can be found [here](https://docs.python.org/2.5/ref/keywords.html)"
   ]
  },
  {
   "cell_type": "markdown",
   "metadata": {},
   "source": [
    "## Logic + Maths"
   ]
  },
  {
   "cell_type": "code",
   "execution_count": null,
   "metadata": {
    "collapsed": false
   },
   "outputs": [],
   "source": []
  },
  {
   "cell_type": "code",
   "execution_count": null,
   "metadata": {
    "collapsed": true
   },
   "outputs": [],
   "source": []
  },
  {
   "cell_type": "markdown",
   "metadata": {},
   "source": [
    "## Loops + Iteration"
   ]
  },
  {
   "cell_type": "code",
   "execution_count": null,
   "metadata": {
    "collapsed": true
   },
   "outputs": [],
   "source": []
  },
  {
   "cell_type": "markdown",
   "metadata": {},
   "source": [
    "If you are interested in writing perfect looking Python, the developers of the language have what is called a \"Style Guide\" which you can read [here](https://www.python.org/dev/peps/pep-0008/)"
   ]
  },
  {
   "cell_type": "code",
   "execution_count": null,
   "metadata": {
    "collapsed": true
   },
   "outputs": [],
   "source": []
  }
 ],
 "metadata": {
  "anaconda-cloud": {},
  "kernelspec": {
   "display_name": "Python 3",
   "language": "python",
   "name": "python3"
  },
  "language_info": {
   "codemirror_mode": {
    "name": "ipython",
    "version": 3
   },
   "file_extension": ".py",
   "mimetype": "text/x-python",
   "name": "python",
   "nbconvert_exporter": "python",
   "pygments_lexer": "ipython3",
   "version": "3.5.2"
  }
 },
 "nbformat": 4,
 "nbformat_minor": 0
}
