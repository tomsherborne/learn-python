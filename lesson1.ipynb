{
 "cells": [
  {
   "cell_type": "markdown",
   "metadata": {},
   "source": [
    "## LSESU Applicable Maths Python Lesson 1\n",
    "###### 18/10/16\n"
   ]
  },
  {
   "cell_type": "markdown",
   "metadata": {},
   "source": [
    "## Get yourself setup\n",
    "Make sure you have followed all the relevant instructions for your computer [here](https://github.com/trsherborne/learn-python#learn-programming-in-python)"
   ]
  },
  {
   "cell_type": "markdown",
   "metadata": {
    "collapsed": true
   },
   "source": [
    "### Python and REPL\n",
    "\n",
    "Python is a program on your computer like many others, the program takes instructions in the form of code and executes the instructions to the best of the program's ability. \n",
    "\n",
    "Some programming languages like C++ turn code into binary, ones and zeroes, which is called \"compiling\". But Python works in a different way. When you write code in Python, this is an input into the Python program, which has what is called an \"interpreter\" to turn your code into \"machine code\". You might hear Python being called an \"Interpreted language\" because of this.\n",
    "\n",
    "The Python interpreter, or \"shell\", uses REPL logic. REPL stands for \"Read/Evaluate/Print\". You write code, the program reads the code, checks that everything is correct according to the specific syntax of Python and then prints and executes the commands. \n",
    "__________________________________________________________"
   ]
  },
  {
   "cell_type": "markdown",
   "metadata": {},
   "source": [
    "You interact with the Python program directly when you execute, or \"run\", your code. You can do this with 1 line or 10,000.\n",
    "\n",
    "To run Python in Jupyter Notebook, click on the block you want to run and press the \"Run Cell\" button (Looks like \">|\") or press Shift+Enter. You can run any block with an In[ ]: to the left of it, these blocks are all for code."
   ]
  },
  {
   "cell_type": "code",
   "execution_count": null,
   "metadata": {
    "collapsed": false
   },
   "outputs": [],
   "source": [
    "# Print a \"Hello World!\"\n"
   ]
  },
  {
   "cell_type": "markdown",
   "metadata": {},
   "source": [
    "## Variables"
   ]
  },
  {
   "cell_type": "markdown",
   "metadata": {},
   "source": [
    "A variable is a reserved block of memory for the program to keep some information. This can be a number, a string (programming word for any words or characters) or many other types of \"object\". In Python, everything is a \"object\" and we will go onto more of what this means next week. \n",
    "\n",
    "In Python you don't have to declare what kind of variable anything is, you just write the variable and the program works the rest out."
   ]
  },
  {
   "cell_type": "code",
   "execution_count": null,
   "metadata": {
    "collapsed": false
   },
   "outputs": [],
   "source": [
    "# We use variables to assign easy names to any object\n",
    "\n",
    "pi = 3.14159265359793238462643383279502884197169399375105\n",
    "# pi is the VARIABLE NAME\n",
    "# 3.14159... is the VARIABLE VALUE\n",
    "# = is the \"assignment operator\" telling Python what the name \"pi\" is\n",
    "\n",
    "# Is the name or the value of this variable easier to remember?"
   ]
  },
  {
   "cell_type": "code",
   "execution_count": null,
   "metadata": {
    "collapsed": true
   },
   "outputs": [],
   "source": [
    "# You can also inspect any object using id()\n",
    "# id(pi)\n",
    "\n",
    "# And use type() to find out what kind of Object the variable is\n",
    "# type(pi)"
   ]
  },
  {
   "cell_type": "markdown",
   "metadata": {},
   "source": [
    "Kinds of variable"
   ]
  },
  {
   "cell_type": "code",
   "execution_count": null,
   "metadata": {
    "collapsed": false
   },
   "outputs": [],
   "source": [
    "# Integer\n",
    "a = 1\n",
    "print(type(a))\n",
    "print()\n",
    "\n",
    "# Float (Integer or Decimal values)\n",
    "b = 1.200\n",
    "print(type(b))\n",
    "print()\n",
    "\n",
    "# String\n",
    "c = 'Python'\n",
    "print(type(c))\n",
    "print()\n",
    "\n",
    "# Complex (Real and Imaginary numbers, Python uses the j notation from EE)\n",
    "d = 1+1j\n",
    "print(type(d))"
   ]
  },
  {
   "cell_type": "code",
   "execution_count": null,
   "metadata": {
    "collapsed": true
   },
   "outputs": [],
   "source": [
    "# TODO\n",
    "# Declare your own variable of any type and check the type\n",
    "\n",
    "\n",
    "\n",
    "\n",
    "# END TODO"
   ]
  },
  {
   "cell_type": "markdown",
   "metadata": {},
   "source": [
    "Multiple Assignments"
   ]
  },
  {
   "cell_type": "code",
   "execution_count": null,
   "metadata": {
    "collapsed": false
   },
   "outputs": [],
   "source": [
    "# All 3 variables have value 100\n",
    "variable1 = variable2 = variable3 = 100\n",
    "\n",
    "# Now you can check that variable1 is the same as variable2 using '=='\n",
    "print(variable1 == variable2)"
   ]
  },
  {
   "cell_type": "code",
   "execution_count": null,
   "metadata": {
    "collapsed": true
   },
   "outputs": [],
   "source": [
    "# TODO\n",
    "# Use the rules of multiple assignment to create multiple objects\n",
    "\n",
    "\n",
    "# Now check they are equal\n",
    "\n",
    "\n",
    "# END TODO"
   ]
  },
  {
   "cell_type": "markdown",
   "metadata": {},
   "source": [
    "Case and Disallowed words"
   ]
  },
  {
   "cell_type": "code",
   "execution_count": null,
   "metadata": {
    "collapsed": false
   },
   "outputs": [],
   "source": [
    "# Python is case sensitive so\n",
    "pi = 3.141\n",
    "#and\n",
    "PI = \"Pumpkin\"\n",
    "# are completely different objects, you can see this when you print them\n",
    "print(pi)\n",
    "print(PI)"
   ]
  },
  {
   "cell_type": "code",
   "execution_count": null,
   "metadata": {
    "collapsed": true
   },
   "outputs": [],
   "source": [
    "# Some words in Python are reserved for program logic and cannot be used for variables\n",
    "# TODO - Comment out these lines one by one and see if this block will still run\n",
    "#if = 1.00\n",
    "#elif = 'hello'\n",
    "#and = 0.0001\n",
    "# END TODO"
   ]
  },
  {
   "cell_type": "markdown",
   "metadata": {},
   "source": [
    "A full list of reserved words in Python can be found [here](https://docs.python.org/3/reference/lexical_analysis.html#keywords)"
   ]
  },
  {
   "cell_type": "markdown",
   "metadata": {},
   "source": [
    "## Maths + Logic"
   ]
  },
  {
   "cell_type": "markdown",
   "metadata": {},
   "source": [
    "In order to be able to understand and write your own Python, you can't just declare variables, you have to be able to manipulate the data you have to get what you want out. Maths and logic operators are the fundamentals of doing this."
   ]
  },
  {
   "cell_type": "markdown",
   "metadata": {},
   "source": [
    "Arithmetic and mathematical operators in Python"
   ]
  },
  {
   "cell_type": "code",
   "execution_count": 107,
   "metadata": {
    "collapsed": false
   },
   "outputs": [
    {
     "name": "stdout",
     "output_type": "stream",
     "text": [
      "Addition\n",
      "110\n",
      "\n",
      "Subtraction\n",
      "90\n",
      "\n",
      "Multiplication\n",
      "3168\n",
      "\n",
      "True Division\n",
      "9.9\n",
      "\n",
      "Floor Division\n",
      "9\n",
      "\n",
      "Modulus Operator\n",
      "1\n",
      "\n",
      "Exponential Operator\n",
      "9801\n",
      "\n",
      "Multiple operations\n",
      "5\n"
     ]
    }
   ],
   "source": [
    "# First we declare some variables to play with\n",
    "a = 100\n",
    "b = 10\n",
    "c = 99\n",
    "d = 32\n",
    "e = 2\n",
    "\n",
    "# Addition\n",
    "add_result = a + b\n",
    "print(\"Addition\")\n",
    "print(add_result)\n",
    "print()\n",
    "\n",
    "# Subtraction\n",
    "sub_result = a - b\n",
    "print(\"Subtraction\")\n",
    "print(sub_result)\n",
    "print()\n",
    "\n",
    "# Multiplication\n",
    "mult_result = c*d\n",
    "print(\"Multiplication\")\n",
    "print(mult_result)\n",
    "print()\n",
    "\n",
    "# True Division, returns value with decimals\n",
    "tdiv_result = c/b\n",
    "print(\"True Division\")\n",
    "print(tdiv_result)\n",
    "print()\n",
    "\n",
    "# Floor Division, returns result with decimal value removed\n",
    "rdiv_result = c//b\n",
    "print(\"Floor Division\")\n",
    "print(rdiv_result)\n",
    "print()\n",
    "\n",
    "# Modulus (Remainder)\n",
    "mod_result = a%c\n",
    "print(\"Modulus Operator\")\n",
    "print(mod_result)\n",
    "print()\n",
    "\n",
    "# Exponent\n",
    "exp_result = c**e\n",
    "print(\"Exponential Operator\")\n",
    "print(exp_result)\n",
    "print()\n",
    "\n",
    "# Increment\n",
    "e = e+1 # e is now 3\n",
    "        # A shorthand for this is\n",
    "e+=1    #e is now 4\n",
    "\n",
    "# You can do the same with minus (or decrement)\n",
    "e-=1    # e is 3 again\n",
    "\n",
    "\n",
    "# You can perform multiple operations on 1 line using brackets \n",
    "poly_result = ((a+b)-c)//2\n",
    "print(\"Multiple operations\")\n",
    "print(poly_result)"
   ]
  },
  {
   "cell_type": "code",
   "execution_count": null,
   "metadata": {
    "collapsed": true
   },
   "outputs": [],
   "source": [
    "# TODO - Declare two different integer variables and perform each Math operator on them both \n",
    "\n",
    "\n",
    "\n",
    "\n",
    "# END TODO"
   ]
  },
  {
   "cell_type": "markdown",
   "metadata": {},
   "source": [
    "Logic operators in Python, each logic operator statement returns True or False"
   ]
  },
  {
   "cell_type": "code",
   "execution_count": null,
   "metadata": {
    "collapsed": false
   },
   "outputs": [],
   "source": [
    "# We declare some variables to use\n",
    "a = 100\n",
    "b = 101\n",
    "c = \"hello\"\n",
    "d = \"goodbye\"\n",
    "\n",
    "# Python also has the type Boolean for standard true and false\n",
    "t = True\n",
    "f = False\n",
    "\n",
    "# Use == to evaluate if two objects have the same value\n",
    "eq_result = a == b\n",
    "print('TESTING EQUALITY')\n",
    "print(eq_result)\n",
    "print()\n",
    "\n",
    "# Use != to test if two items are not equal\n",
    "neq_result = a != b\n",
    "print('TESTING INEQUALITY')\n",
    "print(neq_result)\n",
    "\n",
    "# Use > or < to test greater than or less than\n",
    "gt_result = a > b\n",
    "lt_result = a < b\n",
    "print('TESTING > and <')\n",
    "print(gt_result)\n",
    "print(lt_result)\n",
    "print()\n",
    "\n",
    "# Use >= to test greater or equal to and <= to test less or equal\n",
    "ge_result = a >= 100\n",
    "le_result = b <= 200\n",
    "print('TESTING >= and <=')\n",
    "print(ge_result)\n",
    "print(le_result)\n",
    "print()\n",
    "\n",
    "# You can chain logical operators together \n",
    "chain_result = 100 < b <= 101\n",
    "print('TESTING CHAINING')\n",
    "print(chain_result)\n",
    "\n",
    "# CLASS QUESTION\n",
    "# Is this true or false?\n",
    "# a == (b-(b%a))"
   ]
  },
  {
   "cell_type": "code",
   "execution_count": null,
   "metadata": {
    "collapsed": true
   },
   "outputs": [],
   "source": [
    "# TODO - 3 variables have been declared below, \n",
    "# Use the questions asked to build logic statements and print the result\n",
    "var1 = 100\n",
    "var2 = 200\n",
    "var3 = True\n",
    "\n",
    "# Question - Is the difference between var2 and var1 equal to var1?\n",
    "\n",
    "\n",
    "\n",
    "# Question - Is var1 greater than var2?\n",
    "\n",
    "\n",
    "\n",
    "# Question - Is the answer to the previous question equal to var3?\n",
    "\n",
    "\n",
    "\n",
    "# Question - Evaluate a chained logic operator by picking a number\n",
    "# and testing if it is between var1 and var2\n",
    "\n",
    "\n",
    "\n",
    "# END TODO"
   ]
  },
  {
   "cell_type": "markdown",
   "metadata": {},
   "source": [
    "Logical operators "
   ]
  },
  {
   "cell_type": "code",
   "execution_count": null,
   "metadata": {
    "collapsed": false
   },
   "outputs": [],
   "source": [
    "t = True\n",
    "f = False\n",
    "t2 = 1\n",
    "f2 = 0\n",
    "num = 1000\n",
    "# All non zero numbers in Python are equivalent to \"True\"\n",
    "# See for yourself by uncommenting the next 2 lines\n",
    "#print(bool(1))\n",
    "#print(bool(0))\n",
    "\n",
    "# You can AND variables together (only True if both True)\n",
    "and_result1 = t and f\n",
    "and_result2 = t and t2\n",
    "print('AND')\n",
    "print('t and f')\n",
    "print(and_result1)\n",
    "print('t and t2')\n",
    "print(and_result2)\n",
    "print()\n",
    "\n",
    "# You can OR variables together (True if one is true)\n",
    "or_result1 = t or f\n",
    "or_result2 = f or f2\n",
    "print('OR')\n",
    "print('t or f')\n",
    "print(or_result1)\n",
    "print('f or f2')\n",
    "print(or_result2)\n",
    "print()\n",
    "\n",
    "# You can negate any Boolean value with not\n",
    "print(\"not\")\n",
    "print(not t)\n",
    "print(not f2)\n",
    "print()\n",
    "\n",
    "# The \"is\" operator is similar to the == operator but works differently\n",
    "print('is')\n",
    "print('t is true')\n",
    "print(t is True)\n",
    "print('t2 is 1')\n",
    "print(t2 is 1)\n",
    "print('num is 1000')\n",
    "print(num is 1000)\n",
    "print('This is False because \\\"a is b\\\" is the same as \\\"id(a)==id(b)\\\"')\n",
    "print(id(num))\n",
    "print(id(1000))\n",
    "print('Moral of the story - Always use == not \\\"is\\\" unless you know what you are doing!')\n",
    "print()\n",
    "\n",
    "# One last one - Membership\n",
    "# You can test if a smaller string is inside a bigger string with \"is\"\n",
    "s1 = \"We are here to Python\"\n",
    "s2 = \"Python\"\n",
    "\n",
    "print(\"Is s2 inside s1?\")\n",
    "print(s2 in s1)\n",
    "\n",
    "#print(\"Does this work on integers?\")\n",
    "#print(1 in 100)\n"
   ]
  },
  {
   "cell_type": "markdown",
   "metadata": {},
   "source": [
    "You will use both the Mathematical and Logical Operators extensively in your coding career, go over these ideas again until you are confident with them. The next section can be tricky if you are not comfortable with True and False. "
   ]
  },
  {
   "cell_type": "markdown",
   "metadata": {},
   "source": [
    "\n",
    "\n",
    "## Loops + Iteration"
   ]
  },
  {
   "cell_type": "markdown",
   "metadata": {},
   "source": [
    "#### if"
   ]
  },
  {
   "cell_type": "markdown",
   "metadata": {},
   "source": [
    "An `if` statement is type of logic statement which will cause a block of code to run ONLY if the statement is evaluated to True. An if statement is evaluated once and never returned to unless it is inside a loop"
   ]
  },
  {
   "cell_type": "code",
   "execution_count": null,
   "metadata": {
    "collapsed": false
   },
   "outputs": [],
   "source": [
    "# Test variable\n",
    "boot = 'snake'\n",
    "\n",
    "# The indented block of code will only run if the logic between the \"if\" and the colon is True\n",
    "if 'snake' in boot:\n",
    "    print('There\\'s a snake in my boot!')\n",
    "    \n",
    "if 'hippo' in boot:\n",
    "    print('Why is there a Hippo in my boot?')"
   ]
  },
  {
   "cell_type": "markdown",
   "metadata": {},
   "source": [
    "#### while"
   ]
  },
  {
   "cell_type": "markdown",
   "metadata": {},
   "source": [
    "`while` is used like `if` but for looping until something is `False`. In this way you can repeat an action until a condition means you no longer need to repeat it"
   ]
  },
  {
   "cell_type": "code",
   "execution_count": null,
   "metadata": {
    "collapsed": false
   },
   "outputs": [],
   "source": [
    "x = 1\n",
    "\n",
    "while x <= 5:\n",
    "    # This block executes when the while loop condition is True\n",
    "    print(x)\n",
    "    print('x is less or equal to 5')\n",
    "    x += 1\n",
    "\n",
    "# This block only executes when the while loop condition is False\n",
    "print(x)\n",
    "print('x is too big for the while loop now')"
   ]
  },
  {
   "cell_type": "markdown",
   "metadata": {},
   "source": [
    "#### for"
   ]
  },
  {
   "cell_type": "markdown",
   "metadata": {},
   "source": [
    "`for` is like `while` and will loop until the `for` condition is `True`. `for` loops are used to \"iterate\" over ranges of objects"
   ]
  },
  {
   "cell_type": "code",
   "execution_count": null,
   "metadata": {
    "collapsed": false
   },
   "outputs": [],
   "source": [
    "# You can use for to loop over every character in a string\n",
    "word = 'London'\n",
    "\n",
    "for letter in word:\n",
    "    print(letter)\n",
    "print()    \n",
    "\n",
    "\n",
    "# You can also use for to loop over data structures such as lists (more on this later)\n",
    "list1 = [1,2,3,4,5]\n",
    "\n",
    "for number in list1:\n",
    "    print(number)\n",
    "print()\n",
    "\n",
    "# Finally you can use range() to create the same kind of number range as list1 easily\n",
    "# The format of range is range(a,b) which starts on a and ends 1 before b\n",
    "for number in range(1,5):\n",
    "    print(number)"
   ]
  },
  {
   "cell_type": "markdown",
   "metadata": {},
   "source": [
    "#### elif and else"
   ]
  },
  {
   "cell_type": "markdown",
   "metadata": {},
   "source": [
    "Finally, we can return to the `if` statement we learnt to look at what else we can do with it. \n",
    "\n",
    "The `elif` (shorthand for \"else if\") is a way to evaluate something else if the first `if` was `False` with another logic condition. The `else` statement is a way to always make something else happen if the `if` statement was `False`."
   ]
  },
  {
   "cell_type": "code",
   "execution_count": null,
   "metadata": {
    "collapsed": true
   },
   "outputs": [],
   "source": [
    "# We can use elif and else in our previous example\n",
    "boot = 'snake'\n",
    "\n",
    "if 'hippo' in boot:                            # First test if 'hippo' in 'boot'\n",
    "    print('Why is there a Hippo in my boot?')    \n",
    "elif 'snake' in boot:                          # If no 'hippo', test for 'snake'\n",
    "    print('No Hippo, but there is a snake!')\n",
    "else:                                          # Only happens if all ifs and elifs were False\n",
    "    print('No snakes or hippos in sight')"
   ]
  },
  {
   "cell_type": "code",
   "execution_count": null,
   "metadata": {
    "collapsed": false
   },
   "outputs": [],
   "source": [
    "# TODO - Final task\n",
    "\n",
    "#Print each element of the fibonacci list (Hint: use for)\n",
    "fib = [0,1,1,2,3,5,8,13,21]\n",
    "\n",
    "for #SOMETHING in SOMETHING:\n",
    "    print(#SOMETHING)\n",
    "print\n",
    "\n",
    "# Use if to complete the logic statement\n",
    "number_of_bananas = 5\n",
    "\n",
    "if #SOMETHING IS TRUE:\n",
    "    print(\"We have bananas!\")\n",
    "else:\n",
    "    print(\"We have run out of bananas :(\")\n",
    "    \n",
    "# Now change the number_of_bananas to 0 and see what happens\n",
    "\n",
    "\n",
    "# Finish the while statement to print a message about whether it is legal to drive in the UK\n",
    "# You must be older than 16 to hold a full driving licence in the UK\n",
    "        \n",
    "age = 22\n",
    "\n",
    "while #SOMETHING IS TRUE:\n",
    "    print(age)\n",
    "    print('You are old enough to drive!')\n",
    "    age = age - 1 \n",
    "print(age)\n",
    "print('You are too young to drive :(')\n",
    "\n",
    "# END TODO"
   ]
  },
  {
   "cell_type": "markdown",
   "metadata": {},
   "source": [
    "If you are interested in writing perfect looking Python, the developers of the language have what is called a \"Style Guide\" which you can read [here](https://www.python.org/dev/peps/pep-0008/)"
   ]
  }
 ],
 "metadata": {
  "anaconda-cloud": {},
  "kernelspec": {
   "display_name": "Python 3",
   "language": "python",
   "name": "python3"
  },
  "language_info": {
   "codemirror_mode": {
    "name": "ipython",
    "version": 3
   },
   "file_extension": ".py",
   "mimetype": "text/x-python",
   "name": "python",
   "nbconvert_exporter": "python",
   "pygments_lexer": "ipython3",
   "version": "3.5.2"
  }
 },
 "nbformat": 4,
 "nbformat_minor": 0
}
