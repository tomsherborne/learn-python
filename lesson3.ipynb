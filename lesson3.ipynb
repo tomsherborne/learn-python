{
 "cells": [
  {
   "cell_type": "markdown",
   "metadata": {},
   "source": [
    "## LSESU Applicable Maths Python Lesson 3\n",
    "###### 1/11/16"
   ]
  },
  {
   "cell_type": "markdown",
   "metadata": {},
   "source": [
    "Today we will be learning about\n",
    "* Strings and string indexing\n",
    "* Reading files\n",
    "* Lists \n",
    "* List comprehensions"
   ]
  },
  {
   "cell_type": "markdown",
   "metadata": {},
   "source": [
    "**Recap from week 2**"
   ]
  },
  {
   "cell_type": "markdown",
   "metadata": {},
   "source": [
    "* Functions\n",
    "\n",
    "This is what the my_function you made could look like\n",
    "```\n",
    "def my_function(a,b):\n",
    "    if a==b:\n",
    "        return 'Arguments are the same'\n",
    "    elif a>b:\n",
    "        return True\n",
    "    else a<b:\n",
    "        return False\n",
    "```\n",
    "* `import` statements and packages\n",
    "\n",
    "Do you understand every part of this line, and where it would be in your own code?\n",
    "```\n",
    "import matplotlib.pyplot as plt\n",
    "```\n",
    "\n",
    "\n",
    "This is what the random_string you made could look like\n",
    "```\n",
    "def random_string():\n",
    "    var = rand.randint(1,5)\n",
    "    if var==1:\n",
    "        return 'Random integer was 1'\n",
    "    elif var==2:\n",
    "        return 'Random integer was 2'    \n",
    "    elif var==3:\n",
    "        return 'Random integer was 3'    \n",
    "    elif var==4:\n",
    "        return 'Random integer was 4'    \n",
    "    elif var==5:\n",
    "        return 'Random integer was 5'\n",
    "    else:\n",
    "        return 'Something went wrong :('\n",
    "```\n"
   ]
  },
  {
   "cell_type": "markdown",
   "metadata": {},
   "source": [
    "## Strings"
   ]
  },
  {
   "cell_type": "markdown",
   "metadata": {},
   "source": [
    "You've seen strings before in both the first and second lesson and so far, we've skipped over what they are and what you can do with them. Now we are going to introduce the fundamentals of how to use this data type.\n",
    "```\n",
    "name = 'Python O'PythonFace'\n",
    "```\n",
    "A string is a variable of any number of characters (letters, numbers and other symbols) enclosed inside quotation marks. In Python there is no difference between single (' ') or double (\" \") quotes. Above, `name` is the variable identifier name we use in the code, it has type `string` and the value of the variable is the string of characters on the right side of `=`."
   ]
  },
  {
   "cell_type": "markdown",
   "metadata": {},
   "source": [
    "#### Declaring strings"
   ]
  },
  {
   "cell_type": "code",
   "execution_count": null,
   "metadata": {
    "collapsed": true
   },
   "outputs": [],
   "source": [
    "# Everyone should know how to create (or \"declare\") a string by now\n",
    "var = 'This is a string'\n",
    "alphabet = 'abcdefghijklmnopqrstuvwxyz'"
   ]
  },
  {
   "cell_type": "markdown",
   "metadata": {},
   "source": [
    "#### Indexing strings"
   ]
  },
  {
   "cell_type": "markdown",
   "metadata": {},
   "source": [
    "We can access only specific elements of a string using square brackets [ ]. This way you can split a string up into more manageable parts. You might use this if you are given lots of news reports and you only want the first sentence to analyse.\n",
    "\n",
    "**Important**: Python uses \"zero based indexing\" which is quite common in many languages. When you count up from the first element you always start on 0!"
   ]
  },
  {
   "cell_type": "code",
   "execution_count": null,
   "metadata": {
    "collapsed": false
   },
   "outputs": [],
   "source": [
    "# We can get only the first element of the alphabet\n",
    "# Note that a is the 0th character in the string\n",
    "first_letter = alphabet[0]\n",
    "print(first_letter)\n",
    "\n",
    "# To get the second letter we would do this\n",
    "second_letter = alphabet[1]\n",
    "print(second_letter)\n",
    "\n",
    "# We can also get a range of characters in the string\n",
    "first_five_letters = alphabet[0:5]\n",
    "print(first_five_letters)"
   ]
  },
  {
   "cell_type": "markdown",
   "metadata": {},
   "source": [
    "This is very close to what we did last week when we looked at `for` statements"
   ]
  },
  {
   "cell_type": "code",
   "execution_count": null,
   "metadata": {
    "collapsed": false
   },
   "outputs": [],
   "source": [
    "# You can see that when we run the for loop, Python looks at the indexes of the letters\n",
    "# in the string to iterate over\n",
    "\n",
    "for letter in alphabet:\n",
    "    print(alphabet.index(letter))\n",
    "    print(letter)\n",
    "    print()"
   ]
  },
  {
   "cell_type": "markdown",
   "metadata": {},
   "source": [
    "**Question - How would you get the last element of the list? **"
   ]
  },
  {
   "cell_type": "code",
   "execution_count": null,
   "metadata": {
    "collapsed": false
   },
   "outputs": [],
   "source": [
    "# How can we get the z from the alphabet variable?\n",
    "print(alphabet[])"
   ]
  },
  {
   "cell_type": "markdown",
   "metadata": {},
   "source": [
    "#### Formatting strings"
   ]
  },
  {
   "cell_type": "markdown",
   "metadata": {},
   "source": [
    "Often when you are creating strings, you might want some part to be flexible or change in some way. You can do that with the `.format()` function."
   ]
  },
  {
   "cell_type": "code",
   "execution_count": null,
   "metadata": {
    "collapsed": false
   },
   "outputs": [],
   "source": [
    "# This us how you read input from a user\n",
    "name = input('Input name: ')\n",
    "\n",
    "# Now use the {} to leave some parts of the string blank and fill them in later\n",
    "var = 'Hello! My name is {}'.format(name)\n",
    "print(var)"
   ]
  },
  {
   "cell_type": "markdown",
   "metadata": {},
   "source": [
    "**Question - Write some code which asks a user for their birthday day, month and year separately and print the result formatted together**"
   ]
  },
  {
   "cell_type": "code",
   "execution_count": null,
   "metadata": {
    "collapsed": false
   },
   "outputs": [],
   "source": [
    "# TO DO - Make 3 input requests to the user and format the result together as 1 string\n",
    "\n",
    "\n",
    "# END TO DO"
   ]
  },
  {
   "cell_type": "markdown",
   "metadata": {},
   "source": [
    "#### Escape characters"
   ]
  },
  {
   "cell_type": "markdown",
   "metadata": {},
   "source": [
    "String formatting includes special characters to make more complicated strings easy. These are always denoted with the \\ character and are referred to as escape characters.\n",
    "\n",
    "Common escape characters you might use will be newline `\\n` or tab space `\\t`. You also use the backslash to put quotes inside your string, like this \\\". If you are interested more in all the escape chars for Python look [here](http://python-reference.readthedocs.io/en/latest/docs/str/escapes.html)"
   ]
  },
  {
   "cell_type": "code",
   "execution_count": null,
   "metadata": {
    "collapsed": false
   },
   "outputs": [],
   "source": [
    "n_string = 'This\\nis\\na\\nmulti\\nline\\nstring\\n'\n",
    "print(n_string)\n",
    "\n",
    "t_string = 'This\\tstring\\thas\\ttab\\tspaces\\n'\n",
    "print(t_string)\n",
    "\n",
    "q_string = '\\\"This string is inside quotes\\\"'\n",
    "print(q_string)"
   ]
  },
  {
   "cell_type": "markdown",
   "metadata": {},
   "source": [
    "#### String methods"
   ]
  },
  {
   "cell_type": "markdown",
   "metadata": {},
   "source": [
    "Some maths operations work on strings, and strings have some of their own methods which are specifically for working with variables made of characters."
   ]
  },
  {
   "cell_type": "code",
   "execution_count": null,
   "metadata": {
    "collapsed": false
   },
   "outputs": [],
   "source": [
    "string1 = 'Hello'\n",
    "string2 = 'Python'\n",
    "\n",
    "# Add two strings together\n",
    "print(string1 + string2)\n",
    "\n",
    "# Another way to do this is using .join\n",
    "print(' '.join([string1,string2]))\n",
    "\n",
    "# Repetition using the * multiplication operator\n",
    "print(string1*3) \n",
    "\n",
    "# Remember the membership `in` keyword\n",
    "print('o' in string1)\n",
    "\n",
    "# You can make all characters uppercase\n",
    "print(string1.upper())\n",
    "\n",
    "# Or all lowercase\n",
    "print(string2.lower())\n",
    "\n",
    "# You can also search for patterns and replace characters\n",
    "string3 = 'I\\'m really more of a cat person'\n",
    "print(string3.replace('cat','dog'))\n",
    "\n",
    "# You can check if a string of a number is a number or not\n",
    "print('12345'.isdigit())\n",
    "\n",
    "# Or check if a string is only made of alphabet characters\n",
    "print('alphabet'.isalpha())"
   ]
  },
  {
   "cell_type": "markdown",
   "metadata": {},
   "source": [
    "#### Triple quotes and multi line strings"
   ]
  },
  {
   "cell_type": "code",
   "execution_count": null,
   "metadata": {
    "collapsed": false
   },
   "outputs": [],
   "source": [
    "# To make big strings you use three quote marks\n",
    "\n",
    "big_string = '''Mr. and Mrs. Dursley, of number four, Privet Drive, were proud to say\n",
    "                that they were perfectly normal, thank you very much. They were the last\n",
    "                people you'd expect to be involved in anything strange or mysterious,\n",
    "                because they just didn't hold with such nonsense.'''\n",
    "\n",
    "# And Python will join strings declared over multiple lines together\n",
    "multi_line_string = 'Hello my name is Tom ' \\\n",
    "                    'my favourite colour is Blue ' \\\n",
    "                    'and I live in Earl\\'s Court'\n",
    "\n",
    "print(multi_line_string)"
   ]
  },
  {
   "cell_type": "markdown",
   "metadata": {},
   "source": [
    "A note on encoding: there are many different kinds of character encodings people have created. The standard for Python 3 is 'UTF-8' which isn't worth knowing until you try and read data which isn't in this encoding and then it gets messy. More info on encoding can be read [here](http://www.joelonsoftware.com/articles/Unicode.html)"
   ]
  },
  {
   "cell_type": "markdown",
   "metadata": {},
   "source": [
    "## File I/O"
   ]
  },
  {
   "cell_type": "markdown",
   "metadata": {},
   "source": [
    "#### Opening a file for reading or writing"
   ]
  },
  {
   "cell_type": "markdown",
   "metadata": {},
   "source": [
    "#### Reading files"
   ]
  },
  {
   "cell_type": "markdown",
   "metadata": {},
   "source": [
    "#### Writing files"
   ]
  },
  {
   "cell_type": "markdown",
   "metadata": {},
   "source": [
    "#### Closing files"
   ]
  },
  {
   "cell_type": "markdown",
   "metadata": {},
   "source": [
    "#### Context managers"
   ]
  },
  {
   "cell_type": "markdown",
   "metadata": {},
   "source": [
    "## Lists"
   ]
  },
  {
   "cell_type": "markdown",
   "metadata": {},
   "source": [
    "#### Declaring a list"
   ]
  },
  {
   "cell_type": "markdown",
   "metadata": {},
   "source": [
    "#### Indexing a list (it's just like indexing a string!)"
   ]
  },
  {
   "cell_type": "markdown",
   "metadata": {},
   "source": [
    "#### Iterating over a list"
   ]
  },
  {
   "cell_type": "code",
   "execution_count": null,
   "metadata": {
    "collapsed": true
   },
   "outputs": [],
   "source": []
  },
  {
   "cell_type": "markdown",
   "metadata": {},
   "source": [
    "## List comprehensions"
   ]
  },
  {
   "cell_type": "markdown",
   "metadata": {},
   "source": [
    "#### Why use a comprehension?"
   ]
  },
  {
   "cell_type": "markdown",
   "metadata": {},
   "source": [
    "#### Converting a list of temperatures"
   ]
  },
  {
   "cell_type": "markdown",
   "metadata": {},
   "source": [
    "#### Multiplying two lists"
   ]
  },
  {
   "cell_type": "markdown",
   "metadata": {},
   "source": [
    "#### Question - how to get a list of the first square numbers?"
   ]
  },
  {
   "cell_type": "code",
   "execution_count": null,
   "metadata": {
    "collapsed": true
   },
   "outputs": [],
   "source": []
  }
 ],
 "metadata": {
  "kernelspec": {
   "display_name": "Python 3",
   "language": "python",
   "name": "python3"
  },
  "language_info": {
   "codemirror_mode": {
    "name": "ipython",
    "version": 3
   },
   "file_extension": ".py",
   "mimetype": "text/x-python",
   "name": "python",
   "nbconvert_exporter": "python",
   "pygments_lexer": "ipython3",
   "version": "3.5.2"
  }
 },
 "nbformat": 4,
 "nbformat_minor": 0
}
