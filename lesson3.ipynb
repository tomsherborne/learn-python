{
 "cells": [
  {
   "cell_type": "markdown",
   "metadata": {},
   "source": [
    "## LSESU Applicable Maths Python Lesson 3\n",
    "###### 1/11/16"
   ]
  },
  {
   "cell_type": "markdown",
   "metadata": {},
   "source": [
    "Today we will be learning about\n",
    "* Strings and string indexing\n",
    "* Reading files\n",
    "* Lists \n",
    "* List comprehensions"
   ]
  },
  {
   "cell_type": "markdown",
   "metadata": {},
   "source": [
    "**Recap from week 2**"
   ]
  },
  {
   "cell_type": "markdown",
   "metadata": {},
   "source": [
    "* Functions\n",
    "\n",
    "This is what the my_function you made could look like\n",
    "```\n",
    "def my_function(a,b):\n",
    "    if a==b:\n",
    "        return 'Arguments are the same'\n",
    "    elif a>b:\n",
    "        return True\n",
    "    else a<b:\n",
    "        return False\n",
    "```\n",
    "* `import` statements and packages\n",
    "\n",
    "Do you understand every part of this line, and where it would be in your own code?\n",
    "```\n",
    "import matplotlib.pyplot as plt\n",
    "```\n",
    "\n",
    "\n",
    "This is what the random_string you made could look like\n",
    "```\n",
    "def random_string():\n",
    "    var = rand.randint(1,5)\n",
    "    if var==1:\n",
    "        return 'Random integer was 1'\n",
    "    elif var==2:\n",
    "        return 'Random integer was 2'    \n",
    "    elif var==3:\n",
    "        return 'Random integer was 3'    \n",
    "    elif var==4:\n",
    "        return 'Random integer was 4'    \n",
    "    elif var==5:\n",
    "        return 'Random integer was 5'\n",
    "    else:\n",
    "        return 'Something went wrong :('\n",
    "```\n"
   ]
  },
  {
   "cell_type": "markdown",
   "metadata": {},
   "source": [
    "## Strings"
   ]
  },
  {
   "cell_type": "markdown",
   "metadata": {},
   "source": [
    "You've seen strings before in both the first and second lesson and so far, we've skipped over what they are and what you can do with them. Now we are going to introduce the fundamentals of how to use this data type.\n",
    "```\n",
    "name = 'Python O'PythonFace'\n",
    "```\n",
    "A string is a variable of any number of characters (letters, numbers and other symbols) enclosed inside quotation marks. In Python there is no difference between single (' ') or double (\" \") quotes. Above, `name` is the variable identifier name we use in the code, it has type `string` and the value of the variable is the string of characters on the right side of `=`."
   ]
  },
  {
   "cell_type": "markdown",
   "metadata": {},
   "source": [
    "#### Declaring strings"
   ]
  },
  {
   "cell_type": "code",
   "execution_count": null,
   "metadata": {
    "collapsed": true
   },
   "outputs": [],
   "source": [
    "# Everyone should know how to create (or \"declare\") a string by now\n",
    "var = 'This is a string'\n",
    "alphabet = 'abcdefghijklmnopqrstuvwxyz'"
   ]
  },
  {
   "cell_type": "markdown",
   "metadata": {},
   "source": [
    "#### Indexing strings"
   ]
  },
  {
   "cell_type": "markdown",
   "metadata": {},
   "source": [
    "We can access only specific elements of a string using square brackets [ ]. This way you can split a string up into more manageable parts. You might use this if you are given lots of news reports and you only want the first sentence to analyse.\n",
    "\n",
    "**Important**: Python uses \"zero based indexing\" which is quite common in many languages. When you count up from the first element you always start on 0!"
   ]
  },
  {
   "cell_type": "code",
   "execution_count": null,
   "metadata": {
    "collapsed": false
   },
   "outputs": [],
   "source": [
    "# We can get only the first element of the alphabet\n",
    "# Note that a is the 0th character in the string\n",
    "first_letter = alphabet[0]\n",
    "print(first_letter)\n",
    "\n",
    "# To get the second letter we would do this\n",
    "second_letter = alphabet[1]\n",
    "print(second_letter)\n",
    "\n",
    "# We can also get a range of characters in the string\n",
    "first_five_letters = alphabet[0:5]\n",
    "print(first_five_letters)"
   ]
  },
  {
   "cell_type": "markdown",
   "metadata": {},
   "source": [
    "This is very close to what we did last week when we looked at `for` statements"
   ]
  },
  {
   "cell_type": "code",
   "execution_count": null,
   "metadata": {
    "collapsed": false
   },
   "outputs": [],
   "source": [
    "# You can see that when we run the for loop, Python looks at the indexes of the letters\n",
    "# in the string to iterate over\n",
    "\n",
    "for letter in alphabet:\n",
    "    print(alphabet.index(letter))\n",
    "    print(letter)\n",
    "    print()"
   ]
  },
  {
   "cell_type": "markdown",
   "metadata": {},
   "source": [
    "**Question - How would you get the last element of the list? **"
   ]
  },
  {
   "cell_type": "code",
   "execution_count": null,
   "metadata": {
    "collapsed": false
   },
   "outputs": [],
   "source": [
    "# How can we get the z from the alphabet variable?\n",
    "print(alphabet[])"
   ]
  },
  {
   "cell_type": "markdown",
   "metadata": {},
   "source": [
    "#### Formatting strings"
   ]
  },
  {
   "cell_type": "markdown",
   "metadata": {},
   "source": [
    "Often when you are creating strings, you might want some part to be flexible or change in some way. You can do that with the `.format()` function."
   ]
  },
  {
   "cell_type": "code",
   "execution_count": null,
   "metadata": {
    "collapsed": false
   },
   "outputs": [],
   "source": [
    "# This us how you read input from a user\n",
    "name = input('Input name: ')\n",
    "\n",
    "# Now use the {} to leave some parts of the string blank and fill them in later\n",
    "var = 'Hello! My name is {}'.format(name)\n",
    "print(var)"
   ]
  },
  {
   "cell_type": "markdown",
   "metadata": {},
   "source": [
    "**Question - Write some code which asks a user for their birthday day, month and year separately and print the result formatted together**"
   ]
  },
  {
   "cell_type": "code",
   "execution_count": null,
   "metadata": {
    "collapsed": false
   },
   "outputs": [],
   "source": [
    "# TO DO - Make 3 input requests to the user and format the result together as 1 string\n",
    "\n",
    "\n",
    "# END TO DO"
   ]
  },
  {
   "cell_type": "markdown",
   "metadata": {},
   "source": [
    "#### Escape characters"
   ]
  },
  {
   "cell_type": "markdown",
   "metadata": {},
   "source": [
    "String formatting includes special characters to make more complicated strings easy. These are always denoted with the \\ character and are referred to as escape characters.\n",
    "\n",
    "Common escape characters you might use will be newline `\\n` or tab space `\\t`. You also use the backslash to put quotes inside your string, like this \\\". If you are interested more in all the escape chars for Python look [here](http://python-reference.readthedocs.io/en/latest/docs/str/escapes.html)"
   ]
  },
  {
   "cell_type": "code",
   "execution_count": null,
   "metadata": {
    "collapsed": false
   },
   "outputs": [],
   "source": [
    "n_string = 'This\\nis\\na\\nmulti\\nline\\nstring\\n'\n",
    "print(n_string)\n",
    "\n",
    "t_string = 'This\\tstring\\thas\\ttab\\tspaces\\n'\n",
    "print(t_string)\n",
    "\n",
    "q_string = '\\\"This string is inside quotes\\\"'\n",
    "print(q_string)"
   ]
  },
  {
   "cell_type": "markdown",
   "metadata": {},
   "source": [
    "#### String methods"
   ]
  },
  {
   "cell_type": "markdown",
   "metadata": {},
   "source": [
    "Some maths operations work on strings, and strings have some of their own methods which are specifically for working with variables made of characters."
   ]
  },
  {
   "cell_type": "code",
   "execution_count": null,
   "metadata": {
    "collapsed": false
   },
   "outputs": [],
   "source": [
    "string1 = 'Hello'\n",
    "string2 = 'Python'\n",
    "\n",
    "# Add two strings together\n",
    "print(string1 + string2)\n",
    "\n",
    "# Another way to do this is using .join\n",
    "print(' '.join([string1,string2]))\n",
    "\n",
    "# Repetition using the * multiplication operator\n",
    "print(string1*3) \n",
    "\n",
    "# Remember the membership `in` keyword\n",
    "print('o' in string1)\n",
    "\n",
    "# You can make all characters uppercase\n",
    "print(string1.upper())\n",
    "\n",
    "# Or all lowercase\n",
    "print(string2.lower())\n",
    "\n",
    "# You can also search for patterns and replace characters\n",
    "string3 = 'I\\'m really more of a cat person'\n",
    "print(string3.replace('cat','dog'))\n",
    "\n",
    "# You can check if a string of a number is a number or not\n",
    "print('12345'.isdigit())\n",
    "\n",
    "# Or check if a string is only made of alphabet characters\n",
    "print('alphabet'.isalpha())"
   ]
  },
  {
   "cell_type": "markdown",
   "metadata": {},
   "source": [
    "#### Triple quotes and multi line strings"
   ]
  },
  {
   "cell_type": "code",
   "execution_count": null,
   "metadata": {
    "collapsed": false
   },
   "outputs": [],
   "source": [
    "# To make big strings you use three quote marks\n",
    "\n",
    "big_string = '''Mr. and Mrs. Dursley, of number four, Privet Drive, were proud to say\n",
    "                that they were perfectly normal, thank you very much. They were the last\n",
    "                people you'd expect to be involved in anything strange or mysterious,\n",
    "                because they just didn't hold with such nonsense.'''\n",
    "\n",
    "# And Python will join strings declared over multiple lines together\n",
    "multi_line_string = 'Hello my name is Tom ' \\\n",
    "                    'my favourite colour is Blue ' \\\n",
    "                    'and I live in Earl\\'s Court'\n",
    "\n",
    "print(multi_line_string)"
   ]
  },
  {
   "cell_type": "markdown",
   "metadata": {},
   "source": [
    "A note on encoding: there are many different kinds of character encodings people have created. The standard for Python 3 is 'UTF-8' which isn't worth knowing until you try and read data which isn't in this encoding and then it gets messy. More info on encoding can be read [here](http://www.joelonsoftware.com/articles/Unicode.html)"
   ]
  },
  {
   "cell_type": "markdown",
   "metadata": {},
   "source": [
    "## File I/O"
   ]
  },
  {
   "cell_type": "markdown",
   "metadata": {},
   "source": [
    "Now that we are more comfortable with strings, I'm going to introduce the basics of reading and writing to files. Since a string can include (almost) any character they are always the default data type that the contents of a file are turned into when you import the data. If its numeric data like stock price changes, it's up to you to convert it to integer or float values!"
   ]
  },
  {
   "cell_type": "markdown",
   "metadata": {},
   "source": [
    "#### Opening a file for reading or writing"
   ]
  },
  {
   "cell_type": "markdown",
   "metadata": {},
   "source": [
    "When you run any Python script and you want to read or write to a file, the starting point is the `open()` statement. This looks for the file in the location you specify and takes a second argument depending on if you want to read of write to the file:\n",
    "* `open(FILEPATH,'r')` - Reading from the file\n",
    "* `open(FILEPATH,'rb')` - Reading from the file and writing\n",
    "* `open(FILEPATH,'w')` - Writing to the file, will overwrite old data\n",
    "* `open(FILEPATH,'a')` - Appending to the file, will add new data to the end of old data\n",
    "\n",
    "If you add a `b` to any of these args (i.e. `rb`) it will open the file in binary mode, this isn't used often but is safer sometimes if you don't know what type of data is in the file."
   ]
  },
  {
   "cell_type": "code",
   "execution_count": 64,
   "metadata": {
    "collapsed": false
   },
   "outputs": [
    {
     "data": {
      "text/plain": [
       "_io.TextIOWrapper"
      ]
     },
     "execution_count": 64,
     "metadata": {},
     "output_type": "execute_result"
    }
   ],
   "source": [
    "# NOTE: This code won't work unless you make a file called `test_data.txt` \n",
    "# in the same folder as this lesson\n",
    "\n",
    "file = open('test_data.txt','r')\n",
    "\n",
    "# The file is opened and has a \"handle\" which is the file variable for interaction\n",
    "type(file)"
   ]
  },
  {
   "cell_type": "markdown",
   "metadata": {},
   "source": [
    "#### Reading files"
   ]
  },
  {
   "cell_type": "markdown",
   "metadata": {},
   "source": [
    "There are two main ways to read the contents of a text file, either all at once or line by line"
   ]
  },
  {
   "cell_type": "code",
   "execution_count": 65,
   "metadata": {
    "collapsed": false
   },
   "outputs": [
    {
     "data": {
      "text/plain": [
       "\"LSESU Python Test Data File\\nMr. and Mrs. Dursley, of number four, Privet Drive, were proud to say\\nthat they were perfectly normal, thank you very much. They were the last\\npeople you'd expect to be involved in anything strange or mysterious,\\nbecause they just didn't hold with such nonsense.\\n\""
      ]
     },
     "execution_count": 65,
     "metadata": {},
     "output_type": "execute_result"
    }
   ],
   "source": [
    "file.read()"
   ]
  },
  {
   "cell_type": "code",
   "execution_count": 66,
   "metadata": {
    "collapsed": false
   },
   "outputs": [
    {
     "data": {
      "text/plain": [
       "''"
      ]
     },
     "execution_count": 66,
     "metadata": {},
     "output_type": "execute_result"
    }
   ],
   "source": [
    "file.readline()"
   ]
  },
  {
   "cell_type": "markdown",
   "metadata": {},
   "source": [
    "**Note**: When you read from a file in Python, the program remembers where you ended last time you read the file, so if you try and readline() after read(), you have read the whole file so you don't get anything back"
   ]
  },
  {
   "cell_type": "markdown",
   "metadata": {},
   "source": [
    "##### Reading line by line"
   ]
  },
  {
   "cell_type": "code",
   "execution_count": 68,
   "metadata": {
    "collapsed": false
   },
   "outputs": [
    {
     "name": "stdout",
     "output_type": "stream",
     "text": [
      "LSESU Python Test Data File\n",
      "\n",
      "Mr. and Mrs. Dursley, of number four, Privet Drive, were proud to say\n",
      "\n",
      "that they were perfectly normal, thank you very much. They were the last\n",
      "\n",
      "people you'd expect to be involved in anything strange or mysterious,\n",
      "\n",
      "because they just didn't hold with such nonsense.\n",
      "\n"
     ]
    }
   ],
   "source": [
    "file = open('test_data.txt','r') # Reopen to set the file handle to the beginning of the text\n",
    "\n",
    "# This loop calls .readline() automatically\n",
    "for line in file:\n",
    "    print(line)"
   ]
  },
  {
   "cell_type": "markdown",
   "metadata": {},
   "source": [
    "#### Writing files"
   ]
  },
  {
   "cell_type": "markdown",
   "metadata": {},
   "source": [
    "The .write() function does the opposite of .read(). If you give .write() a string to write, this will get put inside the file"
   ]
  },
  {
   "cell_type": "code",
   "execution_count": 78,
   "metadata": {
    "collapsed": false
   },
   "outputs": [
    {
     "data": {
      "text/plain": [
       "29"
      ]
     },
     "execution_count": 78,
     "metadata": {},
     "output_type": "execute_result"
    }
   ],
   "source": [
    "# You use open() to create a new file even if it did not already exist\n",
    "\n",
    "file2 = open('write_data.txt','w+')\n",
    "\n",
    "file2.write('this is a text file\\n')\n",
    "file2.write('test file for a python class\\n')\n",
    "\n",
    "# The number of chars written to the file is the return value"
   ]
  },
  {
   "cell_type": "code",
   "execution_count": 79,
   "metadata": {
    "collapsed": false
   },
   "outputs": [
    {
     "name": "stdout",
     "output_type": "stream",
     "text": [
      "\u0000\u0000\u0000\u0000\u0000\u0000\u0000\u0000\u0000\u0000\u0000\u0000\u0000\u0000\u0000\u0000\u0000\u0000\u0000\u0000\u0000\u0000\u0000\u0000\u0000\u0000\u0000\u0000\u0000\u0000\u0000\u0000\u0000\u0000\u0000\u0000\u0000\u0000\u0000\u0000\u0000\u0000\u0000\u0000\u0000\u0000\u0000\u0000\u0000\u0000\u0000\u0000\u0000\u0000\u0000\u0000\u0000\u0000\u0000\u0000\u0000\u0000\u0000\u0000\u0000\u0000\u0000\u0000\u0000\u0000\u0000\u0000\u0000\u0000\u0000\u0000\u0000\u0000\u0000\u0000\u0000\u0000\u0000\u0000\u0000\u0000\u0000\u0000\u0000\u0000\u0000\u0000\u0000\u0000this is a text file\n",
      "\n",
      "test file for a python class\n",
      "\n"
     ]
    }
   ],
   "source": [
    "# Since we used w+ we can read the file to check what we created\n",
    "for line in file2:\n",
    "    print(line)"
   ]
  },
  {
   "cell_type": "markdown",
   "metadata": {},
   "source": [
    "#### Closing files"
   ]
  },
  {
   "cell_type": "markdown",
   "metadata": {},
   "source": [
    "When you are done using your files, you should close them so that the Python programme no longer has access as so:"
   ]
  },
  {
   "cell_type": "code",
   "execution_count": 81,
   "metadata": {
    "collapsed": true
   },
   "outputs": [],
   "source": [
    "# This is important for file security so nothing is corrupted\n",
    "\n",
    "file.close()\n",
    "file2.close()"
   ]
  },
  {
   "cell_type": "markdown",
   "metadata": {},
   "source": [
    "#### Context managers"
   ]
  },
  {
   "cell_type": "markdown",
   "metadata": {},
   "source": [
    "There is a way around using the `close()` statement called a Context Manager. These use the `with` statement to create a code block, and the opened file is only used inside the code block. When you exit the contexted managed code block, the file is automatically closed."
   ]
  },
  {
   "cell_type": "code",
   "execution_count": 82,
   "metadata": {
    "collapsed": false
   },
   "outputs": [
    {
     "ename": "SyntaxError",
     "evalue": "unexpected EOF while parsing (<ipython-input-82-71957b5cac3f>, line 4)",
     "output_type": "error",
     "traceback": [
      "\u001b[0;36m  File \u001b[0;32m\"<ipython-input-82-71957b5cac3f>\"\u001b[0;36m, line \u001b[0;32m4\u001b[0m\n\u001b[0;31m    for line in file:\u001b[0m\n\u001b[0m                     ^\u001b[0m\n\u001b[0;31mSyntaxError\u001b[0m\u001b[0;31m:\u001b[0m unexpected EOF while parsing\n"
     ]
    }
   ],
   "source": [
    "# We could have read the file using a context manager like this\n",
    "\n",
    "with open('test_data.txt','r') as file:\n",
    "    for line in file:\n",
    "        print"
   ]
  },
  {
   "cell_type": "markdown",
   "metadata": {},
   "source": [
    "## Lists"
   ]
  },
  {
   "cell_type": "markdown",
   "metadata": {},
   "source": [
    "#### Declaring a list"
   ]
  },
  {
   "cell_type": "markdown",
   "metadata": {},
   "source": [
    "#### Indexing a list (it's just like indexing a string!)"
   ]
  },
  {
   "cell_type": "markdown",
   "metadata": {},
   "source": [
    "#### Iterating over a list"
   ]
  },
  {
   "cell_type": "code",
   "execution_count": null,
   "metadata": {
    "collapsed": true
   },
   "outputs": [],
   "source": []
  },
  {
   "cell_type": "markdown",
   "metadata": {},
   "source": [
    "## List comprehensions"
   ]
  },
  {
   "cell_type": "markdown",
   "metadata": {},
   "source": [
    "#### Why use a comprehension?"
   ]
  },
  {
   "cell_type": "markdown",
   "metadata": {},
   "source": [
    "#### Converting a list of temperatures"
   ]
  },
  {
   "cell_type": "markdown",
   "metadata": {},
   "source": [
    "#### Multiplying two lists"
   ]
  },
  {
   "cell_type": "markdown",
   "metadata": {},
   "source": [
    "#### Question - how to get a list of the first square numbers?"
   ]
  },
  {
   "cell_type": "code",
   "execution_count": null,
   "metadata": {
    "collapsed": true
   },
   "outputs": [],
   "source": []
  }
 ],
 "metadata": {
  "kernelspec": {
   "display_name": "Python 3",
   "language": "python",
   "name": "python3"
  },
  "language_info": {
   "codemirror_mode": {
    "name": "ipython",
    "version": 3
   },
   "file_extension": ".py",
   "mimetype": "text/x-python",
   "name": "python",
   "nbconvert_exporter": "python",
   "pygments_lexer": "ipython3",
   "version": "3.5.2"
  }
 },
 "nbformat": 4,
 "nbformat_minor": 0
}
