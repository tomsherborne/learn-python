{
 "cells": [
  {
   "cell_type": "markdown",
   "metadata": {},
   "source": [
    "## LSESU Applicable Maths Python Lesson 3\n",
    "###### 1/11/16"
   ]
  },
  {
   "cell_type": "markdown",
   "metadata": {},
   "source": [
    "Today we will be learning about\n",
    "* Strings and string indexing\n",
    "* Reading files\n",
    "* Lists \n",
    "* List comprehensions"
   ]
  },
  {
   "cell_type": "markdown",
   "metadata": {},
   "source": [
    "**Recap from week 2**"
   ]
  },
  {
   "cell_type": "markdown",
   "metadata": {},
   "source": [
    "* Functions\n",
    "\n",
    "This is what the my_function you made could look like\n",
    "```\n",
    "def my_function(a,b):\n",
    "    if a==b:\n",
    "        return 'Arguments are the same'\n",
    "    elif a>b:\n",
    "        return True\n",
    "    else a<b:\n",
    "        return False\n",
    "```\n",
    "* `import` statements and packages\n",
    "\n",
    "Do you understand every part of this line, and where it would be in your own code?\n",
    "```\n",
    "import matplotlib.pyplot as plt\n",
    "```\n",
    "\n",
    "\n",
    "This is what the random_string you made could look like\n",
    "```\n",
    "def random_string():\n",
    "    var = rand.randint(1,5)\n",
    "    if var==1:\n",
    "        return 'Random integer was 1'\n",
    "    elif var==2:\n",
    "        return 'Random integer was 2'    \n",
    "    elif var==3:\n",
    "        return 'Random integer was 3'    \n",
    "    elif var==4:\n",
    "        return 'Random integer was 4'    \n",
    "    elif var==5:\n",
    "        return 'Random integer was 5'\n",
    "    else:\n",
    "        return 'Something went wrong :('\n",
    "```\n"
   ]
  },
  {
   "cell_type": "markdown",
   "metadata": {},
   "source": [
    "## Strings"
   ]
  },
  {
   "cell_type": "markdown",
   "metadata": {},
   "source": [
    "You've seen strings before in both the first and second lesson and so far, we've skipped over what they are and what you can do with them. Now we are going to introduce the fundamentals of how to use this data type.\n",
    "```\n",
    "name = 'Python O'PythonFace'\n",
    "```\n",
    "A string is a variable of any number of characters (letters, numbers and other symbols) enclosed inside quotation marks. In Python there is no difference between single (' ') or double (\" \") quotes. Above, `name` is the variable identifier name we use in the code, it has type `string` and the value of the variable is the string of characters on the right side of `=`."
   ]
  },
  {
   "cell_type": "markdown",
   "metadata": {},
   "source": [
    "#### Declaring strings"
   ]
  },
  {
   "cell_type": "code",
   "execution_count": 105,
   "metadata": {
    "collapsed": true
   },
   "outputs": [],
   "source": [
    "# Everyone should know how to create (or \"declare\") a string by now\n",
    "var = 'This is a string'\n",
    "alphabet = 'abcdefghijklmnopqrstuvwxyz'"
   ]
  },
  {
   "cell_type": "markdown",
   "metadata": {},
   "source": [
    "#### Indexing strings"
   ]
  },
  {
   "cell_type": "markdown",
   "metadata": {},
   "source": [
    "We can access only specific elements of a string using square brackets [ ]. This way you can split a string up into more manageable parts. You might use this if you are given lots of news reports and you only want the first sentence to analyse.\n",
    "\n",
    "**Important**: Python uses \"zero based indexing\" which is quite common in many languages. When you count up from the first element you always start on 0!"
   ]
  },
  {
   "cell_type": "code",
   "execution_count": null,
   "metadata": {
    "collapsed": false
   },
   "outputs": [],
   "source": [
    "# We can get only the first element of the alphabet\n",
    "# Note that a is the 0th character in the string\n",
    "first_letter = alphabet[0]\n",
    "print(first_letter)\n",
    "\n",
    "# To get the second letter we would do this\n",
    "second_letter = alphabet[1]\n",
    "print(second_letter)\n",
    "\n",
    "# We can also get a range of characters in the string\n",
    "first_five_letters = alphabet[0:5]\n",
    "print(first_five_letters)"
   ]
  },
  {
   "cell_type": "markdown",
   "metadata": {},
   "source": [
    "This is very close to what we did last week when we looked at `for` statements"
   ]
  },
  {
   "cell_type": "code",
   "execution_count": null,
   "metadata": {
    "collapsed": false
   },
   "outputs": [],
   "source": [
    "# You can see that when we run the for loop, Python looks at the indexes of the letters\n",
    "# in the string to iterate over\n",
    "\n",
    "for letter in alphabet:\n",
    "    print(alphabet.index(letter))\n",
    "    print(letter)\n",
    "    print()"
   ]
  },
  {
   "cell_type": "markdown",
   "metadata": {},
   "source": [
    "**Question - How would you get the last element of the list? **"
   ]
  },
  {
   "cell_type": "code",
   "execution_count": null,
   "metadata": {
    "collapsed": false
   },
   "outputs": [],
   "source": [
    "# How can we get the z from the alphabet variable?\n",
    "print(alphabet[])"
   ]
  },
  {
   "cell_type": "markdown",
   "metadata": {},
   "source": [
    "#### Formatting strings"
   ]
  },
  {
   "cell_type": "markdown",
   "metadata": {},
   "source": [
    "Often when you are creating strings, you might want some part to be flexible or change in some way. You can do that with the `.format()` function."
   ]
  },
  {
   "cell_type": "code",
   "execution_count": null,
   "metadata": {
    "collapsed": false
   },
   "outputs": [],
   "source": [
    "# This us how you read input from a user\n",
    "name = input('Input name: ')\n",
    "\n",
    "# Now use the {} to leave some parts of the string blank and fill them in later\n",
    "var = 'Hello! My name is {}'.format(name)\n",
    "print(var)"
   ]
  },
  {
   "cell_type": "markdown",
   "metadata": {},
   "source": [
    "**Question - Write some code which asks a user for their birthday day, month and year separately and print the result formatted together**"
   ]
  },
  {
   "cell_type": "code",
   "execution_count": null,
   "metadata": {
    "collapsed": false
   },
   "outputs": [],
   "source": [
    "# TO DO - Make 3 input requests to the user and format the result together as 1 string\n",
    "\n",
    "\n",
    "# END TO DO"
   ]
  },
  {
   "cell_type": "markdown",
   "metadata": {},
   "source": [
    "#### Escape characters"
   ]
  },
  {
   "cell_type": "markdown",
   "metadata": {},
   "source": [
    "String formatting includes special characters to make more complicated strings easy. These are always denoted with the \\ character and are referred to as escape characters.\n",
    "\n",
    "Common escape characters you might use will be newline `\\n` or tab space `\\t`. You also use the backslash to put quotes inside your string, like this \\\". If you are interested more in all the escape chars for Python look [here](http://python-reference.readthedocs.io/en/latest/docs/str/escapes.html)"
   ]
  },
  {
   "cell_type": "code",
   "execution_count": null,
   "metadata": {
    "collapsed": false
   },
   "outputs": [],
   "source": [
    "n_string = 'This\\nis\\na\\nmulti\\nline\\nstring\\n'\n",
    "print(n_string)\n",
    "\n",
    "t_string = 'This\\tstring\\thas\\ttab\\tspaces\\n'\n",
    "print(t_string)\n",
    "\n",
    "q_string = '\\\"This string is inside quotes\\\"'\n",
    "print(q_string)"
   ]
  },
  {
   "cell_type": "markdown",
   "metadata": {},
   "source": [
    "#### String methods"
   ]
  },
  {
   "cell_type": "markdown",
   "metadata": {},
   "source": [
    "Some maths operations work on strings, and strings have some of their own methods which are specifically for working with variables made of characters."
   ]
  },
  {
   "cell_type": "code",
   "execution_count": 107,
   "metadata": {
    "collapsed": false
   },
   "outputs": [
    {
     "name": "stdout",
     "output_type": "stream",
     "text": [
      "HelloPython\n",
      "Hello Python\n",
      "HelloHelloHello\n",
      "True\n",
      "HELLO\n",
      "python\n",
      "I'm really more of a dog person\n",
      "True\n",
      "True\n",
      "26\n"
     ]
    }
   ],
   "source": [
    "string1 = 'Hello'\n",
    "string2 = 'Python'\n",
    "\n",
    "# Add two strings together\n",
    "print(string1 + string2)\n",
    "\n",
    "# Another way to do this is using .join\n",
    "print(' '.join([string1,string2]))\n",
    "\n",
    "# Repetition using the * multiplication operator\n",
    "print(string1*3) \n",
    "\n",
    "# Remember the membership `in` keyword\n",
    "print('o' in string1)\n",
    "\n",
    "# You can make all characters uppercase\n",
    "print(string1.upper())\n",
    "\n",
    "# Or all lowercase\n",
    "print(string2.lower())\n",
    "\n",
    "# You can also search for patterns and replace characters\n",
    "string3 = 'I\\'m really more of a cat person'\n",
    "print(string3.replace('cat','dog'))\n",
    "\n",
    "# You can check if a string of a number is a number or not\n",
    "print('12345'.isdigit())\n",
    "\n",
    "# Or check if a string is only made of alphabet characters\n",
    "print('alphabet'.isalpha())\n",
    "\n",
    "# Get the length of a string\n",
    "print(len(alphabet))"
   ]
  },
  {
   "cell_type": "markdown",
   "metadata": {},
   "source": [
    "#### Triple quotes and multi line strings"
   ]
  },
  {
   "cell_type": "code",
   "execution_count": null,
   "metadata": {
    "collapsed": false
   },
   "outputs": [],
   "source": [
    "# To make big strings you use three quote marks\n",
    "\n",
    "big_string = '''Mr. and Mrs. Dursley, of number four, Privet Drive, were proud to say\n",
    "                that they were perfectly normal, thank you very much. They were the last\n",
    "                people you'd expect to be involved in anything strange or mysterious,\n",
    "                because they just didn't hold with such nonsense.'''\n",
    "\n",
    "# And Python will join strings declared over multiple lines together\n",
    "multi_line_string = 'Hello my name is Tom ' \\\n",
    "                    'my favourite colour is Blue ' \\\n",
    "                    'and I live in Earl\\'s Court'\n",
    "\n",
    "print(multi_line_string)"
   ]
  },
  {
   "cell_type": "markdown",
   "metadata": {},
   "source": [
    "A note on encoding: there are many different kinds of character encodings people have created. The standard for Python 3 is 'UTF-8' which isn't worth knowing until you try and read data which isn't in this encoding and then it gets messy. More info on encoding can be read [here](http://www.joelonsoftware.com/articles/Unicode.html)"
   ]
  },
  {
   "cell_type": "markdown",
   "metadata": {},
   "source": [
    "## File I/O"
   ]
  },
  {
   "cell_type": "markdown",
   "metadata": {},
   "source": [
    "Now that we are more comfortable with strings, I'm going to introduce the basics of reading and writing to files. Since a string can include (almost) any character they are always the default data type that the contents of a file are turned into when you import the data. If its numeric data like stock price changes, it's up to you to convert it to integer or float values!"
   ]
  },
  {
   "cell_type": "markdown",
   "metadata": {},
   "source": [
    "#### Opening a file for reading or writing"
   ]
  },
  {
   "cell_type": "markdown",
   "metadata": {},
   "source": [
    "When you run any Python script and you want to read or write to a file, the starting point is the `open()` statement. This looks for the file in the location you specify and takes a second argument depending on if you want to read of write to the file:\n",
    "* `open(FILEPATH,'r')` - Reading from the file\n",
    "* `open(FILEPATH,'rb')` - Reading from the file and writing\n",
    "* `open(FILEPATH,'w')` - Writing to the file, will overwrite old data\n",
    "* `open(FILEPATH,'a')` - Appending to the file, will add new data to the end of old data\n",
    "\n",
    "If you add a `b` to any of these args (i.e. `rb`) it will open the file in binary mode, this isn't used often but is safer sometimes if you don't know what type of data is in the file."
   ]
  },
  {
   "cell_type": "code",
   "execution_count": null,
   "metadata": {
    "collapsed": false
   },
   "outputs": [],
   "source": [
    "# NOTE: This code won't work unless you make a file called `test_data.txt` \n",
    "# in the same folder as this lesson\n",
    "\n",
    "file = open('test_data.txt','r')\n",
    "\n",
    "# The file is opened and has a \"handle\" which is the file variable for interaction\n",
    "type(file)"
   ]
  },
  {
   "cell_type": "markdown",
   "metadata": {},
   "source": [
    "#### Reading files"
   ]
  },
  {
   "cell_type": "markdown",
   "metadata": {},
   "source": [
    "There are two main ways to read the contents of a text file, either all at once or line by line"
   ]
  },
  {
   "cell_type": "code",
   "execution_count": null,
   "metadata": {
    "collapsed": false
   },
   "outputs": [],
   "source": [
    "file.read()"
   ]
  },
  {
   "cell_type": "code",
   "execution_count": null,
   "metadata": {
    "collapsed": false
   },
   "outputs": [],
   "source": [
    "file.readline()"
   ]
  },
  {
   "cell_type": "markdown",
   "metadata": {},
   "source": [
    "**Note**: When you read from a file in Python, the program remembers where you ended last time you read the file, so if you try and readline() after read(), you have read the whole file so you don't get anything back"
   ]
  },
  {
   "cell_type": "markdown",
   "metadata": {},
   "source": [
    "##### Reading line by line"
   ]
  },
  {
   "cell_type": "code",
   "execution_count": null,
   "metadata": {
    "collapsed": false
   },
   "outputs": [],
   "source": [
    "file = open('test_data.txt','r') # Reopen to set the file handle to the beginning of the text\n",
    "\n",
    "# This loop calls .readline() automatically\n",
    "for line in file:\n",
    "    print(line)"
   ]
  },
  {
   "cell_type": "markdown",
   "metadata": {},
   "source": [
    "#### Writing files"
   ]
  },
  {
   "cell_type": "markdown",
   "metadata": {},
   "source": [
    "The .write() function does the opposite of .read(). If you give .write() a string to write, this will get put inside the file"
   ]
  },
  {
   "cell_type": "code",
   "execution_count": null,
   "metadata": {
    "collapsed": false
   },
   "outputs": [],
   "source": [
    "# You use open() to create a new file even if it did not already exist\n",
    "\n",
    "file2 = open('write_data.txt','w+')\n",
    "\n",
    "file2.write('this is a text file\\n')\n",
    "file2.write('test file for a python class\\n')\n",
    "\n",
    "# The number of chars written to the file is the return value"
   ]
  },
  {
   "cell_type": "code",
   "execution_count": null,
   "metadata": {
    "collapsed": false
   },
   "outputs": [],
   "source": [
    "# Since we used w+ we can read the file to check what we created\n",
    "for line in file2:\n",
    "    print(line)"
   ]
  },
  {
   "cell_type": "markdown",
   "metadata": {},
   "source": [
    "#### Closing files"
   ]
  },
  {
   "cell_type": "markdown",
   "metadata": {},
   "source": [
    "When you are done using your files, you should close them so that the Python programme no longer has access as so:"
   ]
  },
  {
   "cell_type": "code",
   "execution_count": null,
   "metadata": {
    "collapsed": true
   },
   "outputs": [],
   "source": [
    "# This is important for file security so nothing is corrupted\n",
    "\n",
    "file.close()\n",
    "file2.close()"
   ]
  },
  {
   "cell_type": "markdown",
   "metadata": {},
   "source": [
    "#### Context managers"
   ]
  },
  {
   "cell_type": "markdown",
   "metadata": {},
   "source": [
    "There is a way around using the `close()` statement called a Context Manager. These use the `with` statement to create a code block, and the opened file is only used inside the code block. When you exit the contexted managed code block, the file is automatically closed."
   ]
  },
  {
   "cell_type": "code",
   "execution_count": null,
   "metadata": {
    "collapsed": false
   },
   "outputs": [],
   "source": [
    "# We could have read the file using a context manager like this\n",
    "\n",
    "with open('test_data.txt','r') as file:\n",
    "    # In this indented code block the file is open\n",
    "    for line in file:\n",
    "        print(line)\n",
    "        \n",
    "# No need to close the file! It's handled by the Python program now"
   ]
  },
  {
   "cell_type": "markdown",
   "metadata": {},
   "source": [
    "We've breezed over File IO for now but if you want to look more in detail the [TutorialsPoint](https://www.tutorialspoint.com/python/python_files_io.htm) page in this subject can give you more guidance if you are lost."
   ]
  },
  {
   "cell_type": "markdown",
   "metadata": {},
   "source": [
    "## Lists"
   ]
  },
  {
   "cell_type": "markdown",
   "metadata": {},
   "source": [
    "You have seen lists a few times before, but I haven't explained them until now. A list is a type of \"Data Structure\" i.e. a specific frame for organising items of data. \n",
    "\n",
    "A list is declared as so:\n",
    "```\n",
    "list1 = [a,b,c,d,e,f]\n",
    "```\n",
    "Each item in the list is seperated by a comma, the data in each item can be any type, including another list. A list is an iterable object, and in fact you will come to see you can treat a string and a list very similarly! Just think a string as a list of characters\n",
    "```\n",
    "str = 'hello'\n",
    "lis = ['h','e','l','l','o']\n",
    "```\n",
    "\n",
    "The other main Python data structures we will look at next week are tuples, dicts and sets."
   ]
  },
  {
   "cell_type": "markdown",
   "metadata": {},
   "source": [
    "#### Declaring a list"
   ]
  },
  {
   "cell_type": "code",
   "execution_count": 99,
   "metadata": {
    "collapsed": false
   },
   "outputs": [
    {
     "name": "stdout",
     "output_type": "stream",
     "text": [
      "[1, 2, 5, 5, 6]\n",
      "\n",
      "['hello', 4e-06, 45]\n"
     ]
    }
   ],
   "source": [
    "# Declaring a list\n",
    "list1 = [1,2,5,5,6]\n",
    "\n",
    "# A list can have different types inside each element\n",
    "list2 = list(('hello',4e-6,45))\n",
    "\n",
    "print(list1)\n",
    "print()\n",
    "print(list2)"
   ]
  },
  {
   "cell_type": "markdown",
   "metadata": {},
   "source": [
    "#### Indexing a list (it's just like indexing a string!)"
   ]
  },
  {
   "cell_type": "code",
   "execution_count": 97,
   "metadata": {
    "collapsed": false
   },
   "outputs": [
    {
     "name": "stdout",
     "output_type": "stream",
     "text": [
      "1\n",
      "[4e-06, 45]\n"
     ]
    }
   ],
   "source": [
    "print(list1[0])\n",
    "\n",
    "print(list2[1:3])"
   ]
  },
  {
   "cell_type": "markdown",
   "metadata": {},
   "source": [
    "#### Iterating over a list"
   ]
  },
  {
   "cell_type": "code",
   "execution_count": 100,
   "metadata": {
    "collapsed": false
   },
   "outputs": [
    {
     "name": "stdout",
     "output_type": "stream",
     "text": [
      "hello\n",
      "4e-06\n",
      "45\n"
     ]
    }
   ],
   "source": [
    "# Exactly the same as reading a file or printing all the chars in a string\n",
    "for elem in list2:\n",
    "    print(elem)"
   ]
  },
  {
   "cell_type": "markdown",
   "metadata": {},
   "source": [
    "#### Modifying a list"
   ]
  },
  {
   "cell_type": "markdown",
   "metadata": {},
   "source": [
    "Elements of a list can be changed after declaration"
   ]
  },
  {
   "cell_type": "code",
   "execution_count": 108,
   "metadata": {
    "collapsed": false
   },
   "outputs": [
    {
     "name": "stdout",
     "output_type": "stream",
     "text": [
      "[1, 2, 5, 5, 6]\n",
      "[1, 2, 5, 5, 5000]\n"
     ]
    }
   ],
   "source": [
    "print(list1)\n",
    "list1[-1] = 5000 # Use the -1 indexing the same as strings to get the end element\n",
    "print(list1)"
   ]
  },
  {
   "cell_type": "markdown",
   "metadata": {},
   "source": [
    "You can also delete elements and add to the end"
   ]
  },
  {
   "cell_type": "code",
   "execution_count": 110,
   "metadata": {
    "collapsed": false
   },
   "outputs": [
    {
     "name": "stdout",
     "output_type": "stream",
     "text": [
      "[1, 2, 5, 5]\n",
      "[1, 2, 5, 5, 6]\n"
     ]
    }
   ],
   "source": [
    "# Remove the end item\n",
    "del list1[-1]\n",
    "print(list1)\n",
    "\n",
    "# Add a new element to the end\n",
    "list1.append(6)\n",
    "print(list1)"
   ]
  },
  {
   "cell_type": "code",
   "execution_count": 111,
   "metadata": {
    "collapsed": false
   },
   "outputs": [
    {
     "name": "stdout",
     "output_type": "stream",
     "text": [
      "5\n"
     ]
    }
   ],
   "source": [
    "# You can also use len() to get the size of a list\n",
    "print(len(list1))"
   ]
  },
  {
   "cell_type": "markdown",
   "metadata": {},
   "source": [
    "**Problem - Print the list in reverse order using a for loop**\n",
    "\n",
    "[Here's a tip](https://docs.python.org/3/library/functions.html#reversed)"
   ]
  },
  {
   "cell_type": "code",
   "execution_count": 115,
   "metadata": {
    "collapsed": false
   },
   "outputs": [
    {
     "name": "stdout",
     "output_type": "stream",
     "text": [
      "10\n",
      "9\n",
      "8\n",
      "7\n",
      "6\n",
      "5\n",
      "4\n",
      "3\n",
      "2\n",
      "1\n"
     ]
    }
   ],
   "source": [
    "# TO DO - Print this list in reverse order\n",
    "\n",
    "\n",
    "\n",
    "# END TO DO"
   ]
  },
  {
   "cell_type": "markdown",
   "metadata": {},
   "source": [
    "## List comprehensions"
   ]
  },
  {
   "cell_type": "markdown",
   "metadata": {},
   "source": [
    "#### Why use a comprehension?\n",
    "\n",
    "These are one of my favourite features of the Python language. A list comprehension is a very readable way to run some operation on a list in one line of code. If you haven't quite understood today's lesson so far, get comfortable with that part first and revisit this later. You certainly won't ever NEED to use a list comprehension, but it will make for shorter code that shows you know what you are doing"
   ]
  },
  {
   "cell_type": "markdown",
   "metadata": {},
   "source": [
    "#### Converting a list of temperatures\n",
    "\n",
    "Imagine you have a list of temperatures in Celsius and you need to convert all the temperatures to Fahrenheit. The obvious way to do this is using a `for` loop"
   ]
  },
  {
   "cell_type": "code",
   "execution_count": 120,
   "metadata": {
    "collapsed": false
   },
   "outputs": [
    {
     "name": "stdout",
     "output_type": "stream",
     "text": [
      "[39.2, 36.5, 37.3, 37.8]\n",
      "[102.56, 97.7, 99.14, 100.03999999999999]\n"
     ]
    }
   ],
   "source": [
    "celsius = [39.2, 36.5, 37.3, 37.8]\n",
    "print(celsius)\n",
    "fahrenheit = [] #Declaring an empty list\n",
    "\n",
    "for temp in celsius:\n",
    "    fahrenheit.append(float(9)/5*temp + 32)\n",
    "\n",
    "print(fahrenheit)    "
   ]
  },
  {
   "cell_type": "markdown",
   "metadata": {},
   "source": [
    "This is a small example where the `for` loop code is only two lines so the advantage is small. But you can actually do all of this in 1 line!"
   ]
  },
  {
   "cell_type": "code",
   "execution_count": 122,
   "metadata": {
    "collapsed": false
   },
   "outputs": [
    {
     "name": "stdout",
     "output_type": "stream",
     "text": [
      "[102.56, 97.7, 99.14, 100.03999999999999]\n"
     ]
    }
   ],
   "source": [
    "# The version using a list comprehension\n",
    "fahrenheit2 = [float(9)/5*temp + 32 for temp in celsius]\n",
    "\n",
    "print(fahrenheit2)"
   ]
  },
  {
   "cell_type": "markdown",
   "metadata": {},
   "source": [
    "This is the basic version of the comprehension. You can also add conditions, like to only keep Celsius temperatures above 37"
   ]
  },
  {
   "cell_type": "code",
   "execution_count": 124,
   "metadata": {
    "collapsed": false
   },
   "outputs": [
    {
     "name": "stdout",
     "output_type": "stream",
     "text": [
      "[102.56, 99.14, 100.03999999999999]\n"
     ]
    }
   ],
   "source": [
    "fahrenheit3 = [float(9)/5*temp + 32 for temp in celsius if temp > 37]\n",
    "\n",
    "print(fahrenheit3)"
   ]
  },
  {
   "cell_type": "markdown",
   "metadata": {},
   "source": [
    "If we wanted to do this with loops we would have a `for` loop and an `if` statement. Now we have neither!"
   ]
  },
  {
   "cell_type": "markdown",
   "metadata": {},
   "source": [
    "#### Multiplying two lists"
   ]
  },
  {
   "cell_type": "code",
   "execution_count": 128,
   "metadata": {
    "collapsed": false
   },
   "outputs": [
    {
     "name": "stdout",
     "output_type": "stream",
     "text": [
      "[10, 40, 90, 160, 250]\n"
     ]
    }
   ],
   "source": [
    "ones = [1,2,3,4,5]\n",
    "tens = [10,20,30,40,50]\n",
    "\n",
    "# The zip function puts each indexed element in pairs, like the teeth of a zip being locked together.\n",
    "mult = [i*j for i,j in zip(ones,tens)]\n",
    "print(mult)"
   ]
  },
  {
   "cell_type": "markdown",
   "metadata": {},
   "source": [
    "#### Question - how to get a list of the first 10 square numbers?"
   ]
  },
  {
   "cell_type": "code",
   "execution_count": 130,
   "metadata": {
    "collapsed": false
   },
   "outputs": [
    {
     "name": "stdout",
     "output_type": "stream",
     "text": [
      "[1, 4, 9, 16, 25, 36, 49, 64, 81, 100]\n"
     ]
    }
   ],
   "source": [
    "# TODO - Can you do this using the range() function\n",
    "# we learnt last week and a list comprehension? \n",
    "\n",
    "\n",
    "\n",
    "# END TODO"
   ]
  }
 ],
 "metadata": {
  "kernelspec": {
   "display_name": "Python 3",
   "language": "python",
   "name": "python3"
  },
  "language_info": {
   "codemirror_mode": {
    "name": "ipython",
    "version": 3
   },
   "file_extension": ".py",
   "mimetype": "text/x-python",
   "name": "python",
   "nbconvert_exporter": "python",
   "pygments_lexer": "ipython3",
   "version": "3.5.2"
  }
 },
 "nbformat": 4,
 "nbformat_minor": 0
}
