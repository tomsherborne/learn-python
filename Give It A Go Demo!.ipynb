{
 "cells": [
  {
   "cell_type": "markdown",
   "metadata": {},
   "source": [
    "# LSESU Applicable Maths Give It A Go Python Demo"
   ]
  },
  {
   "cell_type": "markdown",
   "metadata": {},
   "source": [
    "This is some slightly more advanced Python to what we will do in the first 2 weeks.\n",
    "\n",
    "By the end of the course you will be able to do all of this and more!"
   ]
  },
  {
   "cell_type": "markdown",
   "metadata": {},
   "source": [
    "### Demo 1: Plotting the closing price and volatility of a stock in 5 lines"
   ]
  },
  {
   "cell_type": "markdown",
   "metadata": {},
   "source": [
    "First we have to import some \"libraries\", which is a fancy way of saying using something someone else already wrote"
   ]
  },
  {
   "cell_type": "code",
   "execution_count": null,
   "metadata": {
    "collapsed": true
   },
   "outputs": [],
   "source": [
    "# -*- coding: utf-8 -*-\n",
    "%matplotlib inline\n",
    "import numpy as np\n",
    "import pandas as pd\n",
    "from pandas_datareader import data as web\n",
    "import matplotlib as mpl\n",
    "import matplotlib.pyplot as plt\n",
    "import matplotlib.finance as mpf"
   ]
  },
  {
   "cell_type": "code",
   "execution_count": null,
   "metadata": {
    "collapsed": false
   },
   "outputs": [],
   "source": [
    "# Choose a stock\n",
    "ticker = 'GOOG'\n",
    "\n",
    "# Choose a start date in US format MM/DD/YYYY\n",
    "stock_start = '10/2/2014'\n",
    "# Choose an end date in US format MM/DD/YYYY\n",
    "stock_end = '10/2/2016'\n",
    "\n",
    "# Retrieve the Data from Google's Finance Database\n",
    "stock = web.DataReader(ticker,data_source='google',\n",
    "                       start = stock_start,end=stock_end)\n",
    "\n",
    "# Print a table of the Data to see what we have just fetched\n",
    "stock.tail()"
   ]
  },
  {
   "cell_type": "code",
   "execution_count": null,
   "metadata": {
    "collapsed": false
   },
   "outputs": [],
   "source": [
    "# Generate the logarithm of the ratio between each days closing price\n",
    "stock['Log_Ret'] = np.log(stock['Close']/stock['Close'].shift(1))\n",
    "\n",
    "# Generate the rolling standard deviation across the time series data\n",
    "stock['Volatility'] = pd.rolling_std(stock['Log_Ret'],window=100)*np.sqrt(100)"
   ]
  },
  {
   "cell_type": "code",
   "execution_count": null,
   "metadata": {
    "collapsed": false
   },
   "outputs": [],
   "source": [
    "# Create a plot of changing Closing Price and Volatility\n",
    "stock[['Close','Volatility']].plot(subplots=True,color='b',figsize=(8,6))"
   ]
  },
  {
   "cell_type": "markdown",
   "metadata": {},
   "source": [
    "### Demo 2: Plotting a candlestick chart for any stock in 11 lines of code"
   ]
  },
  {
   "cell_type": "code",
   "execution_count": null,
   "metadata": {
    "collapsed": false
   },
   "outputs": [],
   "source": [
    "# Choose a start and end date in a slightly different format to before (YYYY/MM/DD)\n",
    "start = (2015, 10, 2)\n",
    "end = (2016, 4,2)\n",
    "company = \"S&P 500\"\n",
    "ticker = \"^GSPC\"\n",
    "quotes = mpf.quotes_historical_yahoo_ohlc(ticker, start, end)\n",
    "print(quotes[:2])"
   ]
  },
  {
   "cell_type": "code",
   "execution_count": null,
   "metadata": {
    "collapsed": false
   },
   "outputs": [],
   "source": [
    "# We use Matplotlib to generate plots\n",
    "\n",
    "fig, ax = plt.subplots(figsize=(8, 5))\n",
    "fig.subplots_adjust(bottom=0.2)\n",
    "mpf.candlestick_ohlc(ax, quotes, width=0.6, colorup='b', colordown='r')\n",
    "# Running this block produces an ugly output"
   ]
  },
  {
   "cell_type": "code",
   "execution_count": null,
   "metadata": {
    "collapsed": false
   },
   "outputs": [],
   "source": [
    "# We can try again with some fancier formatting tricks\n",
    "\n",
    "fig, ax = plt.subplots(figsize=(8, 5))\n",
    "fig.subplots_adjust(bottom=0.2)\n",
    "\n",
    "mpf.candlestick_ohlc(ax, quotes, width=0.6, colorup='b', colordown='r')\n",
    "\n",
    "# Adding some formatting sugar\n",
    "plt.title(\"Candlestick Chart for \"+company+\" (\"+ticker+\")\"+\" \"+str(start)+\" to \"+str(end))\n",
    "plt.grid(True) # Set a title\n",
    "ax.xaxis_date() # dates on the x-axis\n",
    "ax.autoscale_view() #Scale the image\n",
    "plt.setp(plt.gca().get_xticklabels(), rotation=30) # Format labels\n"
   ]
  },
  {
   "cell_type": "markdown",
   "metadata": {},
   "source": [
    "Complete Code for Demo 1"
   ]
  },
  {
   "cell_type": "code",
   "execution_count": null,
   "metadata": {
    "collapsed": false
   },
   "outputs": [],
   "source": [
    "# -*- coding: utf-8 -*-\n",
    "%matplotlib inline\n",
    "import numpy as np\n",
    "import pandas as pd\n",
    "from pandas_datareader import data as web\n",
    "\n",
    "# Choose a stock\n",
    "ticker = 'GOOG'\n",
    "\n",
    "# Choose a start date in US format MM/DD/YYYY\n",
    "stock_start = '10/2/2015'\n",
    "# Choose an end date in US format MM/DD/YYYY\n",
    "stock_end = '10/2/2016'\n",
    "\n",
    "# Retrieve the Data from Google's Finance Database\n",
    "stock = web.DataReader(ticker,data_source='google',\n",
    "                       start = stock_start,end=stock_end)\n",
    "\n",
    "# Generate the logarithm of the ratio between each days closing price\n",
    "stock['Log_Ret'] = np.log(stock['Close']/stock['Close'].shift(1))\n",
    "\n",
    "# Generate the rolling standard deviation across the time series data\n",
    "stock['Volatility'] = pd.rolling_std(stock['Log_Ret'],window=252)*np.sqrt(252)\n",
    "\n",
    "google[['Close','Volatility']].plot(subplots=True,color='b',figsize=(8,6))"
   ]
  },
  {
   "cell_type": "markdown",
   "metadata": {},
   "source": [
    "Complete Code for Demo 2"
   ]
  },
  {
   "cell_type": "code",
   "execution_count": null,
   "metadata": {
    "collapsed": false
   },
   "outputs": [],
   "source": [
    "# -*- coding: utf-8 -*-\n",
    "%matplotlib inline\n",
    "import numpy as np\n",
    "import matplotlib as mpl\n",
    "import matplotlib.pyplot as plt\n",
    "import matplotlib.finance as mpf\n",
    "\n",
    "start = (2015, 10, 2)\n",
    "end = (2016, 4,2)\n",
    "company = \"S&P 500\"\n",
    "ticker = \"^GSPC\"\n",
    "quotes = mpf.quotes_historical_yahoo_ohlc(ticker, start, end)\n",
    "print(quotes[:2])\n",
    "\n",
    "fig, ax = plt.subplots(figsize=(8, 5))\n",
    "fig.subplots_adjust(bottom=0.2)\n",
    "\n",
    "mpf.candlestick_ohlc(ax, quotes, width=0.6, colorup='b', colordown='r')\n",
    "\n",
    "plt.title(\"Candlestick Chart for \"+company+\" (\"+ticker+\")\"+\" \"+str(start)+\" to \"+str(end))\n",
    "plt.grid(True) # Set a title\n",
    "ax.xaxis_date() # dates on the x-axis\n",
    "ax.autoscale_view() #Scale the image\n",
    "plt.setp(plt.gca().get_xticklabels(), rotation=30) # Format labels\n"
   ]
  },
  {
   "cell_type": "markdown",
   "metadata": {},
   "source": [
    "Demos from [Python In Finance](https://www.amazon.co.uk/Python-Finance-Analyze-Financial-Data/dp/1491945281)"
   ]
  },
  {
   "cell_type": "code",
   "execution_count": null,
   "metadata": {
    "collapsed": true
   },
   "outputs": [],
   "source": []
  }
 ],
 "metadata": {
  "anaconda-cloud": {},
  "kernelspec": {
   "display_name": "Python [conda env:lse]",
   "language": "python",
   "name": "conda-env-lse-py"
  },
  "language_info": {
   "codemirror_mode": {
    "name": "ipython",
    "version": 3
   },
   "file_extension": ".py",
   "mimetype": "text/x-python",
   "name": "python",
   "nbconvert_exporter": "python",
   "pygments_lexer": "ipython3",
   "version": "3.5.2"
  }
 },
 "nbformat": 4,
 "nbformat_minor": 1
}
