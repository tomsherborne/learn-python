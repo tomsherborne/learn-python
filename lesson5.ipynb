{
 "cells": [
  {
   "cell_type": "markdown",
   "metadata": {},
   "source": [
    "## LSESU Applicable Maths Python Lesson 5\n",
    "###### 22/11/16"
   ]
  },
  {
   "cell_type": "markdown",
   "metadata": {},
   "source": [
    "http://www.lsesumaths.com/uploads/4/5/7/6/45764893/lse_applicable_mathematics_-_python_-_lecture_4__2_.pdf\n",
    "\n"
   ]
  },
  {
   "cell_type": "markdown",
   "metadata": {
    "collapsed": true
   },
   "source": [
    "Today we will be learning about\n",
    "* Introductory Object Oriented Programming (OOP)\n",
    "    * What is a class?\n",
    "    * Creating a class and initialising the class\n",
    "    * Methods of a class\n",
    "    * Magic Methods\n",
    "    * Using a class in a program\n",
    "* A peek at Inheritance"
   ]
  },
  {
   "cell_type": "markdown",
   "metadata": {},
   "source": [
    "** Recap from Week 4**\n",
    "\n",
    "* Lists\n",
    "* Tuples\n",
    "\n",
    "```\n",
    "def my_swap_function(a,b):\n",
    "    return (b,a)\n",
    "```\n",
    "\n",
    "* Dictionaries\n",
    "\n",
    "```\n",
    "for country in europe:\n",
    "    if country['speak_german']:\n",
    "        for key, value in country.items():\n",
    "            print('{}\\t{}'.format(key,value))\n",
    "        print()\n",
    "\n",
    "```"
   ]
  },
  {
   "cell_type": "markdown",
   "metadata": {},
   "source": [
    "## OOP in Python - \"Everything is an object\""
   ]
  },
  {
   "cell_type": "markdown",
   "metadata": {},
   "source": [
    "Object Oriented structure is one of the most popular way people who write software will develop a program. You might have also heard of Functional or Dynamic programming which have their own benefits but we will only focus on OOP. Before we start writing any code, we have to go through [some definitions](https://www.tutorialspoint.com/python/python_classes_objects.htm)."
   ]
  },
  {
   "cell_type": "code",
   "execution_count": null,
   "metadata": {
    "collapsed": true
   },
   "outputs": [],
   "source": []
  },
  {
   "cell_type": "markdown",
   "metadata": {},
   "source": [
    "### Creating a class"
   ]
  },
  {
   "cell_type": "code",
   "execution_count": null,
   "metadata": {
    "collapsed": true
   },
   "outputs": [],
   "source": []
  },
  {
   "cell_type": "code",
   "execution_count": null,
   "metadata": {
    "collapsed": true
   },
   "outputs": [],
   "source": []
  },
  {
   "cell_type": "markdown",
   "metadata": {},
   "source": [
    "### Initialising a class with a constructor"
   ]
  },
  {
   "cell_type": "code",
   "execution_count": null,
   "metadata": {
    "collapsed": true
   },
   "outputs": [],
   "source": []
  },
  {
   "cell_type": "code",
   "execution_count": null,
   "metadata": {
    "collapsed": true
   },
   "outputs": [],
   "source": []
  },
  {
   "cell_type": "markdown",
   "metadata": {},
   "source": [
    "### Creating methods of a class"
   ]
  },
  {
   "cell_type": "code",
   "execution_count": null,
   "metadata": {
    "collapsed": true
   },
   "outputs": [],
   "source": []
  },
  {
   "cell_type": "code",
   "execution_count": null,
   "metadata": {
    "collapsed": true
   },
   "outputs": [],
   "source": []
  },
  {
   "cell_type": "markdown",
   "metadata": {},
   "source": [
    "### Magic Methods"
   ]
  },
  {
   "cell_type": "markdown",
   "metadata": {},
   "source": [
    "A detailed list of the definitions of the different kind of Magic Methods can be found [here](http://www.python-course.eu/python3_magic_methods.php)"
   ]
  },
  {
   "cell_type": "code",
   "execution_count": null,
   "metadata": {
    "collapsed": true
   },
   "outputs": [],
   "source": []
  },
  {
   "cell_type": "markdown",
   "metadata": {},
   "source": [
    "### Challenge for today\n",
    " \n",
    "* **Create a class Human() which has attributes 'name', 'age' and 'height' (in centimetres). **\n",
    "* **Add a constructor to the class to be able to create Human objects in a program.**\n",
    "* **Add magic methods to the class to be able to compare Humans by age**\n",
    "* **Add a method to class Human() to return the age of the Human in Dog years (1 human year = 7 dog years)**\n",
    "\n",
    "The definition is given to you, the final block of code is the Test block. **Do not modify the test block**, use it to test your code, running it when you think your class is ready."
   ]
  },
  {
   "cell_type": "code",
   "execution_count": 24,
   "metadata": {
    "collapsed": false
   },
   "outputs": [],
   "source": []
  },
  {
   "cell_type": "markdown",
   "metadata": {},
   "source": [
    "This is the test block, run this to evaluate your code."
   ]
  },
  {
   "cell_type": "code",
   "execution_count": 31,
   "metadata": {
    "collapsed": false
   },
   "outputs": [
    {
     "name": "stdout",
     "output_type": "stream",
     "text": [
      "Joe\n",
      "23\n",
      "160\n",
      "All your attributes are working correctly!\n",
      "\n",
      "True\n",
      "True\n",
      "True\n",
      "False\n",
      "True\n",
      "All your magic methods are working correctly!\n",
      "\n",
      "Joe's age in dog years is 133\n",
      "Lisa's age in dog years is 161\n",
      "Chu's age in dog years is 161\n",
      "Your method is working correctly!\n",
      "\n",
      "Congratulations! Your class is all correct!\n"
     ]
    }
   ],
   "source": [
    "joe = Human('Joe',19,174)\n",
    "lisa = Human('Lisa',23,181)\n",
    "chu = Human('Chu',23,160)\n",
    "\n",
    "# Test the attributes set by the Constructor\n",
    "try:\n",
    "    print(joe.name)\n",
    "    print(lisa.age)\n",
    "    print(chu.height)\n",
    "except AttributeError as e:\n",
    "    print('Your attributes are not working correctly :(\\n')\n",
    "else:\n",
    "    print('All your attributes are working correctly!\\n')\n",
    "    \n",
    "# Test the Magic methods \n",
    "try:\n",
    "    print(joe < lisa)\n",
    "    print(lisa <= lisa)\n",
    "    print(chu == lisa)\n",
    "    print(joe > chu)\n",
    "    print(lisa >= chu)\n",
    "except TypeError as e:\n",
    "    print('Your magic methods are not working correctly :(\\n')\n",
    "else:\n",
    "    print('All your magic methods are working correctly!\\n')\n",
    "    \n",
    "# Test the age_in_dog_years() function\n",
    "try:\n",
    "    print('{}\\'s age in dog years is {}'.format(joe.name,joe.age_in_dog_years()))\n",
    "    print('{}\\'s age in dog years is {}'.format(lisa.name,lisa.age_in_dog_years()))\n",
    "    print('{}\\'s age in dog years is {}'.format(chu.name,chu.age_in_dog_years()))\n",
    "except AttributeError as e:\n",
    "    print('Your method is not working correctly :(\\n')\n",
    "else:\n",
    "    print('Your method is working correctly!\\n')\n",
    "    print('Congratulations! Your class is all correct!')"
   ]
  }
 ],
 "metadata": {
  "kernelspec": {
   "display_name": "Python 3",
   "language": "python",
   "name": "python3"
  },
  "language_info": {
   "codemirror_mode": {
    "name": "ipython",
    "version": 3
   },
   "file_extension": ".py",
   "mimetype": "text/x-python",
   "name": "python",
   "nbconvert_exporter": "python",
   "pygments_lexer": "ipython3",
   "version": "3.5.2"
  }
 },
 "nbformat": 4,
 "nbformat_minor": 0
}
