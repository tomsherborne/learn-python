{
 "cells": [
  {
   "cell_type": "markdown",
   "metadata": {},
   "source": [
    "## LSESU Applicable Maths Python Lesson 5\n",
    "###### 22/11/16"
   ]
  },
  {
   "cell_type": "markdown",
   "metadata": {
    "collapsed": true
   },
   "source": [
    "Today we will be learning about\n",
    "* Introductory Object Oriented Programming (OOP)\n",
    "    * What is a class?\n",
    "    * Creating a class and initialising the class\n",
    "    * Methods of a class\n",
    "    * Magic Methods\n",
    "    * Using a class in a program\n",
    "* A peek at Inheritance"
   ]
  },
  {
   "cell_type": "markdown",
   "metadata": {},
   "source": [
    "** Recap from Week 4**\n",
    "\n",
    "* Lists\n",
    "* Tuples\n",
    "\n",
    "```\n",
    "def my_swap_function(a,b):\n",
    "    return (b,a)\n",
    "```\n",
    "\n",
    "* Dictionaries\n",
    "\n",
    "```\n",
    "for country in europe:\n",
    "    if country['speak_german']:\n",
    "        for key, value in country.items():\n",
    "            print('{}\\t{}'.format(key,value))\n",
    "        print()\n",
    "\n",
    "```"
   ]
  },
  {
   "cell_type": "markdown",
   "metadata": {},
   "source": [
    "## OOP in Python - \"Everything is an object\""
   ]
  },
  {
   "cell_type": "markdown",
   "metadata": {},
   "source": [
    "Object Oriented structure is one of the most popular way people who write software will develop a program. You might have also heard of Functional or Dynamic programming which have their own benefits but we will only focus on OOP. Before we start writing any code, we have to go through [some definitions](https://www.tutorialspoint.com/python/python_classes_objects.htm)."
   ]
  },
  {
   "cell_type": "code",
   "execution_count": 37,
   "metadata": {
    "collapsed": false
   },
   "outputs": [
    {
     "data": {
      "text/plain": [
       "list"
      ]
     },
     "execution_count": 37,
     "metadata": {},
     "output_type": "execute_result"
    }
   ],
   "source": [
    "# We've interacted with objects and classes before when we used the type() function\n",
    "\n",
    "my_list = [1,2,3,4,5]\n",
    "type(my_list)"
   ]
  },
  {
   "cell_type": "code",
   "execution_count": 43,
   "metadata": {
    "collapsed": false
   },
   "outputs": [
    {
     "name": "stdout",
     "output_type": "stream",
     "text": [
      "dict_items([('favourite_subject', 'Maths'), ('name', 'Hilbert Space'), ('age', 154)])\n",
      "\n",
      "favourite_subject:\tMaths\n",
      "name:\tHilbert Space\n",
      "age:\t154\n"
     ]
    }
   ],
   "source": [
    "# We looked at class methods before when using the .items() method of a dictionary\n",
    "\n",
    "my_dict = {'name':'Hilbert Space','age':154,'favourite_subject':'Maths'}\n",
    "\n",
    "print(my_dict.items())\n",
    "print()\n",
    "\n",
    "for key,value in my_dict.items():\n",
    "    print('{}:\\t{}'.format(key,value))"
   ]
  },
  {
   "cell_type": "markdown",
   "metadata": {},
   "source": [
    "### Creating a class"
   ]
  },
  {
   "cell_type": "markdown",
   "metadata": {},
   "source": [
    "Defining your own classes allows you to create a completely customisable data type for your own needs. This will be guided by the problem you are solving, you might need to create a class `Cell()` for a computational biology task, when you are modelling lots of kinds of cells. Or you might create a class `Location()` for a location extraction task, which stores the address, latitude and longtitude and many other features of a location (I've done something very similar to this working with production Python!).\n",
    "\n",
    "The formal definition we just looked at:\n",
    "    * Class: A user-defined prototype for an object that defines a set of attributes that characterize any object of the class. The attributes are data members (class variables and instance variables) and methods, accessed via dot notation.\n",
    "\n"
   ]
  },
  {
   "cell_type": "code",
   "execution_count": 57,
   "metadata": {
    "collapsed": false
   },
   "outputs": [
    {
     "name": "stdout",
     "output_type": "stream",
     "text": [
      "<__main__.Dog object at 0x1041b6240>\n"
     ]
    }
   ],
   "source": [
    "# Let me create a class Dog\n",
    "\n",
    "# This is the how you declare a class\n",
    "class Dog(object):\n",
    "    # You can then declare Data members of the class Dog()\n",
    "    name = ''\n",
    "    age = ''\n",
    "    breed = ''\n",
    "    animal = 'Dog'\n",
    "# Creating object of class Dog is now as easy as creating any of the standard variables\n",
    "my_dog = Dog()\n",
    "my_dog.name = 'Lucky'\n",
    "my_dog.age = '3'\n",
    "my_dog.breed = 'Golden Retriever'\n",
    "\n",
    "# This is not very useful at all, look at what happens when I print this...\n",
    "print(my_dog)"
   ]
  },
  {
   "cell_type": "markdown",
   "metadata": {},
   "source": [
    "### Initialising a class with a constructor"
   ]
  },
  {
   "cell_type": "markdown",
   "metadata": {},
   "source": [
    "We can initialise our class in a smarter way using a **constructor**, which means we can initialise the Dog() object on one line as below. \n",
    "\n",
    "The **self** keyword you see when making a class is the way that we refer to the specific instance of the class we want _inside_ the class itself."
   ]
  },
  {
   "cell_type": "code",
   "execution_count": 79,
   "metadata": {
    "collapsed": true
   },
   "outputs": [],
   "source": [
    "class Dog(object):\n",
    "    # You can then declare Data members of the class Dog()\n",
    "    animal = 'Dog'\n",
    "    \n",
    "    # This is similar to all the other functions you have written but the args start with self\n",
    "    def __init__(self,name,age,breed):\n",
    "            self.name = name\n",
    "            self.age = age\n",
    "            self.breed = breed"
   ]
  },
  {
   "cell_type": "code",
   "execution_count": 75,
   "metadata": {
    "collapsed": false
   },
   "outputs": [
    {
     "name": "stdout",
     "output_type": "stream",
     "text": [
      "Lucky\n",
      "Pembroke Corgi\n",
      "Dog\n",
      "Dog\n"
     ]
    }
   ],
   "source": [
    "# We now create 2 instances of the Dog class which will have unique names, ages and breeds\n",
    "my_dog = Dog('Lucky',3,'Golden Retriever')\n",
    "my_other_dog = Dog('Hamilton',2,'Pembroke Corgi')\n",
    "\n",
    "print(my_dog.name)\n",
    "print(my_other_dog.breed)\n",
    "\n",
    "# However the animal attribute is shared among ALL instances of the dog class\n",
    "print(my_dog.animal)\n",
    "print(my_other_dog.animal)"
   ]
  },
  {
   "cell_type": "code",
   "execution_count": 78,
   "metadata": {
    "collapsed": false
   },
   "outputs": [
    {
     "ename": "AttributeError",
     "evalue": "'Dog' object has no attribute '__animal'",
     "output_type": "error",
     "traceback": [
      "\u001b[0;31m---------------------------------------------------------------------------\u001b[0m",
      "\u001b[0;31mAttributeError\u001b[0m                            Traceback (most recent call last)",
      "\u001b[0;32m<ipython-input-78-9c8c51d0943f>\u001b[0m in \u001b[0;36m<module>\u001b[0;34m()\u001b[0m\n\u001b[1;32m     14\u001b[0m \u001b[0;34m\u001b[0m\u001b[0m\n\u001b[1;32m     15\u001b[0m \u001b[0;31m# This isn't going to work as the variable name is \"mangled\"\u001b[0m\u001b[0;34m\u001b[0m\u001b[0;34m\u001b[0m\u001b[0m\n\u001b[0;32m---> 16\u001b[0;31m \u001b[0mprint\u001b[0m\u001b[0;34m(\u001b[0m\u001b[0mmy_dog\u001b[0m\u001b[0;34m.\u001b[0m\u001b[0m__animal\u001b[0m\u001b[0;34m)\u001b[0m\u001b[0;34m\u001b[0m\u001b[0m\n\u001b[0m\u001b[1;32m     17\u001b[0m \u001b[0;34m\u001b[0m\u001b[0m\n\u001b[1;32m     18\u001b[0m \u001b[0;31m# You need a _ClassName before to get to the variable\u001b[0m\u001b[0;34m\u001b[0m\u001b[0;34m\u001b[0m\u001b[0m\n",
      "\u001b[0;31mAttributeError\u001b[0m: 'Dog' object has no attribute '__animal'"
     ]
    }
   ],
   "source": [
    "# We can also make the animal variable \"pseudo private\" so it is not easily accessible. \n",
    "# You won't ever really have to do this but it's a demonstration of how to get it done\n",
    "\n",
    "class Dog(object):\n",
    "    # The __ before the variable means someone cannot type my_dog.animal to get to it\n",
    "    __animal = 'Dog'\n",
    "    \n",
    "    def __init__(self,name,age,breed):\n",
    "            self.name = name\n",
    "            self.age = age\n",
    "            self.breed = breed\n",
    "            \n",
    "my_dog = Dog('Lucky',3,'Golden Retriever')\n",
    "\n",
    "# This isn't going to work as the variable name is \"mangled\"\n",
    "print(my_dog.__animal)\n",
    "\n",
    "# You need a _ClassName before to get to the variable\n",
    "print(my_dog._Dog__animal)"
   ]
  },
  {
   "cell_type": "markdown",
   "metadata": {},
   "source": [
    "### Creating methods of a class"
   ]
  },
  {
   "cell_type": "markdown",
   "metadata": {},
   "source": [
    "First things first. When we tried to print the Dog() class we didn't get something that was\n",
    "entirely useful. This is because when we want to print our own classes, we need to tell Python\n",
    "how to print it, and we do that using the `__str__` method. \n",
    "\n",
    "One note: the `__str__` method and the `__repr__` method are very similar. Keep in mind that `__repr__` is meant to be **unambiguous** and the `__str__` method is just meant to be readable"
   ]
  },
  {
   "cell_type": "code",
   "execution_count": 81,
   "metadata": {
    "collapsed": false
   },
   "outputs": [
    {
     "name": "stdout",
     "output_type": "stream",
     "text": [
      "Hi my name is Hamilton and I am a 2 year old Pembroke Corgi\n"
     ]
    }
   ],
   "source": [
    "class Dog(object):\n",
    "    __animal = 'Dog'\n",
    "    \n",
    "    def __init__(self,name,age,breed):\n",
    "            self.name = name\n",
    "            self.age = age\n",
    "            self.breed = breed\n",
    "            \n",
    "    def __str__(self):\n",
    "        return 'Hi my name is {} and I am a {} year old {}'.format(self.name,self.age,self.breed)\n",
    "    \n",
    "my_other_dog = Dog('Hamilton',2,'Pembroke Corgi')\n",
    "print(my_other_dog)"
   ]
  },
  {
   "cell_type": "markdown",
   "metadata": {},
   "source": [
    "Any method between the `__example__` double underscores is a special method called a magic method which we will look at further below. We can also define other methods as function attributes of the class which can take arguments like an isolated function"
   ]
  },
  {
   "cell_type": "code",
   "execution_count": 85,
   "metadata": {
    "collapsed": false
   },
   "outputs": [
    {
     "name": "stdout",
     "output_type": "stream",
     "text": [
      "Hi my name is Hamilton and I am a 2 year old Pembroke Corgi\n",
      "\n",
      "14\n",
      "\n",
      "That is not my favourite toy :(\n",
      "\n",
      "That is my favourite toy!\n"
     ]
    }
   ],
   "source": [
    "class Dog(object):\n",
    "    __animal = 'Dog'\n",
    "    \n",
    "    def __init__(self,name,age,breed,favourite_toy):\n",
    "            self.name = name\n",
    "            self.age = age\n",
    "            self.breed = breed\n",
    "            self.favourite_toy = favourite_toy\n",
    "            \n",
    "    def __str__(self):\n",
    "        return 'Hi my name is {} and I am a {} year old {}'.format(self.name,self.age,self.breed)\n",
    "    \n",
    "    def age_in_dog_years(self):\n",
    "        return 7*self.age\n",
    "    \n",
    "    def is_favourite_toy(self,toy):\n",
    "        if toy==self.favourite_toy:\n",
    "            return 'That is my favourite toy!'\n",
    "        else:\n",
    "            return 'That is not my favourite toy :('\n",
    "        \n",
    "my_other_dog = Dog('Hamilton',2,'Pembroke Corgi','Tennis Ball')\n",
    "print(my_other_dog)\n",
    "print()\n",
    "\n",
    "# We can access the method using dot notation\n",
    "print(my_other_dog.age_in_dog_years())\n",
    "print()\n",
    "\n",
    "# Methods of classes can also take arguments\n",
    "print(my_other_dog.is_favourite_toy('Stuffed Bear'))\n",
    "print()\n",
    "print(my_other_dog.is_favourite_toy('Tennis Ball'))"
   ]
  },
  {
   "cell_type": "markdown",
   "metadata": {},
   "source": [
    "### Magic Methods"
   ]
  },
  {
   "cell_type": "markdown",
   "metadata": {},
   "source": [
    "Magic methods (like `__str__`) are what allows your own classes to behave similarly to the Python built in types. Instinctively it is hard to image how to do `dog_a > dog_b`, but if we use magic methods then this behaviour is definable.\n",
    "\n",
    "A detailed list of the definitions of the different kind of Magic Methods can be found [here](http://www.python-course.eu/python3_magic_methods.php)"
   ]
  },
  {
   "cell_type": "code",
   "execution_count": 91,
   "metadata": {
    "collapsed": false
   },
   "outputs": [
    {
     "name": "stdout",
     "output_type": "stream",
     "text": [
      "False\n",
      "True\n",
      "False\n",
      "True\n"
     ]
    }
   ],
   "source": [
    "class Dog(object):\n",
    "    __animal = 'Dog'\n",
    "    \n",
    "    def __init__(self,name,age,breed,favourite_toy):\n",
    "            self.name = name\n",
    "            self.age = age\n",
    "            self.breed = breed\n",
    "            self.favourite_toy = favourite_toy\n",
    "           \n",
    "    # THESE ARE ALL MAGIC METHODS\n",
    "    def __str__(self):\n",
    "        return 'Hi my name is {} and I am a {} year old {}'.format(self.name,self.age,self.breed)\n",
    "    \n",
    "    # I've chosen to compare on a Dog's age but this is up to the designer of the class.\n",
    "    def __lt__(self,other):\n",
    "        return self.age < other.age\n",
    "    \n",
    "    def __le__(self,other):\n",
    "        return self.age <= other.age\n",
    "    \n",
    "    def __gt__(self,other):\n",
    "        return self.age > other.age\n",
    "    \n",
    "    def __ge__(self,other):\n",
    "        return self.age >= other.age    \n",
    "    \n",
    "    def __eq__(self,other):\n",
    "        return (self.age == other.age)and(self.name==other.name)and(self.breed==other.breed)\n",
    "    \n",
    "    def __ne__(self,other):\n",
    "        return not self==other\n",
    "    \n",
    "    # THESE ARE STANDARD ATTRIBUTE METHODS\n",
    "    def age_in_dog_years(self):\n",
    "        return 7*self.age\n",
    "    \n",
    "    def is_favourite_toy(self,toy):\n",
    "        if toy==self.favourite_toy:\n",
    "            return 'That is my favourite toy!'\n",
    "        else:\n",
    "            return 'That is not my favourite toy :('\n",
    "\n",
    "my_dog = Dog('Lucky',1,'Golden Retriever','Stick')\n",
    "my_other_dog = Dog('Hamilton',2,'Pembroke Corgi','Tennis Ball')\n",
    "my_other_other_dog = Dog('Socks',4,'Pug','Giant Pillow')\n",
    "\n",
    "print(my_dog > my_other_dog)\n",
    "print(my_dog <= my_other_other_dog)\n",
    "print(my_dog==my_other_dog)\n",
    "print(my_dog!=my_other_dog)"
   ]
  },
  {
   "cell_type": "markdown",
   "metadata": {},
   "source": [
    "### Challenge for today\n",
    " \n",
    "* **Create a class Human() which has attributes 'name', 'age' and 'height' (in centimetres). **\n",
    "* **Add a constructor to the class to be able to create Human objects in a program.**\n",
    "* **Add magic methods to the class to be able to compare Humans by age**\n",
    "* **Add a method to class Human() to return the age of the Human in Dog years (1 human year = 7 dog years)**\n",
    "\n",
    "The definition is given to you, the final block of code is the Test block. **Do not modify the test block**, use it to test your code, running it when you think your class is ready."
   ]
  },
  {
   "cell_type": "code",
   "execution_count": null,
   "metadata": {
    "collapsed": false
   },
   "outputs": [],
   "source": []
  },
  {
   "cell_type": "markdown",
   "metadata": {},
   "source": [
    "This is the test block, run this to evaluate your code."
   ]
  },
  {
   "cell_type": "code",
   "execution_count": null,
   "metadata": {
    "collapsed": false
   },
   "outputs": [],
   "source": [
    "joe = Human('Joe',19,174)\n",
    "lisa = Human('Lisa',23,181)\n",
    "chu = Human('Chu',23,160)\n",
    "\n",
    "# Test the attributes set by the Constructor\n",
    "try:\n",
    "    print(joe.name)\n",
    "    print(lisa.age)\n",
    "    print(chu.height)\n",
    "except AttributeError as e:\n",
    "    print('Your attributes are not working correctly :(\\n')\n",
    "else:\n",
    "    print('All your attributes are working correctly!\\n')\n",
    "    \n",
    "# Test the Magic methods \n",
    "try:\n",
    "    print(joe < lisa)\n",
    "    print(lisa <= lisa)\n",
    "    print(chu == lisa)\n",
    "    print(joe > chu)\n",
    "    print(lisa >= chu)\n",
    "except TypeError as e:\n",
    "    print('Your magic methods are not working correctly :(\\n')\n",
    "else:\n",
    "    print('All your magic methods are working correctly!\\n')\n",
    "    \n",
    "# Test the age_in_dog_years() function\n",
    "try:\n",
    "    print('{}\\'s age in dog years is {}'.format(joe.name,joe.age_in_dog_years()))\n",
    "    print('{}\\'s age in dog years is {}'.format(lisa.name,lisa.age_in_dog_years()))\n",
    "    print('{}\\'s age in dog years is {}'.format(chu.name,chu.age_in_dog_years()))\n",
    "except AttributeError as e:\n",
    "    print('Your method is not working correctly :(\\n')\n",
    "else:\n",
    "    print('Your method is working correctly!\\n')\n",
    "    print('Congratulations! Your class is all correct!')"
   ]
  }
 ],
 "metadata": {
  "kernelspec": {
   "display_name": "Python 3",
   "language": "python",
   "name": "python3"
  },
  "language_info": {
   "codemirror_mode": {
    "name": "ipython",
    "version": 3
   },
   "file_extension": ".py",
   "mimetype": "text/x-python",
   "name": "python",
   "nbconvert_exporter": "python",
   "pygments_lexer": "ipython3",
   "version": "3.5.2"
  }
 },
 "nbformat": 4,
 "nbformat_minor": 0
}
